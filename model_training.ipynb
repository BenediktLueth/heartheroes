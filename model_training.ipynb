{
 "cells": [
  {
   "cell_type": "markdown",
   "metadata": {},
   "source": [
    "# Model training"
   ]
  },
  {
   "cell_type": "markdown",
   "metadata": {},
   "source": [
    "## Import libraries"
   ]
  },
  {
   "cell_type": "markdown",
   "metadata": {},
   "source": [
    "The following command must be executed for balancing:\n",
    "\n",
    "```conda install -c conda-forge imbalanced-learn```"
   ]
  },
  {
   "cell_type": "code",
   "execution_count": null,
   "metadata": {
    "scrolled": false
   },
   "outputs": [],
   "source": [
    "%pip install -q -U imbalanced-learn"
   ]
  },
  {
   "cell_type": "code",
   "execution_count": 18,
   "metadata": {},
   "outputs": [],
   "source": [
    "from IPython.core.interactiveshell import InteractiveShell\n",
    "InteractiveShell.ast_node_interactivity = \"all\"\n"
   ]
  },
  {
   "cell_type": "code",
   "execution_count": 15,
   "metadata": {
    "scrolled": true
   },
   "outputs": [],
   "source": [
    "from enum import Enum\n",
    "import math\n",
    "\n",
    "\n",
    "from sklearn.model_selection import StratifiedKFold\n",
    "from sklearn.model_selection import GridSearchCV\n",
    "from sklearn.model_selection import train_test_split\n",
    "from sklearn.model_selection import learning_curve\n",
    "from sklearn.metrics import accuracy_score, f1_score, recall_score, precision_score, roc_curve, fbeta_score, make_scorer\n",
    "from sklearn.dummy import DummyClassifier\n",
    "from sklearn.neighbors import KNeighborsClassifier\n",
    "from sklearn.ensemble import RandomForestClassifier\n",
    "from sklearn.linear_model import LogisticRegression\n",
    "from sklearn.svm import SVC\n",
    "from sklearn.neural_network import MLPClassifier\n",
    "from sklearn.ensemble import GradientBoostingClassifier\n",
    "\n",
    "import pandas as pd\n",
    "import matplotlib.pyplot as plt\n",
    "import numpy as np\n",
    "import statsmodels.api as sm\n",
    "from scipy import stats\n",
    "from imblearn.over_sampling import RandomOverSampler\n"
   ]
  },
  {
   "cell_type": "code",
   "execution_count": 2,
   "metadata": {},
   "outputs": [],
   "source": [
    "# Tensorflow may not be installed on every system\n",
    "\n",
    "from keras.callbacks import EarlyStopping\n",
    "from tensorflow.keras.models import Sequential\n",
    "from tensorflow.keras.layers import Dense\n",
    "from tensorflow.keras.layers import Dropout\n",
    "from tensorflow.keras.layers import Input\n",
    "from scikeras.wrappers import KerasClassifier"
   ]
  },
  {
   "cell_type": "markdown",
   "metadata": {},
   "source": [
    "## Methods"
   ]
  },
  {
   "cell_type": "code",
   "execution_count": 13,
   "metadata": {},
   "outputs": [],
   "source": [
    "def truncate(number, digits) -> float:\n",
    "    # Helper method that truncate scores to four decimals\n",
    "    nbDecimals = len(str(number).split('.')[1])\n",
    "    if nbDecimals <= digits:\n",
    "        return number\n",
    "    stepper = 10.0 ** digits\n",
    "    return math.trunc(stepper * number) / stepper\n",
    "\n",
    "\n",
    "def get_nested(data, *args):\n",
    "    # Helper method that returns the value of a nested dictionary\n",
    "    if args and data:\n",
    "        element  = args[0]\n",
    "        if element:\n",
    "            value = data.get(element)\n",
    "            return value if len(args) == 1 else get_nested(value, *args[1:])\n",
    "    return None\n",
    "\n",
    "\n",
    "def get_scores(y_test, y_predicted):\n",
    "    # Method that returns different scores for the passed parameters\n",
    "    digits = 4\n",
    "    scores = {\n",
    "        'Accuracy': truncate(accuracy_score(y_test, y_predicted), digits),\n",
    "        'Recall': truncate(recall_score(y_test, y_predicted), digits),\n",
    "        'Precision': truncate(precision_score(y_test, y_predicted), digits),\n",
    "        'F1 score': truncate(f1_score(y_test, y_predicted), digits),\n",
    "        'F2 score': truncate(fbeta_score(y_test, y_predicted, beta=2), digits)\n",
    "    }\n",
    "    return scores\n",
    "\n",
    "\n",
    "def print_scores(all_scores):\n",
    "    # Method that prints a table of the passed scores\n",
    "    header_row = \"{header:<20}\".format(header=\"Estimator\")\n",
    "    for score in list(all_scores.values())[0]:\n",
    "        header_row+=\"{header:>15}\".format(header=score)\n",
    "    print(header_row,\"\\n\")\n",
    "\n",
    "    for estimator in all_scores.keys():\n",
    "        current_row = \"{estimator:<20}\".format(estimator=estimator)\n",
    "        estimator_scores = all_scores.get(estimator)\n",
    "        for score in estimator_scores:\n",
    "            score_value = get_nested(all_scores, estimator, score)\n",
    "            current_row+=\"{score_value:>15}\".format(score_value=score_value)\n",
    "        print(current_row)\n",
    "        \n",
    "\n",
    "def print_best_params(estimator_params):\n",
    "    # Method that prints the best parameters\n",
    "    for estimator in estimator_params.keys():\n",
    "        print(\"Best parameters for \"+estimator+\": \")\n",
    "        parameters = estimator_params.get(estimator)\n",
    "        for parameter in parameters:\n",
    "            print(parameter+\": \"+str(get_nested(estimator_params, estimator, parameter)))\n",
    "            \n",
    "\n",
    "def plot_roc(title, ax, y_test, y_predicted):\n",
    "    # Method that plots the ROC for the passed parameters\n",
    "    false_positive_rate, true_positive_rate, threshold = roc_curve(y_test, y_predicted)\n",
    "    ax.plot(false_positive_rate, true_positive_rate)\n",
    "    ax.plot([0, 1], ls=\"--\")\n",
    "    ax.plot([0, 0], [1, 0] , c=\".7\"), plt.plot([1, 1] , c=\".7\")\n",
    "\n",
    "    ax.set_title('Receiver Operating Characteristic (ROC) - '+title)\n",
    "    ax.set_ylabel('True Positive Rate')\n",
    "    ax.set_xlabel('False Positive Rate')\n",
    "    \n",
    "\n",
    "def plot_feature_importance(title, ax, estimator, X_train):\n",
    "    # Method that plots the feature importance for the passed parameters\n",
    "    feat_importance = pd.Series(estimator.feature_importances_, index=X_train.columns)\n",
    "    feat_importance.nlargest(12).plot(kind='barh', ax=ax)\n",
    "\n",
    "    ax.set_title('Feature Importance for '+title)\n",
    "\n",
    "\n",
    "def plot_learning_curve(title, estimator, ax, X, y, cv, scoring):\n",
    "    # Method that plots the learning curve for the passed parameters\n",
    "    train_sizes, train_scores, test_scores, fit_times, _ = learning_curve(\n",
    "        estimator,\n",
    "        X,\n",
    "        y,\n",
    "        scoring=scoring,\n",
    "        cv=cv,\n",
    "        n_jobs=4,\n",
    "        train_sizes=np.linspace(0.1, 1.0, 5),\n",
    "        return_times=True,\n",
    "    )\n",
    "    train_scores_mean = np.mean(train_scores, axis=1)\n",
    "    train_scores_std = np.std(train_scores, axis=1)\n",
    "    test_scores_mean = np.mean(test_scores, axis=1)\n",
    "    test_scores_std = np.std(test_scores, axis=1)\n",
    "\n",
    "    ax.grid()\n",
    "    ax.fill_between(\n",
    "        train_sizes,\n",
    "        train_scores_mean - train_scores_std,\n",
    "        train_scores_mean + train_scores_std,\n",
    "        alpha=0.1,\n",
    "        color=\"r\",\n",
    "    )\n",
    "    ax.fill_between(\n",
    "        train_sizes,\n",
    "        test_scores_mean - test_scores_std,\n",
    "        test_scores_mean + test_scores_std,\n",
    "        alpha=0.1,\n",
    "        color=\"g\",\n",
    "    )\n",
    "    ax.plot(train_sizes, train_scores_mean, \"o-\", color=\"r\", label=\"Training score\")\n",
    "    ax.plot(train_sizes, test_scores_mean, \"o-\", color=\"g\", label=\"Cross-validation score\")\n",
    "\n",
    "    ax.set_title(\"Learning Curve: \"+title)\n",
    "    ax.set_xlabel(\"Training examples\")\n",
    "    ax.set_ylabel(\"Score\")\n",
    "    ax.legend()\n",
    "    \n",
    "    \n",
    "def plot_loss(title, fitted_estimator):\n",
    "    # plot loss during training\n",
    "    plt.subplot(211)\n",
    "    plt.title('{} \\nLoss'.format(title))\n",
    "    plt.plot(fitted_estimator.history['loss'], label='train')\n",
    "    plt.plot(fitted_estimator.history['val_loss'], label='test')\n",
    "    plt.legend()\n",
    "    # plot accuracy during training\n",
    "    plt.subplot(212)\n",
    "    plt.title('Accuracy')\n",
    "    plt.plot(fitted_estimator.history['accuracy'], label='train')\n",
    "    plt.plot(fitted_estimator.history['val_accuracy'], label='test')\n",
    "    plt.legend()\n",
    "    plt.show()\n",
    "        \n",
    "\n",
    "def model_evaluate(estimator, parameters, X_train, X_test, y_train, y_test, cv_folds=10):\n",
    "    # Method that trains the passed model with the passed parameters and plots the evaluation of it\n",
    "    scoring = make_scorer(fbeta_score, beta=2)\n",
    "\n",
    "    # create the grid search instance\n",
    "    grid_search_estimator = GridSearchCV(estimator=estimator.value,\n",
    "                                         param_grid=parameters,\n",
    "                                         scoring= scoring,\n",
    "                                         cv=cv_folds,\n",
    "                                         return_train_score=True,\n",
    "                                         verbose=3,\n",
    "                                         n_jobs=1\n",
    "                                         )\n",
    "    # training and prediction\n",
    "    fitted_estimator_grid = grid_search_estimator.fit(X_train, y_train)\n",
    "    best_fitted_estimator = fitted_estimator_grid.best_estimator_\n",
    "    y_predicted = grid_search_estimator.predict(X_test)\n",
    "    \n",
    "    # evaluation of the model\n",
    "    # TODO BL: @FL @JG should we use cross validation?\n",
    "    print_scores({estimator.name: get_scores(y_test, y_predicted)})\n",
    "    print_best_params({estimator.name: grid_search_estimator.best_params_})\n",
    "\n",
    "    figure = plt.figure(figsize=(15, 15))\n",
    "    figure_index = 1\n",
    "    number_of_rows = 2\n",
    "    number_of_columns = 2\n",
    "    \n",
    "    # plot roc\n",
    "    ax = figure.add_subplot(number_of_rows, number_of_columns, figure_index)\n",
    "    plot_roc(title=estimator.name, ax=ax, y_test=y_test, y_predicted=y_predicted)\n",
    "    figure_index += 1\n",
    "    \n",
    "    if estimator == Estimator.dnn_estimator:\n",
    "        # plot loss and accuracy  \n",
    "        plot_loss(title=estimator.name, fitted_estimator=best_fitted_estimator)\n",
    "    \n",
    "    # plot feature importance in case of forest estimator\n",
    "    if estimator==Estimator.forest_estimator:\n",
    "        ax = figure.add_subplot(number_of_rows, number_of_columns, figure_index)\n",
    "        plot_feature_importance(title=estimator.name, ax=ax, estimator=grid_search_estimator.best_estimator_, X_train=X_train)\n",
    "        figure_index += 1\n",
    "\n",
    "    # plot learning curve in case of nn estimator\n",
    "    if estimator==Estimator.nn_estimator:\n",
    "        ax = figure.add_subplot(number_of_rows, number_of_columns, figure_index)\n",
    "        plot_learning_curve(title=estimator.name, estimator=estimator.value, ax=ax, X=X_train, y=y_train, cv=cv, scoring=scoring)\n",
    "        figure_index += 1\n",
    "        \n",
    "    if estimator==Estimator.log_regr_estimator:\n",
    "        # TODO implement table output\n",
    "        val = 0 # TODO\n",
    "        headers = [\"Coefficient\", \"value\"]\n",
    "        print_template = \"\"\n",
    "        for i in range(len(headers)):\n",
    "            k = len(headers[i])\n",
    "            print_template += \"{\" + str(i) + \":\" + str(k+5) + \"}|\"\n",
    "        print(print_template.format(*headers))\n",
    "        print(print_template.format(\"intercept\", best_fitted_estimator.intercept_[0]))\n",
    "        i = 0\n",
    "        for coef in best_fitted_estimator.coef_[0]:\n",
    "            feature_name = best_fitted_estimator.feature_names_in_[i]\n",
    "            print(print_template.format(feature_name, round(coef, 5)))\n",
    "            i += 1\n",
    "    plt.show()\n",
    "    # TODO maybe return fitted grid search estimator? what sense is there in returning the model\n",
    "    return grid_search_estimator"
   ]
  },
  {
   "cell_type": "markdown",
   "metadata": {},
   "source": [
    "## Setup data\n",
    "\n",
    "Load preprocessed dataset and create objects X and y to store the data and the target value. Then split data into training data and testing data."
   ]
  },
  {
   "cell_type": "code",
   "execution_count": 22,
   "metadata": {
    "scrolled": true
   },
   "outputs": [
    {
     "name": "stdout",
     "output_type": "stream",
     "text": [
      "0    14620\n",
      "1     1369\n",
      "Name: HeartDisease, dtype: int64 0    131591\n",
      "1     12317\n",
      "Name: HeartDisease, dtype: int64\n"
     ]
    }
   ],
   "source": [
    "# Load dataset\n",
    "heart_dataset = pd.read_csv('./heart_dataset_preprocessed.csv')\n",
    "\n",
    "# Split and reduce dataset (reduction only for test purposes)\n",
    "X = heart_dataset.drop(columns='HeartDisease')\n",
    "y = heart_dataset['HeartDisease']\n",
    "X_train, _, y_train, _ = train_test_split(X, y, test_size = 0.5, random_state = 42, stratify=y)\n",
    "X_train, X_test, y_train, y_test = train_test_split(X_train, y_train, test_size = 0.9, random_state = 42, stratify=y_train)\n",
    "\n",
    "# Balance training data\n",
    "# X_train, y_train = RandomOverSampler().fit_resample(X_train, y_train)\n",
    "\n",
    "data_dict = {\"X_train\": X_train, \"X_test\": X_test, \"y_train\": y_train, \"y_test\": y_test}\n",
    "print(y_train.value_counts(), y_test.value_counts())"
   ]
  },
  {
   "cell_type": "markdown",
   "metadata": {},
   "source": [
    "## Baseline\n",
    "\n",
    "We define a baseline model as a reference to the actual model with DummyClassifier from Scikit-Learn. Because our data is very imbalanced, we are using the stratified strategy."
   ]
  },
  {
   "cell_type": "code",
   "execution_count": 5,
   "metadata": {},
   "outputs": [
    {
     "name": "stdout",
     "output_type": "stream",
     "text": [
      "Estimator                  Accuracy         Recall      Precision       F1 score       F2 score \n",
      "\n",
      "Dummy Classifier             0.8431         0.0881         0.0873         0.0877          0.088\n"
     ]
    },
    {
     "data": {
      "image/png": "[encoded data removed]",
      "text/plain": [
       "<Figure size 576x576 with 1 Axes>"
      ]
     },
     "metadata": {
      "needs_background": "light"
     },
     "output_type": "display_data"
    }
   ],
   "source": [
    "dummy_classifier = DummyClassifier(strategy='stratified')\n",
    "dummy_classifier.fit(X_train, y_train)\n",
    "y_predicted = dummy_classifier.predict(X_test)\n",
    "\n",
    "print_scores({'Dummy Classifier':get_scores(y_test, y_predicted)})\n",
    "plot_roc(title='Baseline', ax=plt.figure(figsize=(8, 8)).add_subplot(), y_test=y_test, y_predicted=y_predicted)\n",
    "plt.show()"
   ]
  },
  {
   "cell_type": "markdown",
   "metadata": {},
   "source": [
    "**Conclusion**\n",
    "\n",
    "We achieve an 0.84 accuracy, a 0.09 recall, a 0.09 precision and a 0.09 F1-Score. Plotting the ROC curve shows that the baseline classifier is not really better than a random classifier\n"
   ]
  },
  {
   "cell_type": "markdown",
   "metadata": {},
   "source": [
    "## Model selection\n",
    "\n",
    "To find out which modeling method with which parameters best fits to our task, we define a set of modeling methods, train them with different parameters (hyperparameter tuning) and evaluate the results."
   ]
  },
  {
   "cell_type": "code",
   "execution_count": 8,
   "metadata": {},
   "outputs": [],
   "source": [
    "# Create DNN model\n",
    "def create_model(dropout_rate, hidden_layer_sizes=(20, 20), activation='relu'):\n",
    "    # create model\n",
    "    model = Sequential()\n",
    "    model.add(Input(shape=(X_train.columns.size,)))\n",
    "    \n",
    "    for hidden_layer_size in hidden_layer_sizes:\n",
    "        model.add(Dense(hidden_layer_size, activation=activation))\n",
    "    \n",
    "    model.add(Dropout(dropout_rate))\n",
    "    model.add(Dense(1, activation='sigmoid'))\n",
    "              \n",
    "    return model\n",
    "\n",
    "# Enumeration class containing all estimators we want to consider for classification\n",
    "class Estimator(Enum):\n",
    "    knn_estimator=KNeighborsClassifier()\n",
    "    nn_estimator=MLPClassifier(random_state=1)\n",
    "    forest_estimator=RandomForestClassifier()\n",
    "    svc_estimator=SVC(random_state=0)\n",
    "    log_regr_estimator=LogisticRegression(random_state=42)\n",
    "    dnn_estimator=KerasClassifier(model=create_model, verbose=0, hidden_layer_sizes=(30, 30), activation='sigmoid', dropout_rate=0.0)\n",
    "    xgb_estimator=GradientBoostingClassifier(max_depth=1, random_state=0)\n",
    "\n",
    "# Class Weights calculation\n",
    "neg, pos = np.bincount(y_train)\n",
    "total = neg + pos\n",
    "\n",
    "weight_for_0 = (1 / neg) * (total / 2.0)\n",
    "weight_for_1 = (1 / pos) * (total / 2.0)\n",
    "\n",
    "# TODO JG: Adjust nn parameters\n",
    "# Dictionary of parameter grids of the estimators\n",
    "param_grids = {\n",
    "    Estimator.knn_estimator: {\n",
    "        'n_neighbors': [2, 3, 4, 5]\n",
    "    },\n",
    "    Estimator.forest_estimator: {\n",
    "        'class_weight': [{0:1, 1:1}, {0:1, 1:2}, {0: weight_for_0, 1: weight_for_1}],\n",
    "        'n_estimators': [20, 50, 100, 400, 800, 1000]\n",
    "    },\n",
    "    Estimator.svc_estimator: {\n",
    "        'kernel': ['linear', 'poly', 'rbf', 'sigmoid'],\n",
    "        'class_weight': [{0:1, 1:1}, {0:1, 1:2}, {0: weight_for_0, 1: weight_for_1}]\n",
    "    },\n",
    "    Estimator.nn_estimator: {\n",
    "        'activation': ['identity', 'logistic', 'tanh', 'relu'],\n",
    "        'solver': ['lbfgs', 'sgd', 'adam'],\n",
    "        'hidden_layer_sizes': [(60,30), (150,100,50), (120,80,40), (100,50,30)],\n",
    "        'max_iter': [300, 500],\n",
    "    },\n",
    "    Estimator.dnn_estimator: {\n",
    "        'batch_size': [64],\n",
    "        'epochs': [400],\n",
    "        'hidden_layer_sizes': [(512, 256, 128)],\n",
    "        'activation': ['relu'],\n",
    "        'loss': ['binary_crossentropy'],\n",
    "        'optimizer': ['SGD'],\n",
    "        'class_weight': [{0: weight_for_0, 1: weight_for_1}],\n",
    "        'dropout_rate': [0.4]\n",
    "    },\n",
    "    Estimator.xgb_estimator: {\n",
    "        'n_estimators': [200, 800, 1000],\n",
    "        'loss': ['log_loss', 'deviance', 'exponential'],\n",
    "        'criterion': ['friedman_mse', 'squared_error', 'mse'],\n",
    "        'max_depth': [2, 5, 10],\n",
    "        'activation': ['identity', 'logistic', 'tanh', 'relu']\n",
    "    },\n",
    "    Estimator.log_regr_estimator: {\n",
    "        'solver': ['sag', 'saga' ], # TODO check also saga with elasticnet\n",
    "        'max_iter': [200, 400, 1000], \n",
    "        'class_weight': [{0:1, 1:2}, {0:1, 1:1}, {0:1, 1:3}, {0:1, 1:4}, {0:1, 1:6}] # TODO revise maybe \n",
    "    }\n",
    "}"
   ]
  },
  {
   "cell_type": "code",
   "execution_count": null,
   "metadata": {
    "scrolled": true
   },
   "outputs": [],
   "source": [
    "# dnn estimator\n",
    "estimator = Estimator.dnn_estimator\n",
    "grid = model_evaluate(estimator, param_grids.get(estimator), **data_dict)"
   ]
  },
  {
   "cell_type": "code",
   "execution_count": null,
   "metadata": {
    "scrolled": true
   },
   "outputs": [],
   "source": [
    "# dnn estimator\n",
    "estimator = Estimator.dnn_estimator\n",
    "grid = model_evaluate(estimator, param_grids.get(estimator), **data_dict)"
   ]
  },
  {
   "cell_type": "code",
   "execution_count": null,
   "metadata": {},
   "outputs": [],
   "source": [
    "# dnn estimator\n",
    "estimator = Estimator.dnn_estimator\n",
    "grid = model_evaluate(estimator, param_grids.get(estimator), **data_dict)"
   ]
  },
  {
   "cell_type": "code",
   "execution_count": null,
   "metadata": {
    "scrolled": true
   },
   "outputs": [],
   "source": [
    "pd.DataFrame(grid.cv_results_)['rank_test_score']"
   ]
  },
  {
   "cell_type": "code",
   "execution_count": null,
   "metadata": {
    "scrolled": true
   },
   "outputs": [],
   "source": [
    "# XGBoost estimator\n",
    "estimator = Estimator.xgb_estimator\n",
    "grid = model_evaluate(estimator, param_grids.get(estimator), **data_dict)"
   ]
  },
  {
   "cell_type": "code",
   "execution_count": null,
   "metadata": {
    "scrolled": true
   },
   "outputs": [],
   "source": [
    "# knn estimator\n",
    "estimator = Estimator.knn_estimator\n",
    "model_evaluate(estimator, param_grids.get(estimator), **data_dict)"
   ]
  },
  {
   "cell_type": "code",
   "execution_count": null,
   "metadata": {
    "scrolled": true
   },
   "outputs": [],
   "source": [
    "# random forest estimator\n",
    "estimator = Estimator.forest_estimator\n",
    "model_evaluate(estimator, param_grids.get(estimator), **data_dict)"
   ]
  },
  {
   "cell_type": "code",
   "execution_count": null,
   "metadata": {
    "scrolled": true
   },
   "outputs": [],
   "source": [
    "# nn estimator\n",
    "estimator = Estimator.nn_estimator\n",
    "model_evaluate(estimator, param_grids.get(estimator), **data_dict)"
   ]
  },
  {
   "cell_type": "code",
   "execution_count": null,
   "metadata": {
    "scrolled": true
   },
   "outputs": [],
   "source": [
    "# svc estimator\n",
    "estimator = Estimator.svc_estimator\n",
    "model_evaluate(estimator, param_grids.get(estimator), **data_dict)"
   ]
  },
  {
   "cell_type": "code",
   "execution_count": null,
   "metadata": {
    "scrolled": true
   },
   "outputs": [],
   "source": [
    "# svc estimator not oversampled\n",
    "estimator = Estimator.svc_estimator\n",
    "model_evaluate(estimator, param_grids.get(estimator), **data_dict)"
   ]
  },
  {
   "cell_type": "code",
   "execution_count": 14,
   "metadata": {},
   "outputs": [
    {
     "name": "stdout",
     "output_type": "stream",
     "text": [
      "Fitting 3 folds for each of 2 candidates, totalling 6 fits\n"
     ]
    },
    {
     "name": "stderr",
     "output_type": "stream",
     "text": [
      "C:\\Users\\flola\\AppData\\Roaming\\Python\\Python310\\site-packages\\sklearn\\linear_model\\_sag.py:350: ConvergenceWarning: The max_iter was reached which means the coef_ did not converge\n",
      "  warnings.warn(\n"
     ]
    },
    {
     "name": "stdout",
     "output_type": "stream",
     "text": [
      "[CV 1/3] END max_iter=200, solver=sag;, score=(train=0.129, test=0.099) total time=   0.8s\n"
     ]
    },
    {
     "name": "stderr",
     "output_type": "stream",
     "text": [
      "C:\\Users\\flola\\AppData\\Roaming\\Python\\Python310\\site-packages\\sklearn\\linear_model\\_sag.py:350: ConvergenceWarning: The max_iter was reached which means the coef_ did not converge\n",
      "  warnings.warn(\n"
     ]
    },
    {
     "name": "stdout",
     "output_type": "stream",
     "text": [
      "[CV 2/3] END max_iter=200, solver=sag;, score=(train=0.115, test=0.129) total time=   0.6s\n"
     ]
    },
    {
     "name": "stderr",
     "output_type": "stream",
     "text": [
      "C:\\Users\\flola\\AppData\\Roaming\\Python\\Python310\\site-packages\\sklearn\\linear_model\\_sag.py:350: ConvergenceWarning: The max_iter was reached which means the coef_ did not converge\n",
      "  warnings.warn(\n"
     ]
    },
    {
     "name": "stdout",
     "output_type": "stream",
     "text": [
      "[CV 3/3] END max_iter=200, solver=sag;, score=(train=0.107, test=0.114) total time=   0.6s\n"
     ]
    },
    {
     "name": "stderr",
     "output_type": "stream",
     "text": [
      "C:\\Users\\flola\\AppData\\Roaming\\Python\\Python310\\site-packages\\sklearn\\linear_model\\_sag.py:350: ConvergenceWarning: The max_iter was reached which means the coef_ did not converge\n",
      "  warnings.warn(\n"
     ]
    },
    {
     "name": "stdout",
     "output_type": "stream",
     "text": [
      "[CV 1/3] END max_iter=200, solver=saga;, score=(train=0.126, test=0.102) total time=   0.7s\n"
     ]
    },
    {
     "name": "stderr",
     "output_type": "stream",
     "text": [
      "C:\\Users\\flola\\AppData\\Roaming\\Python\\Python310\\site-packages\\sklearn\\linear_model\\_sag.py:350: ConvergenceWarning: The max_iter was reached which means the coef_ did not converge\n",
      "  warnings.warn(\n"
     ]
    },
    {
     "name": "stdout",
     "output_type": "stream",
     "text": [
      "[CV 2/3] END max_iter=200, solver=saga;, score=(train=0.106, test=0.129) total time=   0.7s\n"
     ]
    },
    {
     "name": "stderr",
     "output_type": "stream",
     "text": [
      "C:\\Users\\flola\\AppData\\Roaming\\Python\\Python310\\site-packages\\sklearn\\linear_model\\_sag.py:350: ConvergenceWarning: The max_iter was reached which means the coef_ did not converge\n",
      "  warnings.warn(\n"
     ]
    },
    {
     "name": "stdout",
     "output_type": "stream",
     "text": [
      "[CV 3/3] END max_iter=200, solver=saga;, score=(train=0.104, test=0.106) total time=   0.7s\n"
     ]
    },
    {
     "name": "stderr",
     "output_type": "stream",
     "text": [
      "C:\\Users\\flola\\AppData\\Roaming\\Python\\Python310\\site-packages\\sklearn\\linear_model\\_sag.py:350: ConvergenceWarning: The max_iter was reached which means the coef_ did not converge\n",
      "  warnings.warn(\n"
     ]
    },
    {
     "name": "stdout",
     "output_type": "stream",
     "text": [
      "Estimator                  Accuracy         Recall      Precision       F1 score       F2 score \n",
      "\n",
      "log_regr_estimator           0.9159         0.1015         0.5486         0.1714         0.1213\n",
      "Best parameters for log_regr_estimator: \n",
      "max_iter: 200\n",
      "solver: sag\n",
      "Coefficient     |value     |\n",
      "intercept       |-3.237594231932288|\n",
      "BMI             |  -0.37418|\n",
      "Smoking         |   0.25078|\n",
      "AlcoholDrinking |  -0.23648|\n",
      "Stroke          |   1.07863|\n",
      "PhysicalHealth  |   0.09819|\n",
      "MentalHealth    |   0.06705|\n",
      "DiffWalking     |   0.21296|\n",
      "Sex             |  -0.74501|\n",
      "AgeCategory     |   0.04067|\n",
      "Diabetic        |   0.59553|\n",
      "PhysicalActivity|  -0.02548|\n",
      "GenHealth       |  -2.02874|\n",
      "SleepTime       |  -0.60778|\n",
      "Asthma          |   0.15322|\n",
      "KidneyDisease   |   0.43401|\n",
      "SkinCancer      |   0.16935|\n",
      "Race_American Indian/Alaskan Native|     -0.35|\n",
      "Race_Asian      |   -0.5772|\n",
      "Race_Black      |  -0.61546|\n",
      "Race_Hispanic   |  -0.60971|\n",
      "Race_Other      |  -0.46882|\n",
      "Race_White      |  -0.36163|\n"
     ]
    },
    {
     "data": {
      "image/png": "[encoded data removed]",
      "text/plain": [
       "<Figure size 1080x1080 with 1 Axes>"
      ]
     },
     "metadata": {
      "needs_background": "light"
     },
     "output_type": "display_data"
    },
    {
     "data": {
      "text/html": [
       "<style>#sk-container-id-4 {color: black;background-color: white;}#sk-container-id-4 pre{padding: 0;}#sk-container-id-4 div.sk-toggleable {background-color: white;}#sk-container-id-4 label.sk-toggleable__label {cursor: pointer;display: block;width: 100%;margin-bottom: 0;padding: 0.3em;box-sizing: border-box;text-align: center;}#sk-container-id-4 label.sk-toggleable__label-arrow:before {content: \"▸\";float: left;margin-right: 0.25em;color: #696969;}#sk-container-id-4 label.sk-toggleable__label-arrow:hover:before {color: black;}#sk-container-id-4 div.sk-estimator:hover label.sk-toggleable__label-arrow:before {color: black;}#sk-container-id-4 div.sk-toggleable__content {max-height: 0;max-width: 0;overflow: hidden;text-align: left;background-color: #f0f8ff;}#sk-container-id-4 div.sk-toggleable__content pre {margin: 0.2em;color: black;border-radius: 0.25em;background-color: #f0f8ff;}#sk-container-id-4 input.sk-toggleable__control:checked~div.sk-toggleable__content {max-height: 200px;max-width: 100%;overflow: auto;}#sk-container-id-4 input.sk-toggleable__control:checked~label.sk-toggleable__label-arrow:before {content: \"▾\";}#sk-container-id-4 div.sk-estimator input.sk-toggleable__control:checked~label.sk-toggleable__label {background-color: #d4ebff;}#sk-container-id-4 div.sk-label input.sk-toggleable__control:checked~label.sk-toggleable__label {background-color: #d4ebff;}#sk-container-id-4 input.sk-hidden--visually {border: 0;clip: rect(1px 1px 1px 1px);clip: rect(1px, 1px, 1px, 1px);height: 1px;margin: -1px;overflow: hidden;padding: 0;position: absolute;width: 1px;}#sk-container-id-4 div.sk-estimator {font-family: monospace;background-color: #f0f8ff;border: 1px dotted black;border-radius: 0.25em;box-sizing: border-box;margin-bottom: 0.5em;}#sk-container-id-4 div.sk-estimator:hover {background-color: #d4ebff;}#sk-container-id-4 div.sk-parallel-item::after {content: \"\";width: 100%;border-bottom: 1px solid gray;flex-grow: 1;}#sk-container-id-4 div.sk-label:hover label.sk-toggleable__label {background-color: #d4ebff;}#sk-container-id-4 div.sk-serial::before {content: \"\";position: absolute;border-left: 1px solid gray;box-sizing: border-box;top: 0;bottom: 0;left: 50%;z-index: 0;}#sk-container-id-4 div.sk-serial {display: flex;flex-direction: column;align-items: center;background-color: white;padding-right: 0.2em;padding-left: 0.2em;position: relative;}#sk-container-id-4 div.sk-item {position: relative;z-index: 1;}#sk-container-id-4 div.sk-parallel {display: flex;align-items: stretch;justify-content: center;background-color: white;position: relative;}#sk-container-id-4 div.sk-item::before, #sk-container-id-4 div.sk-parallel-item::before {content: \"\";position: absolute;border-left: 1px solid gray;box-sizing: border-box;top: 0;bottom: 0;left: 50%;z-index: -1;}#sk-container-id-4 div.sk-parallel-item {display: flex;flex-direction: column;z-index: 1;position: relative;background-color: white;}#sk-container-id-4 div.sk-parallel-item:first-child::after {align-self: flex-end;width: 50%;}#sk-container-id-4 div.sk-parallel-item:last-child::after {align-self: flex-start;width: 50%;}#sk-container-id-4 div.sk-parallel-item:only-child::after {width: 0;}#sk-container-id-4 div.sk-dashed-wrapped {border: 1px dashed gray;margin: 0 0.4em 0.5em 0.4em;box-sizing: border-box;padding-bottom: 0.4em;background-color: white;}#sk-container-id-4 div.sk-label label {font-family: monospace;font-weight: bold;display: inline-block;line-height: 1.2em;}#sk-container-id-4 div.sk-label-container {text-align: center;}#sk-container-id-4 div.sk-container {/* jupyter's `normalize.less` sets `[hidden] { display: none; }` but bootstrap.min.css set `[hidden] { display: none !important; }` so we also need the `!important` here to be able to override the default hidden behavior on the sphinx rendered scikit-learn.org. See: https://github.com/scikit-learn/scikit-learn/issues/21755 */display: inline-block !important;position: relative;}#sk-container-id-4 div.sk-text-repr-fallback {display: none;}</style><div id=\"sk-container-id-4\" class=\"sk-top-container\"><div class=\"sk-text-repr-fallback\"><pre>GridSearchCV(cv=3, estimator=LogisticRegression(random_state=42), n_jobs=1,\n",
       "             param_grid={&#x27;max_iter&#x27;: [200], &#x27;solver&#x27;: [&#x27;sag&#x27;, &#x27;saga&#x27;]},\n",
       "             return_train_score=True, scoring=make_scorer(fbeta_score, beta=2),\n",
       "             verbose=3)</pre><b>In a Jupyter environment, please rerun this cell to show the HTML representation or trust the notebook. <br />On GitHub, the HTML representation is unable to render, please try loading this page with nbviewer.org.</b></div><div class=\"sk-container\" hidden><div class=\"sk-item sk-dashed-wrapped\"><div class=\"sk-label-container\"><div class=\"sk-label sk-toggleable\"><input class=\"sk-toggleable__control sk-hidden--visually\" id=\"sk-estimator-id-10\" type=\"checkbox\" ><label for=\"sk-estimator-id-10\" class=\"sk-toggleable__label sk-toggleable__label-arrow\">GridSearchCV</label><div class=\"sk-toggleable__content\"><pre>GridSearchCV(cv=3, estimator=LogisticRegression(random_state=42), n_jobs=1,\n",
       "             param_grid={&#x27;max_iter&#x27;: [200], &#x27;solver&#x27;: [&#x27;sag&#x27;, &#x27;saga&#x27;]},\n",
       "             return_train_score=True, scoring=make_scorer(fbeta_score, beta=2),\n",
       "             verbose=3)</pre></div></div></div><div class=\"sk-parallel\"><div class=\"sk-parallel-item\"><div class=\"sk-item\"><div class=\"sk-label-container\"><div class=\"sk-label sk-toggleable\"><input class=\"sk-toggleable__control sk-hidden--visually\" id=\"sk-estimator-id-11\" type=\"checkbox\" ><label for=\"sk-estimator-id-11\" class=\"sk-toggleable__label sk-toggleable__label-arrow\">estimator: LogisticRegression</label><div class=\"sk-toggleable__content\"><pre>LogisticRegression(random_state=42)</pre></div></div></div><div class=\"sk-serial\"><div class=\"sk-item\"><div class=\"sk-estimator sk-toggleable\"><input class=\"sk-toggleable__control sk-hidden--visually\" id=\"sk-estimator-id-12\" type=\"checkbox\" ><label for=\"sk-estimator-id-12\" class=\"sk-toggleable__label sk-toggleable__label-arrow\">LogisticRegression</label><div class=\"sk-toggleable__content\"><pre>LogisticRegression(random_state=42)</pre></div></div></div></div></div></div></div></div></div></div>"
      ],
      "text/plain": [
       "GridSearchCV(cv=3, estimator=LogisticRegression(random_state=42), n_jobs=1,\n",
       "             param_grid={'max_iter': [200], 'solver': ['sag', 'saga']},\n",
       "             return_train_score=True, scoring=make_scorer(fbeta_score, beta=2),\n",
       "             verbose=3)"
      ]
     },
     "execution_count": 14,
     "metadata": {},
     "output_type": "execute_result"
    }
   ],
   "source": [
    "# logistic regression estimator\n",
    "estimator = Estimator.log_regr_estimator\n",
    "model_evaluate(estimator, param_grids.get(estimator), **data_dict, cv_folds=5)"
   ]
  },
  {
   "cell_type": "code",
   "execution_count": 24,
   "metadata": {},
   "outputs": [
    {
     "name": "stdout",
     "output_type": "stream",
     "text": [
      "Optimization terminated successfully.\n",
      "         Current function value: 0.230566\n",
      "         Iterations: 143\n",
      "         Function evaluations: 146\n",
      "         Gradient evaluations: 146\n",
      "                           Logit Regression Results                           \n",
      "==============================================================================\n",
      "Dep. Variable:           HeartDisease   No. Observations:                15989\n",
      "Model:                          Logit   Df Residuals:                    15967\n",
      "Method:                           MLE   Df Model:                           21\n",
      "Date:                Wed, 30 Nov 2022   Pseudo R-squ.:                  0.2112\n",
      "Time:                        23:51:31   Log-Likelihood:                -3686.5\n",
      "converged:                       True   LL-Null:                       -4673.4\n",
      "Covariance Type:            nonrobust   LLR p-value:                     0.000\n",
      "=======================================================================================================\n",
      "                                          coef    std err          z      P>|z|      [0.025      0.975]\n",
      "-------------------------------------------------------------------------------------------------------\n",
      "BMI                                     0.2203      0.421      0.523      0.601      -0.605       1.046\n",
      "Smoking                                 0.2651      0.064      4.132      0.000       0.139       0.391\n",
      "AlcoholDrinking                        -0.2215      0.152     -1.454      0.146      -0.520       0.077\n",
      "Stroke                                  1.0983      0.101     10.907      0.000       0.901       1.296\n",
      "PhysicalHealth                          0.1277      0.110      1.159      0.247      -0.088       0.344\n",
      "MentalHealth                            0.1017      0.118      0.858      0.391      -0.131       0.334\n",
      "DiffWalking                             0.2000      0.082      2.449      0.014       0.040       0.360\n",
      "Sex                                    -0.7424      0.065    -11.426      0.000      -0.870      -0.615\n",
      "AgeCategory                             0.0424      0.002     18.776      0.000       0.038       0.047\n",
      "Diabetic                                0.5814      0.073      7.914      0.000       0.437       0.725\n",
      "PhysicalActivity                        0.0020      0.071      0.029      0.977      -0.138       0.142\n",
      "GenHealth                              -1.9628      0.151    -13.025      0.000      -2.258      -1.667\n",
      "SleepTime                              -0.3915      0.446     -0.878      0.380      -1.266       0.483\n",
      "Asthma                                  0.1578      0.088      1.794      0.073      -0.015       0.330\n",
      "KidneyDisease                           0.4369      0.111      3.931      0.000       0.219       0.655\n",
      "SkinCancer                              0.1612      0.088      1.838      0.066      -0.011       0.333\n",
      "Race_American Indian/Alaskan Native    -0.4402   1.52e+06   -2.9e-07      1.000   -2.97e+06    2.97e+06\n",
      "Race_Asian                             -0.7293   1.52e+06  -4.81e-07      1.000   -2.97e+06    2.97e+06\n",
      "Race_Black                             -0.6917   1.52e+06  -4.56e-07      1.000   -2.97e+06    2.97e+06\n",
      "Race_Hispanic                          -0.6636   1.52e+06  -4.38e-07      1.000   -2.97e+06    2.97e+06\n",
      "Race_Other                             -0.5626   1.52e+06  -3.71e-07      1.000   -2.97e+06    2.97e+06\n",
      "Race_White                             -0.4375   1.52e+06  -2.89e-07      1.000   -2.97e+06    2.97e+06\n",
      "const                                  -3.5248   1.52e+06  -2.33e-06      1.000   -2.97e+06    2.97e+06\n",
      "=======================================================================================================\n",
      "                                           OR  Lower CI  Upper CI\n",
      "BMI                                  1.246444  0.545978  2.845581\n",
      "Smoking                              1.303571  1.149518  1.478268\n",
      "AlcoholDrinking                      0.801289  0.594459  1.080080\n",
      "Stroke                               2.999011  2.461859  3.653364\n",
      "PhysicalHealth                       1.136188  0.915471  1.410119\n",
      "MentalHealth                         1.107035  0.877606  1.396443\n",
      "DiffWalking                          1.221384  1.040739  1.433385\n",
      "Sex                                  0.475956  0.419042  0.540599\n",
      "AgeCategory                          1.043278  1.038674  1.047902\n",
      "Diabetic                             1.788613  1.548752  2.065623\n",
      "PhysicalActivity                     1.002032  0.871478  1.152144\n",
      "GenHealth                            0.140470  0.104547  0.188736\n",
      "SleepTime                            0.676024  0.282052  1.620295\n",
      "Asthma                               1.170957  0.985485  1.391335\n",
      "KidneyDisease                        1.547920  1.244949  1.924622\n",
      "SkinCancer                           1.174878  0.989354  1.395193\n",
      "Race_American Indian/Alaskan Native  0.643920  0.000000       inf\n",
      "Race_Asian                           0.482227  0.000000       inf\n",
      "Race_Black                           0.500749  0.000000       inf\n",
      "Race_Hispanic                        0.515016  0.000000       inf\n",
      "Race_Other                           0.569731  0.000000       inf\n",
      "Race_White                           0.645641  0.000000       inf\n",
      "const                                0.029457  0.000000       inf\n"
     ]
    },
    {
     "name": "stderr",
     "output_type": "stream",
     "text": [
      "C:\\Users\\flola\\AppData\\Roaming\\Python\\Python310\\site-packages\\pandas\\core\\internals\\blocks.py:402: RuntimeWarning: overflow encountered in exp\n",
      "  result = func(self.values, **kwargs)\n"
     ]
    }
   ],
   "source": [
    "iters = 1000\n",
    "method = \"bfgs\"\n",
    "log_regr_model_statsmodels = sm.Logit(y_train,  sm.add_constant(X_train, prepend=False))\n",
    "log_regr_res_statsmodels = log_regr_model_statsmodels.fit(maxiter=iters, method=method)\n",
    "print(log_regr_res_statsmodels.summary())\n",
    "\n",
    "odds_ratios = pd.DataFrame(\n",
    "    {\n",
    "        \"OR\": log_regr_res_statsmodels.params,\n",
    "        \"Lower CI\": log_regr_res_statsmodels.conf_int()[0],\n",
    "        \"Upper CI\": log_regr_res_statsmodels.conf_int()[1],\n",
    "    }\n",
    ")\n",
    "odds_ratios = np.exp(odds_ratios)\n",
    "print(odds_ratios)"
   ]
  },
  {
   "cell_type": "code",
   "execution_count": 20,
   "metadata": {},
   "outputs": [
    {
     "name": "stdout",
     "output_type": "stream",
     "text": [
      "                                          Results: Logit\n",
      "===================================================================================================\n",
      "Model:                           Logit                       Pseudo R-squared:            0.211    \n",
      "Dependent Variable:              HeartDisease                AIC:                         7417.0361\n",
      "Date:                            2022-11-30 23:46            BIC:                         7585.9885\n",
      "No. Observations:                15989                       Log-Likelihood:              -3686.5  \n",
      "Df Model:                        21                          LL-Null:                     -4673.4  \n",
      "Df Residuals:                    15967                       LLR p-value:                 0.0000   \n",
      "Converged:                       1.0000                      Scale:                       1.0000   \n",
      "---------------------------------------------------------------------------------------------------\n",
      "                                     Coef.    Std.Err.      z     P>|z|      [0.025       0.975]   \n",
      "---------------------------------------------------------------------------------------------------\n",
      "BMI                                  0.2203       0.4212   0.5231 0.6009       -0.6052       1.0458\n",
      "Smoking                              0.2651       0.0642   4.1316 0.0000        0.1393       0.3909\n",
      "AlcoholDrinking                     -0.2215       0.1523  -1.4543 0.1459       -0.5201       0.0770\n",
      "Stroke                               1.0983       0.1007  10.9066 0.0000        0.9009       1.2956\n",
      "PhysicalHealth                       0.1277       0.1102   1.1586 0.2466       -0.0883       0.3437\n",
      "MentalHealth                         0.1017       0.1185   0.8582 0.3908       -0.1306       0.3339\n",
      "DiffWalking                          0.2000       0.0817   2.4489 0.0143        0.0399       0.3600\n",
      "Sex                                 -0.7424       0.0650 -11.4260 0.0000       -0.8698      -0.6151\n",
      "AgeCategory                          0.0424       0.0023  18.7761 0.0000        0.0379       0.0468\n",
      "Diabetic                             0.5814       0.0735   7.9144 0.0000        0.4374       0.7254\n",
      "PhysicalActivity                     0.0020       0.0712   0.0285 0.9773       -0.1376       0.1416\n",
      "GenHealth                           -1.9628       0.1507 -13.0248 0.0000       -2.2581      -1.6674\n",
      "SleepTime                           -0.3915       0.4460  -0.8779 0.3800       -1.2657       0.4826\n",
      "Asthma                               0.1578       0.0880   1.7938 0.0728       -0.0146       0.3303\n",
      "KidneyDisease                        0.4369       0.1111   3.9314 0.0001        0.2191       0.6547\n",
      "SkinCancer                           0.1612       0.0877   1.8379 0.0661       -0.0107       0.3330\n",
      "Race_American Indian/Alaskan Native -0.4402 1515842.8876  -0.0000 1.0000 -2970997.9060 2970997.0257\n",
      "Race_Asian                          -0.7293 1515842.8876  -0.0000 1.0000 -2970998.1952 2970996.7365\n",
      "Race_Black                          -0.6917 1515842.8876  -0.0000 1.0000 -2970998.1575 2970996.7742\n",
      "Race_Hispanic                       -0.6636 1515842.8876  -0.0000 1.0000 -2970998.1294 2970996.8023\n",
      "Race_Other                          -0.5626 1515842.8876  -0.0000 1.0000 -2970998.0284 2970996.9033\n",
      "Race_White                          -0.4375 1515842.8876  -0.0000 1.0000 -2970997.9034 2970997.0283\n",
      "const                               -3.5248 1515842.8876  -0.0000 1.0000 -2971000.9907 2970993.9410\n",
      "===================================================================================================\n",
      "\n"
     ]
    }
   ],
   "source": [
    "print(log_regr_res_statsmodels.summary2())"
   ]
  },
  {
   "cell_type": "code",
   "execution_count": 49,
   "metadata": {},
   "outputs": [
    {
     "name": "stdout",
     "output_type": "stream",
     "text": [
      "tp | 8907 fn: 3410\n",
      "fp | 27253 tn: 104338\n",
      "              precision    recall  f1-score   support\n",
      "\n",
      "           0       0.97      0.79      0.87    131591\n",
      "           1       0.25      0.72      0.37     12317\n",
      "\n",
      "    accuracy                           0.79    143908\n",
      "   macro avg       0.61      0.76      0.62    143908\n",
      "weighted avg       0.91      0.79      0.83    143908\n",
      "\n"
     ]
    }
   ],
   "source": [
    "y_pred = log_regr_res_statsmodels.predict(sm.add_constant(X_test, prepend=False))\n",
    "\n",
    "decision_boundary = 0.1\n",
    "\n",
    "y_pred.loc[y_pred >= decision_boundary] = 1\n",
    "y_pred.loc[y_pred < decision_boundary] = 0\n",
    "\n",
    "from sklearn.metrics import confusion_matrix\n",
    "tn, fp, fn, tp= confusion_matrix(y_test, y_pred).ravel()\n",
    "\n",
    "print(\"tp | {} fn: {}\\nfp | {} tn: {}\".format(tp, fn, fp, tn))\n",
    "\n",
    "from sklearn.metrics import classification_report\n",
    "print(classification_report(y_test, y_pred))"
   ]
  },
  {
   "cell_type": "markdown",
   "metadata": {},
   "source": [
    "**Conclusion**\n",
    "\n",
    "TODO: Add conclusion"
   ]
  },
  {
   "cell_type": "markdown",
   "metadata": {},
   "source": [
    "## Final model\n",
    "\n",
    "After having determined the best model and the best parameters for it in the step of model selection, we now apply this in the following."
   ]
  },
  {
   "cell_type": "code",
   "execution_count": null,
   "metadata": {},
   "outputs": [],
   "source": [
    "## TODO implement"
   ]
  }
 ],
 "metadata": {
  "kernelspec": {
   "display_name": "Python 3",
   "language": "python",
   "name": "python3"
  },
  "language_info": {
   "codemirror_mode": {
    "name": "ipython",
    "version": 3
   },
   "file_extension": ".py",
   "mimetype": "text/x-python",
   "name": "python",
   "nbconvert_exporter": "python",
   "pygments_lexer": "ipython3",
   "version": "3.10.5"
  },
  "vscode": {
   "interpreter": {
    "hash": "26de051ba29f2982a8de78e945f0abaf191376122a1563185a90213a26c5da77"
   }
  }
 },
 "nbformat": 4,
 "nbformat_minor": 4
}
