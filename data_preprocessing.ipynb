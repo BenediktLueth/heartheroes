{
 "cells": [
  {
   "cell_type": "markdown",
   "metadata": {},
   "source": [
    "# Preprocessing"
   ]
  },
  {
   "cell_type": "markdown",
   "source": [
    "## Import libraries"
   ],
   "metadata": {
    "collapsed": false
   }
  },
  {
   "cell_type": "code",
   "execution_count": 26,
   "outputs": [],
   "source": [
    "import pandas as pd\n",
    "from sklearn import preprocessing\n",
    "from sklearn.manifold import TSNE\n",
    "import numpy as np\n",
    "from pathlib import Path\n",
    "import itertools\n",
    "import seaborn as sns\n",
    "import matplotlib.pyplot as plt"
   ],
   "metadata": {
    "collapsed": false
   }
  },
  {
   "cell_type": "markdown",
   "source": [
    "## Setup data"
   ],
   "metadata": {
    "collapsed": false
   }
  },
  {
   "cell_type": "code",
   "execution_count": 27,
   "outputs": [],
   "source": [
    "# Load dataset\n",
    "heart_dataset = pd.read_csv('./heart_2020_cleaned.csv')\n",
    "\n",
    "# Copy dataset for processing\n",
    "heart_dataset_preprocessed = heart_dataset.copy()"
   ],
   "metadata": {
    "collapsed": false
   }
  },
  {
   "cell_type": "markdown",
   "source": [
    "## Get a feeling for the data"
   ],
   "metadata": {
    "collapsed": false
   }
  },
  {
   "cell_type": "code",
   "execution_count": 45,
   "metadata": {},
   "outputs": [
    {
     "data": {
      "text/plain": "RangeIndex(start=0, stop=319795, step=1)"
     },
     "metadata": {},
     "output_type": "display_data"
    },
    {
     "data": {
      "text/plain": "HeartDisease         object\nBMI                 float64\nSmoking              object\nAlcoholDrinking      object\nStroke               object\nPhysicalHealth      float64\nMentalHealth        float64\nDiffWalking          object\nSex                  object\nAgeCategory          object\nRace                 object\nDiabetic             object\nPhysicalActivity     object\nGenHealth            object\nSleepTime           float64\nAsthma               object\nKidneyDisease        object\nSkinCancer           object\ndtype: object"
     },
     "metadata": {},
     "output_type": "display_data"
    },
    {
     "data": {
      "text/plain": "  HeartDisease    BMI Smoking AlcoholDrinking Stroke  PhysicalHealth  \\\n0           No  16.60     Yes              No     No             3.0   \n1           No  20.34      No              No    Yes             0.0   \n2           No  26.58     Yes              No     No            20.0   \n3           No  24.21      No              No     No             0.0   \n4           No  23.71      No              No     No            28.0   \n\n   MentalHealth DiffWalking     Sex  AgeCategory   Race Diabetic  \\\n0          30.0          No  Female        55-59  White      Yes   \n1           0.0          No  Female  80 or older  White       No   \n2          30.0          No    Male        65-69  White      Yes   \n3           0.0          No  Female        75-79  White       No   \n4           0.0         Yes  Female        40-44  White       No   \n\n  PhysicalActivity  GenHealth  SleepTime Asthma KidneyDisease SkinCancer  \n0              Yes  Very good        5.0    Yes            No        Yes  \n1              Yes  Very good        7.0     No            No         No  \n2              Yes       Fair        8.0    Yes            No         No  \n3               No       Good        6.0     No            No        Yes  \n4              Yes  Very good        8.0     No            No         No  ",
      "text/html": "<div>\n<style scoped>\n    .dataframe tbody tr th:only-of-type {\n        vertical-align: middle;\n    }\n\n    .dataframe tbody tr th {\n        vertical-align: top;\n    }\n\n    .dataframe thead th {\n        text-align: right;\n    }\n</style>\n<table border=\"1\" class=\"dataframe\">\n  <thead>\n    <tr style=\"text-align: right;\">\n      <th></th>\n      <th>HeartDisease</th>\n      <th>BMI</th>\n      <th>Smoking</th>\n      <th>AlcoholDrinking</th>\n      <th>Stroke</th>\n      <th>PhysicalHealth</th>\n      <th>MentalHealth</th>\n      <th>DiffWalking</th>\n      <th>Sex</th>\n      <th>AgeCategory</th>\n      <th>Race</th>\n      <th>Diabetic</th>\n      <th>PhysicalActivity</th>\n      <th>GenHealth</th>\n      <th>SleepTime</th>\n      <th>Asthma</th>\n      <th>KidneyDisease</th>\n      <th>SkinCancer</th>\n    </tr>\n  </thead>\n  <tbody>\n    <tr>\n      <th>0</th>\n      <td>No</td>\n      <td>16.60</td>\n      <td>Yes</td>\n      <td>No</td>\n      <td>No</td>\n      <td>3.0</td>\n      <td>30.0</td>\n      <td>No</td>\n      <td>Female</td>\n      <td>55-59</td>\n      <td>White</td>\n      <td>Yes</td>\n      <td>Yes</td>\n      <td>Very good</td>\n      <td>5.0</td>\n      <td>Yes</td>\n      <td>No</td>\n      <td>Yes</td>\n    </tr>\n    <tr>\n      <th>1</th>\n      <td>No</td>\n      <td>20.34</td>\n      <td>No</td>\n      <td>No</td>\n      <td>Yes</td>\n      <td>0.0</td>\n      <td>0.0</td>\n      <td>No</td>\n      <td>Female</td>\n      <td>80 or older</td>\n      <td>White</td>\n      <td>No</td>\n      <td>Yes</td>\n      <td>Very good</td>\n      <td>7.0</td>\n      <td>No</td>\n      <td>No</td>\n      <td>No</td>\n    </tr>\n    <tr>\n      <th>2</th>\n      <td>No</td>\n      <td>26.58</td>\n      <td>Yes</td>\n      <td>No</td>\n      <td>No</td>\n      <td>20.0</td>\n      <td>30.0</td>\n      <td>No</td>\n      <td>Male</td>\n      <td>65-69</td>\n      <td>White</td>\n      <td>Yes</td>\n      <td>Yes</td>\n      <td>Fair</td>\n      <td>8.0</td>\n      <td>Yes</td>\n      <td>No</td>\n      <td>No</td>\n    </tr>\n    <tr>\n      <th>3</th>\n      <td>No</td>\n      <td>24.21</td>\n      <td>No</td>\n      <td>No</td>\n      <td>No</td>\n      <td>0.0</td>\n      <td>0.0</td>\n      <td>No</td>\n      <td>Female</td>\n      <td>75-79</td>\n      <td>White</td>\n      <td>No</td>\n      <td>No</td>\n      <td>Good</td>\n      <td>6.0</td>\n      <td>No</td>\n      <td>No</td>\n      <td>Yes</td>\n    </tr>\n    <tr>\n      <th>4</th>\n      <td>No</td>\n      <td>23.71</td>\n      <td>No</td>\n      <td>No</td>\n      <td>No</td>\n      <td>28.0</td>\n      <td>0.0</td>\n      <td>Yes</td>\n      <td>Female</td>\n      <td>40-44</td>\n      <td>White</td>\n      <td>No</td>\n      <td>Yes</td>\n      <td>Very good</td>\n      <td>8.0</td>\n      <td>No</td>\n      <td>No</td>\n      <td>No</td>\n    </tr>\n  </tbody>\n</table>\n</div>"
     },
     "metadata": {},
     "output_type": "display_data"
    },
    {
     "data": {
      "text/plain": "       HeartDisease            BMI Smoking AlcoholDrinking  Stroke  \\\ncount        319795  319795.000000  319795          319795  319795   \nunique            2            NaN       2               2       2   \ntop              No            NaN      No              No      No   \nfreq         292422            NaN  187887          298018  307726   \nmean            NaN      28.325399     NaN             NaN     NaN   \nstd             NaN       6.356100     NaN             NaN     NaN   \nmin             NaN      12.020000     NaN             NaN     NaN   \n25%             NaN      24.030000     NaN             NaN     NaN   \n50%             NaN      27.340000     NaN             NaN     NaN   \n75%             NaN      31.420000     NaN             NaN     NaN   \nmax             NaN      94.850000     NaN             NaN     NaN   \n\n        PhysicalHealth   MentalHealth DiffWalking     Sex AgeCategory    Race  \\\ncount     319795.00000  319795.000000      319795  319795      319795  319795   \nunique             NaN            NaN           2       2          13       6   \ntop                NaN            NaN          No  Female       65-69   White   \nfreq               NaN            NaN      275385  167805       34151  245212   \nmean           3.37171       3.898366         NaN     NaN         NaN     NaN   \nstd            7.95085       7.955235         NaN     NaN         NaN     NaN   \nmin            0.00000       0.000000         NaN     NaN         NaN     NaN   \n25%            0.00000       0.000000         NaN     NaN         NaN     NaN   \n50%            0.00000       0.000000         NaN     NaN         NaN     NaN   \n75%            2.00000       3.000000         NaN     NaN         NaN     NaN   \nmax           30.00000      30.000000         NaN     NaN         NaN     NaN   \n\n       Diabetic PhysicalActivity  GenHealth      SleepTime  Asthma  \\\ncount    319795           319795     319795  319795.000000  319795   \nunique        4                2          5            NaN       2   \ntop          No              Yes  Very good            NaN      No   \nfreq     269653           247957     113858            NaN  276923   \nmean        NaN              NaN        NaN       7.097075     NaN   \nstd         NaN              NaN        NaN       1.436007     NaN   \nmin         NaN              NaN        NaN       1.000000     NaN   \n25%         NaN              NaN        NaN       6.000000     NaN   \n50%         NaN              NaN        NaN       7.000000     NaN   \n75%         NaN              NaN        NaN       8.000000     NaN   \nmax         NaN              NaN        NaN      24.000000     NaN   \n\n       KidneyDisease SkinCancer  \ncount         319795     319795  \nunique             2          2  \ntop               No         No  \nfreq          308016     289976  \nmean             NaN        NaN  \nstd              NaN        NaN  \nmin              NaN        NaN  \n25%              NaN        NaN  \n50%              NaN        NaN  \n75%              NaN        NaN  \nmax              NaN        NaN  ",
      "text/html": "<div>\n<style scoped>\n    .dataframe tbody tr th:only-of-type {\n        vertical-align: middle;\n    }\n\n    .dataframe tbody tr th {\n        vertical-align: top;\n    }\n\n    .dataframe thead th {\n        text-align: right;\n    }\n</style>\n<table border=\"1\" class=\"dataframe\">\n  <thead>\n    <tr style=\"text-align: right;\">\n      <th></th>\n      <th>HeartDisease</th>\n      <th>BMI</th>\n      <th>Smoking</th>\n      <th>AlcoholDrinking</th>\n      <th>Stroke</th>\n      <th>PhysicalHealth</th>\n      <th>MentalHealth</th>\n      <th>DiffWalking</th>\n      <th>Sex</th>\n      <th>AgeCategory</th>\n      <th>Race</th>\n      <th>Diabetic</th>\n      <th>PhysicalActivity</th>\n      <th>GenHealth</th>\n      <th>SleepTime</th>\n      <th>Asthma</th>\n      <th>KidneyDisease</th>\n      <th>SkinCancer</th>\n    </tr>\n  </thead>\n  <tbody>\n    <tr>\n      <th>count</th>\n      <td>319795</td>\n      <td>319795.000000</td>\n      <td>319795</td>\n      <td>319795</td>\n      <td>319795</td>\n      <td>319795.00000</td>\n      <td>319795.000000</td>\n      <td>319795</td>\n      <td>319795</td>\n      <td>319795</td>\n      <td>319795</td>\n      <td>319795</td>\n      <td>319795</td>\n      <td>319795</td>\n      <td>319795.000000</td>\n      <td>319795</td>\n      <td>319795</td>\n      <td>319795</td>\n    </tr>\n    <tr>\n      <th>unique</th>\n      <td>2</td>\n      <td>NaN</td>\n      <td>2</td>\n      <td>2</td>\n      <td>2</td>\n      <td>NaN</td>\n      <td>NaN</td>\n      <td>2</td>\n      <td>2</td>\n      <td>13</td>\n      <td>6</td>\n      <td>4</td>\n      <td>2</td>\n      <td>5</td>\n      <td>NaN</td>\n      <td>2</td>\n      <td>2</td>\n      <td>2</td>\n    </tr>\n    <tr>\n      <th>top</th>\n      <td>No</td>\n      <td>NaN</td>\n      <td>No</td>\n      <td>No</td>\n      <td>No</td>\n      <td>NaN</td>\n      <td>NaN</td>\n      <td>No</td>\n      <td>Female</td>\n      <td>65-69</td>\n      <td>White</td>\n      <td>No</td>\n      <td>Yes</td>\n      <td>Very good</td>\n      <td>NaN</td>\n      <td>No</td>\n      <td>No</td>\n      <td>No</td>\n    </tr>\n    <tr>\n      <th>freq</th>\n      <td>292422</td>\n      <td>NaN</td>\n      <td>187887</td>\n      <td>298018</td>\n      <td>307726</td>\n      <td>NaN</td>\n      <td>NaN</td>\n      <td>275385</td>\n      <td>167805</td>\n      <td>34151</td>\n      <td>245212</td>\n      <td>269653</td>\n      <td>247957</td>\n      <td>113858</td>\n      <td>NaN</td>\n      <td>276923</td>\n      <td>308016</td>\n      <td>289976</td>\n    </tr>\n    <tr>\n      <th>mean</th>\n      <td>NaN</td>\n      <td>28.325399</td>\n      <td>NaN</td>\n      <td>NaN</td>\n      <td>NaN</td>\n      <td>3.37171</td>\n      <td>3.898366</td>\n      <td>NaN</td>\n      <td>NaN</td>\n      <td>NaN</td>\n      <td>NaN</td>\n      <td>NaN</td>\n      <td>NaN</td>\n      <td>NaN</td>\n      <td>7.097075</td>\n      <td>NaN</td>\n      <td>NaN</td>\n      <td>NaN</td>\n    </tr>\n    <tr>\n      <th>std</th>\n      <td>NaN</td>\n      <td>6.356100</td>\n      <td>NaN</td>\n      <td>NaN</td>\n      <td>NaN</td>\n      <td>7.95085</td>\n      <td>7.955235</td>\n      <td>NaN</td>\n      <td>NaN</td>\n      <td>NaN</td>\n      <td>NaN</td>\n      <td>NaN</td>\n      <td>NaN</td>\n      <td>NaN</td>\n      <td>1.436007</td>\n      <td>NaN</td>\n      <td>NaN</td>\n      <td>NaN</td>\n    </tr>\n    <tr>\n      <th>min</th>\n      <td>NaN</td>\n      <td>12.020000</td>\n      <td>NaN</td>\n      <td>NaN</td>\n      <td>NaN</td>\n      <td>0.00000</td>\n      <td>0.000000</td>\n      <td>NaN</td>\n      <td>NaN</td>\n      <td>NaN</td>\n      <td>NaN</td>\n      <td>NaN</td>\n      <td>NaN</td>\n      <td>NaN</td>\n      <td>1.000000</td>\n      <td>NaN</td>\n      <td>NaN</td>\n      <td>NaN</td>\n    </tr>\n    <tr>\n      <th>25%</th>\n      <td>NaN</td>\n      <td>24.030000</td>\n      <td>NaN</td>\n      <td>NaN</td>\n      <td>NaN</td>\n      <td>0.00000</td>\n      <td>0.000000</td>\n      <td>NaN</td>\n      <td>NaN</td>\n      <td>NaN</td>\n      <td>NaN</td>\n      <td>NaN</td>\n      <td>NaN</td>\n      <td>NaN</td>\n      <td>6.000000</td>\n      <td>NaN</td>\n      <td>NaN</td>\n      <td>NaN</td>\n    </tr>\n    <tr>\n      <th>50%</th>\n      <td>NaN</td>\n      <td>27.340000</td>\n      <td>NaN</td>\n      <td>NaN</td>\n      <td>NaN</td>\n      <td>0.00000</td>\n      <td>0.000000</td>\n      <td>NaN</td>\n      <td>NaN</td>\n      <td>NaN</td>\n      <td>NaN</td>\n      <td>NaN</td>\n      <td>NaN</td>\n      <td>NaN</td>\n      <td>7.000000</td>\n      <td>NaN</td>\n      <td>NaN</td>\n      <td>NaN</td>\n    </tr>\n    <tr>\n      <th>75%</th>\n      <td>NaN</td>\n      <td>31.420000</td>\n      <td>NaN</td>\n      <td>NaN</td>\n      <td>NaN</td>\n      <td>2.00000</td>\n      <td>3.000000</td>\n      <td>NaN</td>\n      <td>NaN</td>\n      <td>NaN</td>\n      <td>NaN</td>\n      <td>NaN</td>\n      <td>NaN</td>\n      <td>NaN</td>\n      <td>8.000000</td>\n      <td>NaN</td>\n      <td>NaN</td>\n      <td>NaN</td>\n    </tr>\n    <tr>\n      <th>max</th>\n      <td>NaN</td>\n      <td>94.850000</td>\n      <td>NaN</td>\n      <td>NaN</td>\n      <td>NaN</td>\n      <td>30.00000</td>\n      <td>30.000000</td>\n      <td>NaN</td>\n      <td>NaN</td>\n      <td>NaN</td>\n      <td>NaN</td>\n      <td>NaN</td>\n      <td>NaN</td>\n      <td>NaN</td>\n      <td>24.000000</td>\n      <td>NaN</td>\n      <td>NaN</td>\n      <td>NaN</td>\n    </tr>\n  </tbody>\n</table>\n</div>"
     },
     "metadata": {},
     "output_type": "display_data"
    },
    {
     "data": {
      "text/plain": "                                     HeartDisease       BMI   Smoking  \\\nHeartDisease                             1.000000  0.051803  0.107764   \nBMI                                      0.051803  1.000000  0.023118   \nSmoking                                  0.107764  0.023118  1.000000   \nAlcoholDrinking                         -0.032080 -0.038816  0.111768   \nStroke                                   0.196835  0.019733  0.061226   \nPhysicalHealth                           0.170721  0.109788  0.115352   \nMentalHealth                             0.028591  0.064131  0.085157   \nDiffWalking                              0.201258  0.181678  0.120074   \nSex                                     -0.070040 -0.026940 -0.085052   \nAgeCategory                              0.236295 -0.013622  0.123921   \nDiabetic                                 0.181858  0.212971  0.058520   \nPhysicalActivity                        -0.100030 -0.150616 -0.097174   \nGenHealth                               -0.243182 -0.230720 -0.174717   \nSleepTime                                0.008327 -0.051822 -0.030336   \nAsthma                                   0.041444  0.092345  0.024149   \nKidneyDisease                            0.145197  0.050768  0.034920   \nSkinCancer                               0.093317 -0.033644  0.033977   \nRace_American Indian/Alaskan Native      0.008547  0.026347  0.035667   \nRace_Asian                              -0.030262 -0.078643 -0.060308   \nRace_Black                              -0.010156  0.080672 -0.038249   \nRace_Hispanic                           -0.036163  0.023750 -0.066873   \nRace_Other                              -0.003039  0.012535  0.016205   \nRace_White                               0.040121 -0.049060  0.072367   \n\n                                     AlcoholDrinking    Stroke  \\\nHeartDisease                               -0.032080  0.196835   \nBMI                                        -0.038816  0.019733   \nSmoking                                     0.111768  0.061226   \nAlcoholDrinking                             1.000000 -0.019858   \nStroke                                     -0.019858  1.000000   \nPhysicalHealth                             -0.017254  0.137014   \nMentalHealth                                0.051282  0.046467   \nDiffWalking                                -0.035328  0.174143   \nSex                                        -0.004200  0.003091   \nAgeCategory                                -0.061038  0.139749   \nDiabetic                                   -0.059408  0.108457   \nPhysicalActivity                            0.017487 -0.079455   \nGenHealth                                   0.029780 -0.168090   \nSleepTime                                  -0.005065  0.011900   \nAsthma                                     -0.002202  0.038866   \nKidneyDisease                              -0.028280  0.091167   \nSkinCancer                                 -0.005702  0.048116   \nRace_American Indian/Alaskan Native        -0.004243  0.014357   \nRace_Asian                                 -0.022275 -0.016060   \nRace_Black                                 -0.025980  0.024819   \nRace_Hispanic                              -0.015554 -0.025823   \nRace_Other                                  0.005455  0.005743   \nRace_White                                  0.033342  0.001154   \n\n                                     PhysicalHealth  MentalHealth  \\\nHeartDisease                               0.170721      0.028591   \nBMI                                        0.109788      0.064131   \nSmoking                                    0.115352      0.085157   \nAlcoholDrinking                           -0.017254      0.051282   \nStroke                                     0.137014      0.046467   \nPhysicalHealth                             1.000000      0.287987   \nMentalHealth                               0.287987      1.000000   \nDiffWalking                                0.428373      0.152235   \nSex                                        0.040904      0.100058   \nAgeCategory                                0.109236     -0.155113   \nDiabetic                                   0.160228      0.029578   \nPhysicalActivity                          -0.232283     -0.095808   \nGenHealth                                 -0.482697     -0.241625   \nSleepTime                                 -0.061387     -0.119717   \nAsthma                                     0.117907      0.114008   \nKidneyDisease                              0.142197      0.037281   \nSkinCancer                                 0.041700     -0.033412   \nRace_American Indian/Alaskan Native        0.022955      0.018394   \nRace_Asian                                -0.035229     -0.023113   \nRace_Black                                 0.011371      0.010944   \nRace_Hispanic                             -0.005571      0.011167   \nRace_Other                                 0.016102      0.031385   \nRace_White                                -0.003968     -0.024489   \n\n                                     DiffWalking       Sex  AgeCategory  ...  \\\nHeartDisease                            0.201258 -0.070040     0.236295  ...   \nBMI                                     0.181678 -0.026940    -0.013622  ...   \nSmoking                                 0.120074 -0.085052     0.123921  ...   \nAlcoholDrinking                        -0.035328 -0.004200    -0.061038  ...   \nStroke                                  0.174143  0.003091     0.139749  ...   \nPhysicalHealth                          0.428373  0.040904     0.109236  ...   \nMentalHealth                            0.152235  0.100058    -0.155113  ...   \nDiffWalking                             1.000000  0.068860     0.247335  ...   \nSex                                     0.068860  1.000000     0.069341  ...   \nAgeCategory                             0.247335  0.069341     1.000000  ...   \nDiabetic                                0.219553 -0.011578     0.210399  ...   \nPhysicalActivity                       -0.278524 -0.048247    -0.125352  ...   \nGenHealth                              -0.413797 -0.025947    -0.188423  ...   \nSleepTime                              -0.022216  0.015704     0.108257  ...   \nAsthma                                  0.103222  0.069191    -0.058888  ...   \nKidneyDisease                           0.153064  0.009084     0.123876  ...   \nSkinCancer                              0.064840 -0.013434     0.266799  ...   \nRace_American Indian/Alaskan Native     0.025205  0.003434    -0.025969  ...   \nRace_Asian                             -0.038830 -0.013716    -0.082299  ...   \nRace_Black                              0.039615  0.037280    -0.035960  ...   \nRace_Hispanic                          -0.008214  0.003607    -0.160187  ...   \nRace_Other                              0.008483 -0.008762    -0.060303  ...   \nRace_White                             -0.015516 -0.017314     0.192239  ...   \n\n                                     SleepTime    Asthma  KidneyDisease  \\\nHeartDisease                          0.008327  0.041444       0.145197   \nBMI                                  -0.051822  0.092345       0.050768   \nSmoking                              -0.030336  0.024149       0.034920   \nAlcoholDrinking                      -0.005065 -0.002202      -0.028280   \nStroke                                0.011900  0.038866       0.091167   \nPhysicalHealth                       -0.061387  0.117907       0.142197   \nMentalHealth                         -0.119717  0.114008       0.037281   \nDiffWalking                          -0.022216  0.103222       0.153064   \nSex                                   0.015704  0.069191       0.009084   \nAgeCategory                           0.108257 -0.058888       0.123876   \nDiabetic                              0.003527  0.049313       0.151426   \nPhysicalActivity                      0.003849 -0.041526      -0.081827   \nGenHealth                             0.063071 -0.137342      -0.174642   \nSleepTime                             1.000000 -0.048245       0.006238   \nAsthma                               -0.048245  1.000000       0.039707   \nKidneyDisease                         0.006238  0.039707       1.000000   \nSkinCancer                            0.041266 -0.000396       0.061816   \nRace_American Indian/Alaskan Native  -0.003615  0.013757       0.007401   \nRace_Asian                           -0.019985 -0.017007      -0.016957   \nRace_Black                           -0.020192  0.021297       0.010300   \nRace_Hispanic                        -0.013242  0.003885      -0.010960   \nRace_Other                           -0.031007  0.028037      -0.002057   \nRace_White                            0.042905 -0.025421       0.005933   \n\n                                     SkinCancer  \\\nHeartDisease                           0.093317   \nBMI                                   -0.033644   \nSmoking                                0.033977   \nAlcoholDrinking                       -0.005702   \nStroke                                 0.048116   \nPhysicalHealth                         0.041700   \nMentalHealth                          -0.033412   \nDiffWalking                            0.064840   \nSex                                   -0.013434   \nAgeCategory                            0.266799   \nDiabetic                               0.037543   \nPhysicalActivity                      -0.001328   \nGenHealth                             -0.050641   \nSleepTime                              0.041266   \nAsthma                                -0.000396   \nKidneyDisease                          0.061816   \nSkinCancer                             1.000000   \nRace_American Indian/Alaskan Native   -0.026784   \nRace_Asian                            -0.047749   \nRace_Black                            -0.083390   \nRace_Hispanic                         -0.082360   \nRace_Other                            -0.031905   \nRace_White                             0.144862   \n\n                                     Race_American Indian/Alaskan Native  \\\nHeartDisease                                                    0.008547   \nBMI                                                             0.026347   \nSmoking                                                         0.035667   \nAlcoholDrinking                                                -0.004243   \nStroke                                                          0.014357   \nPhysicalHealth                                                  0.022955   \nMentalHealth                                                    0.018394   \nDiffWalking                                                     0.025205   \nSex                                                             0.003434   \nAgeCategory                                                    -0.025969   \nDiabetic                                                        0.028458   \nPhysicalActivity                                               -0.017736   \nGenHealth                                                      -0.037600   \nSleepTime                                                      -0.003615   \nAsthma                                                          0.013757   \nKidneyDisease                                                   0.007401   \nSkinCancer                                                     -0.026784   \nRace_American Indian/Alaskan Native                             1.000000   \nRace_Asian                                                     -0.020687   \nRace_Black                                                     -0.035746   \nRace_Hispanic                                                  -0.039400   \nRace_Other                                                     -0.024188   \nRace_White                                                     -0.233164   \n\n                                     Race_Asian  Race_Black  Race_Hispanic  \\\nHeartDisease                          -0.030262   -0.010156      -0.036163   \nBMI                                   -0.078643    0.080672       0.023750   \nSmoking                               -0.060308   -0.038249      -0.066873   \nAlcoholDrinking                       -0.022275   -0.025980      -0.015554   \nStroke                                -0.016060    0.024819      -0.025823   \nPhysicalHealth                        -0.035229    0.011371      -0.005571   \nMentalHealth                          -0.023113    0.010944       0.011167   \nDiffWalking                           -0.038830    0.039615      -0.008214   \nSex                                   -0.013716    0.037280       0.003607   \nAgeCategory                           -0.082299   -0.035960      -0.160187   \nDiabetic                              -0.007263    0.057232       0.008974   \nPhysicalActivity                       0.012106   -0.043701      -0.056564   \nGenHealth                              0.032701   -0.062215      -0.028721   \nSleepTime                             -0.019985   -0.020192      -0.013242   \nAsthma                                -0.017007    0.021297       0.003885   \nKidneyDisease                         -0.016957    0.010300      -0.010960   \nSkinCancer                            -0.047749   -0.083390      -0.082360   \nRace_American Indian/Alaskan Native   -0.020687   -0.035746      -0.039400   \nRace_Asian                             1.000000   -0.044721      -0.049293   \nRace_Black                            -0.044721    1.000000      -0.085173   \nRace_Hispanic                         -0.049293   -0.085173       1.000000   \nRace_Other                            -0.030261   -0.052288      -0.057633   \nRace_White                            -0.291707   -0.504040      -0.555571   \n\n                                     Race_Other  Race_White  \nHeartDisease                          -0.003039    0.040121  \nBMI                                    0.012535   -0.049060  \nSmoking                                0.016205    0.072367  \nAlcoholDrinking                        0.005455    0.033342  \nStroke                                 0.005743    0.001154  \nPhysicalHealth                         0.016102   -0.003968  \nMentalHealth                           0.031385   -0.024489  \nDiffWalking                            0.008483   -0.015516  \nSex                                   -0.008762   -0.017314  \nAgeCategory                           -0.060303    0.192239  \nDiabetic                               0.009832   -0.050910  \nPhysicalActivity                       0.001808    0.064172  \nGenHealth                             -0.015241    0.062656  \nSleepTime                             -0.031007    0.042905  \nAsthma                                 0.028037   -0.025421  \nKidneyDisease                         -0.002057    0.005933  \nSkinCancer                            -0.031905    0.144862  \nRace_American Indian/Alaskan Native   -0.024188   -0.233164  \nRace_Asian                            -0.030261   -0.291707  \nRace_Black                            -0.052288   -0.504040  \nRace_Hispanic                         -0.057633   -0.555571  \nRace_Other                             1.000000   -0.341064  \nRace_White                            -0.341064    1.000000  \n\n[23 rows x 23 columns]",
      "text/html": "<div>\n<style scoped>\n    .dataframe tbody tr th:only-of-type {\n        vertical-align: middle;\n    }\n\n    .dataframe tbody tr th {\n        vertical-align: top;\n    }\n\n    .dataframe thead th {\n        text-align: right;\n    }\n</style>\n<table border=\"1\" class=\"dataframe\">\n  <thead>\n    <tr style=\"text-align: right;\">\n      <th></th>\n      <th>HeartDisease</th>\n      <th>BMI</th>\n      <th>Smoking</th>\n      <th>AlcoholDrinking</th>\n      <th>Stroke</th>\n      <th>PhysicalHealth</th>\n      <th>MentalHealth</th>\n      <th>DiffWalking</th>\n      <th>Sex</th>\n      <th>AgeCategory</th>\n      <th>...</th>\n      <th>SleepTime</th>\n      <th>Asthma</th>\n      <th>KidneyDisease</th>\n      <th>SkinCancer</th>\n      <th>Race_American Indian/Alaskan Native</th>\n      <th>Race_Asian</th>\n      <th>Race_Black</th>\n      <th>Race_Hispanic</th>\n      <th>Race_Other</th>\n      <th>Race_White</th>\n    </tr>\n  </thead>\n  <tbody>\n    <tr>\n      <th>HeartDisease</th>\n      <td>1.000000</td>\n      <td>0.051803</td>\n      <td>0.107764</td>\n      <td>-0.032080</td>\n      <td>0.196835</td>\n      <td>0.170721</td>\n      <td>0.028591</td>\n      <td>0.201258</td>\n      <td>-0.070040</td>\n      <td>0.236295</td>\n      <td>...</td>\n      <td>0.008327</td>\n      <td>0.041444</td>\n      <td>0.145197</td>\n      <td>0.093317</td>\n      <td>0.008547</td>\n      <td>-0.030262</td>\n      <td>-0.010156</td>\n      <td>-0.036163</td>\n      <td>-0.003039</td>\n      <td>0.040121</td>\n    </tr>\n    <tr>\n      <th>BMI</th>\n      <td>0.051803</td>\n      <td>1.000000</td>\n      <td>0.023118</td>\n      <td>-0.038816</td>\n      <td>0.019733</td>\n      <td>0.109788</td>\n      <td>0.064131</td>\n      <td>0.181678</td>\n      <td>-0.026940</td>\n      <td>-0.013622</td>\n      <td>...</td>\n      <td>-0.051822</td>\n      <td>0.092345</td>\n      <td>0.050768</td>\n      <td>-0.033644</td>\n      <td>0.026347</td>\n      <td>-0.078643</td>\n      <td>0.080672</td>\n      <td>0.023750</td>\n      <td>0.012535</td>\n      <td>-0.049060</td>\n    </tr>\n    <tr>\n      <th>Smoking</th>\n      <td>0.107764</td>\n      <td>0.023118</td>\n      <td>1.000000</td>\n      <td>0.111768</td>\n      <td>0.061226</td>\n      <td>0.115352</td>\n      <td>0.085157</td>\n      <td>0.120074</td>\n      <td>-0.085052</td>\n      <td>0.123921</td>\n      <td>...</td>\n      <td>-0.030336</td>\n      <td>0.024149</td>\n      <td>0.034920</td>\n      <td>0.033977</td>\n      <td>0.035667</td>\n      <td>-0.060308</td>\n      <td>-0.038249</td>\n      <td>-0.066873</td>\n      <td>0.016205</td>\n      <td>0.072367</td>\n    </tr>\n    <tr>\n      <th>AlcoholDrinking</th>\n      <td>-0.032080</td>\n      <td>-0.038816</td>\n      <td>0.111768</td>\n      <td>1.000000</td>\n      <td>-0.019858</td>\n      <td>-0.017254</td>\n      <td>0.051282</td>\n      <td>-0.035328</td>\n      <td>-0.004200</td>\n      <td>-0.061038</td>\n      <td>...</td>\n      <td>-0.005065</td>\n      <td>-0.002202</td>\n      <td>-0.028280</td>\n      <td>-0.005702</td>\n      <td>-0.004243</td>\n      <td>-0.022275</td>\n      <td>-0.025980</td>\n      <td>-0.015554</td>\n      <td>0.005455</td>\n      <td>0.033342</td>\n    </tr>\n    <tr>\n      <th>Stroke</th>\n      <td>0.196835</td>\n      <td>0.019733</td>\n      <td>0.061226</td>\n      <td>-0.019858</td>\n      <td>1.000000</td>\n      <td>0.137014</td>\n      <td>0.046467</td>\n      <td>0.174143</td>\n      <td>0.003091</td>\n      <td>0.139749</td>\n      <td>...</td>\n      <td>0.011900</td>\n      <td>0.038866</td>\n      <td>0.091167</td>\n      <td>0.048116</td>\n      <td>0.014357</td>\n      <td>-0.016060</td>\n      <td>0.024819</td>\n      <td>-0.025823</td>\n      <td>0.005743</td>\n      <td>0.001154</td>\n    </tr>\n    <tr>\n      <th>PhysicalHealth</th>\n      <td>0.170721</td>\n      <td>0.109788</td>\n      <td>0.115352</td>\n      <td>-0.017254</td>\n      <td>0.137014</td>\n      <td>1.000000</td>\n      <td>0.287987</td>\n      <td>0.428373</td>\n      <td>0.040904</td>\n      <td>0.109236</td>\n      <td>...</td>\n      <td>-0.061387</td>\n      <td>0.117907</td>\n      <td>0.142197</td>\n      <td>0.041700</td>\n      <td>0.022955</td>\n      <td>-0.035229</td>\n      <td>0.011371</td>\n      <td>-0.005571</td>\n      <td>0.016102</td>\n      <td>-0.003968</td>\n    </tr>\n    <tr>\n      <th>MentalHealth</th>\n      <td>0.028591</td>\n      <td>0.064131</td>\n      <td>0.085157</td>\n      <td>0.051282</td>\n      <td>0.046467</td>\n      <td>0.287987</td>\n      <td>1.000000</td>\n      <td>0.152235</td>\n      <td>0.100058</td>\n      <td>-0.155113</td>\n      <td>...</td>\n      <td>-0.119717</td>\n      <td>0.114008</td>\n      <td>0.037281</td>\n      <td>-0.033412</td>\n      <td>0.018394</td>\n      <td>-0.023113</td>\n      <td>0.010944</td>\n      <td>0.011167</td>\n      <td>0.031385</td>\n      <td>-0.024489</td>\n    </tr>\n    <tr>\n      <th>DiffWalking</th>\n      <td>0.201258</td>\n      <td>0.181678</td>\n      <td>0.120074</td>\n      <td>-0.035328</td>\n      <td>0.174143</td>\n      <td>0.428373</td>\n      <td>0.152235</td>\n      <td>1.000000</td>\n      <td>0.068860</td>\n      <td>0.247335</td>\n      <td>...</td>\n      <td>-0.022216</td>\n      <td>0.103222</td>\n      <td>0.153064</td>\n      <td>0.064840</td>\n      <td>0.025205</td>\n      <td>-0.038830</td>\n      <td>0.039615</td>\n      <td>-0.008214</td>\n      <td>0.008483</td>\n      <td>-0.015516</td>\n    </tr>\n    <tr>\n      <th>Sex</th>\n      <td>-0.070040</td>\n      <td>-0.026940</td>\n      <td>-0.085052</td>\n      <td>-0.004200</td>\n      <td>0.003091</td>\n      <td>0.040904</td>\n      <td>0.100058</td>\n      <td>0.068860</td>\n      <td>1.000000</td>\n      <td>0.069341</td>\n      <td>...</td>\n      <td>0.015704</td>\n      <td>0.069191</td>\n      <td>0.009084</td>\n      <td>-0.013434</td>\n      <td>0.003434</td>\n      <td>-0.013716</td>\n      <td>0.037280</td>\n      <td>0.003607</td>\n      <td>-0.008762</td>\n      <td>-0.017314</td>\n    </tr>\n    <tr>\n      <th>AgeCategory</th>\n      <td>0.236295</td>\n      <td>-0.013622</td>\n      <td>0.123921</td>\n      <td>-0.061038</td>\n      <td>0.139749</td>\n      <td>0.109236</td>\n      <td>-0.155113</td>\n      <td>0.247335</td>\n      <td>0.069341</td>\n      <td>1.000000</td>\n      <td>...</td>\n      <td>0.108257</td>\n      <td>-0.058888</td>\n      <td>0.123876</td>\n      <td>0.266799</td>\n      <td>-0.025969</td>\n      <td>-0.082299</td>\n      <td>-0.035960</td>\n      <td>-0.160187</td>\n      <td>-0.060303</td>\n      <td>0.192239</td>\n    </tr>\n    <tr>\n      <th>Diabetic</th>\n      <td>0.181858</td>\n      <td>0.212971</td>\n      <td>0.058520</td>\n      <td>-0.059408</td>\n      <td>0.108457</td>\n      <td>0.160228</td>\n      <td>0.029578</td>\n      <td>0.219553</td>\n      <td>-0.011578</td>\n      <td>0.210399</td>\n      <td>...</td>\n      <td>0.003527</td>\n      <td>0.049313</td>\n      <td>0.151426</td>\n      <td>0.037543</td>\n      <td>0.028458</td>\n      <td>-0.007263</td>\n      <td>0.057232</td>\n      <td>0.008974</td>\n      <td>0.009832</td>\n      <td>-0.050910</td>\n    </tr>\n    <tr>\n      <th>PhysicalActivity</th>\n      <td>-0.100030</td>\n      <td>-0.150616</td>\n      <td>-0.097174</td>\n      <td>0.017487</td>\n      <td>-0.079455</td>\n      <td>-0.232283</td>\n      <td>-0.095808</td>\n      <td>-0.278524</td>\n      <td>-0.048247</td>\n      <td>-0.125352</td>\n      <td>...</td>\n      <td>0.003849</td>\n      <td>-0.041526</td>\n      <td>-0.081827</td>\n      <td>-0.001328</td>\n      <td>-0.017736</td>\n      <td>0.012106</td>\n      <td>-0.043701</td>\n      <td>-0.056564</td>\n      <td>0.001808</td>\n      <td>0.064172</td>\n    </tr>\n    <tr>\n      <th>GenHealth</th>\n      <td>-0.243182</td>\n      <td>-0.230720</td>\n      <td>-0.174717</td>\n      <td>0.029780</td>\n      <td>-0.168090</td>\n      <td>-0.482697</td>\n      <td>-0.241625</td>\n      <td>-0.413797</td>\n      <td>-0.025947</td>\n      <td>-0.188423</td>\n      <td>...</td>\n      <td>0.063071</td>\n      <td>-0.137342</td>\n      <td>-0.174642</td>\n      <td>-0.050641</td>\n      <td>-0.037600</td>\n      <td>0.032701</td>\n      <td>-0.062215</td>\n      <td>-0.028721</td>\n      <td>-0.015241</td>\n      <td>0.062656</td>\n    </tr>\n    <tr>\n      <th>SleepTime</th>\n      <td>0.008327</td>\n      <td>-0.051822</td>\n      <td>-0.030336</td>\n      <td>-0.005065</td>\n      <td>0.011900</td>\n      <td>-0.061387</td>\n      <td>-0.119717</td>\n      <td>-0.022216</td>\n      <td>0.015704</td>\n      <td>0.108257</td>\n      <td>...</td>\n      <td>1.000000</td>\n      <td>-0.048245</td>\n      <td>0.006238</td>\n      <td>0.041266</td>\n      <td>-0.003615</td>\n      <td>-0.019985</td>\n      <td>-0.020192</td>\n      <td>-0.013242</td>\n      <td>-0.031007</td>\n      <td>0.042905</td>\n    </tr>\n    <tr>\n      <th>Asthma</th>\n      <td>0.041444</td>\n      <td>0.092345</td>\n      <td>0.024149</td>\n      <td>-0.002202</td>\n      <td>0.038866</td>\n      <td>0.117907</td>\n      <td>0.114008</td>\n      <td>0.103222</td>\n      <td>0.069191</td>\n      <td>-0.058888</td>\n      <td>...</td>\n      <td>-0.048245</td>\n      <td>1.000000</td>\n      <td>0.039707</td>\n      <td>-0.000396</td>\n      <td>0.013757</td>\n      <td>-0.017007</td>\n      <td>0.021297</td>\n      <td>0.003885</td>\n      <td>0.028037</td>\n      <td>-0.025421</td>\n    </tr>\n    <tr>\n      <th>KidneyDisease</th>\n      <td>0.145197</td>\n      <td>0.050768</td>\n      <td>0.034920</td>\n      <td>-0.028280</td>\n      <td>0.091167</td>\n      <td>0.142197</td>\n      <td>0.037281</td>\n      <td>0.153064</td>\n      <td>0.009084</td>\n      <td>0.123876</td>\n      <td>...</td>\n      <td>0.006238</td>\n      <td>0.039707</td>\n      <td>1.000000</td>\n      <td>0.061816</td>\n      <td>0.007401</td>\n      <td>-0.016957</td>\n      <td>0.010300</td>\n      <td>-0.010960</td>\n      <td>-0.002057</td>\n      <td>0.005933</td>\n    </tr>\n    <tr>\n      <th>SkinCancer</th>\n      <td>0.093317</td>\n      <td>-0.033644</td>\n      <td>0.033977</td>\n      <td>-0.005702</td>\n      <td>0.048116</td>\n      <td>0.041700</td>\n      <td>-0.033412</td>\n      <td>0.064840</td>\n      <td>-0.013434</td>\n      <td>0.266799</td>\n      <td>...</td>\n      <td>0.041266</td>\n      <td>-0.000396</td>\n      <td>0.061816</td>\n      <td>1.000000</td>\n      <td>-0.026784</td>\n      <td>-0.047749</td>\n      <td>-0.083390</td>\n      <td>-0.082360</td>\n      <td>-0.031905</td>\n      <td>0.144862</td>\n    </tr>\n    <tr>\n      <th>Race_American Indian/Alaskan Native</th>\n      <td>0.008547</td>\n      <td>0.026347</td>\n      <td>0.035667</td>\n      <td>-0.004243</td>\n      <td>0.014357</td>\n      <td>0.022955</td>\n      <td>0.018394</td>\n      <td>0.025205</td>\n      <td>0.003434</td>\n      <td>-0.025969</td>\n      <td>...</td>\n      <td>-0.003615</td>\n      <td>0.013757</td>\n      <td>0.007401</td>\n      <td>-0.026784</td>\n      <td>1.000000</td>\n      <td>-0.020687</td>\n      <td>-0.035746</td>\n      <td>-0.039400</td>\n      <td>-0.024188</td>\n      <td>-0.233164</td>\n    </tr>\n    <tr>\n      <th>Race_Asian</th>\n      <td>-0.030262</td>\n      <td>-0.078643</td>\n      <td>-0.060308</td>\n      <td>-0.022275</td>\n      <td>-0.016060</td>\n      <td>-0.035229</td>\n      <td>-0.023113</td>\n      <td>-0.038830</td>\n      <td>-0.013716</td>\n      <td>-0.082299</td>\n      <td>...</td>\n      <td>-0.019985</td>\n      <td>-0.017007</td>\n      <td>-0.016957</td>\n      <td>-0.047749</td>\n      <td>-0.020687</td>\n      <td>1.000000</td>\n      <td>-0.044721</td>\n      <td>-0.049293</td>\n      <td>-0.030261</td>\n      <td>-0.291707</td>\n    </tr>\n    <tr>\n      <th>Race_Black</th>\n      <td>-0.010156</td>\n      <td>0.080672</td>\n      <td>-0.038249</td>\n      <td>-0.025980</td>\n      <td>0.024819</td>\n      <td>0.011371</td>\n      <td>0.010944</td>\n      <td>0.039615</td>\n      <td>0.037280</td>\n      <td>-0.035960</td>\n      <td>...</td>\n      <td>-0.020192</td>\n      <td>0.021297</td>\n      <td>0.010300</td>\n      <td>-0.083390</td>\n      <td>-0.035746</td>\n      <td>-0.044721</td>\n      <td>1.000000</td>\n      <td>-0.085173</td>\n      <td>-0.052288</td>\n      <td>-0.504040</td>\n    </tr>\n    <tr>\n      <th>Race_Hispanic</th>\n      <td>-0.036163</td>\n      <td>0.023750</td>\n      <td>-0.066873</td>\n      <td>-0.015554</td>\n      <td>-0.025823</td>\n      <td>-0.005571</td>\n      <td>0.011167</td>\n      <td>-0.008214</td>\n      <td>0.003607</td>\n      <td>-0.160187</td>\n      <td>...</td>\n      <td>-0.013242</td>\n      <td>0.003885</td>\n      <td>-0.010960</td>\n      <td>-0.082360</td>\n      <td>-0.039400</td>\n      <td>-0.049293</td>\n      <td>-0.085173</td>\n      <td>1.000000</td>\n      <td>-0.057633</td>\n      <td>-0.555571</td>\n    </tr>\n    <tr>\n      <th>Race_Other</th>\n      <td>-0.003039</td>\n      <td>0.012535</td>\n      <td>0.016205</td>\n      <td>0.005455</td>\n      <td>0.005743</td>\n      <td>0.016102</td>\n      <td>0.031385</td>\n      <td>0.008483</td>\n      <td>-0.008762</td>\n      <td>-0.060303</td>\n      <td>...</td>\n      <td>-0.031007</td>\n      <td>0.028037</td>\n      <td>-0.002057</td>\n      <td>-0.031905</td>\n      <td>-0.024188</td>\n      <td>-0.030261</td>\n      <td>-0.052288</td>\n      <td>-0.057633</td>\n      <td>1.000000</td>\n      <td>-0.341064</td>\n    </tr>\n    <tr>\n      <th>Race_White</th>\n      <td>0.040121</td>\n      <td>-0.049060</td>\n      <td>0.072367</td>\n      <td>0.033342</td>\n      <td>0.001154</td>\n      <td>-0.003968</td>\n      <td>-0.024489</td>\n      <td>-0.015516</td>\n      <td>-0.017314</td>\n      <td>0.192239</td>\n      <td>...</td>\n      <td>0.042905</td>\n      <td>-0.025421</td>\n      <td>0.005933</td>\n      <td>0.144862</td>\n      <td>-0.233164</td>\n      <td>-0.291707</td>\n      <td>-0.504040</td>\n      <td>-0.555571</td>\n      <td>-0.341064</td>\n      <td>1.000000</td>\n    </tr>\n  </tbody>\n</table>\n<p>23 rows × 23 columns</p>\n</div>"
     },
     "metadata": {},
     "output_type": "display_data"
    },
    {
     "name": "stdout",
     "output_type": "stream",
     "text": [
      "HeartDisease: 0 NaN values\n",
      "BMI: 0 NaN values\n",
      "Smoking: 0 NaN values\n",
      "AlcoholDrinking: 0 NaN values\n",
      "Stroke: 0 NaN values\n",
      "PhysicalHealth: 0 NaN values\n",
      "MentalHealth: 0 NaN values\n",
      "DiffWalking: 0 NaN values\n",
      "Sex: 0 NaN values\n",
      "AgeCategory: 0 NaN values\n",
      "Race: 0 NaN values\n",
      "Diabetic: 0 NaN values\n",
      "PhysicalActivity: 0 NaN values\n",
      "GenHealth: 0 NaN values\n",
      "SleepTime: 0 NaN values\n",
      "Asthma: 0 NaN values\n",
      "KidneyDisease: 0 NaN values\n",
      "SkinCancer: 0 NaN values\n",
      "0    292422\n",
      "1     27373\n",
      "Name: HeartDisease, dtype: int64\n",
      "\n",
      "Percentages:\n"
     ]
    },
    {
     "ename": "KeyError",
     "evalue": "'No'",
     "output_type": "error",
     "traceback": [
      "\u001B[0;31m---------------------------------------------------------------------------\u001B[0m",
      "\u001B[0;31mKeyError\u001B[0m                                  Traceback (most recent call last)",
      "File \u001B[0;32m~/opt/anaconda3/lib/python3.9/site-packages/pandas/core/indexes/base.py:3621\u001B[0m, in \u001B[0;36mIndex.get_loc\u001B[0;34m(self, key, method, tolerance)\u001B[0m\n\u001B[1;32m   3620\u001B[0m \u001B[38;5;28;01mtry\u001B[39;00m:\n\u001B[0;32m-> 3621\u001B[0m     \u001B[38;5;28;01mreturn\u001B[39;00m \u001B[38;5;28;43mself\u001B[39;49m\u001B[38;5;241;43m.\u001B[39;49m\u001B[43m_engine\u001B[49m\u001B[38;5;241;43m.\u001B[39;49m\u001B[43mget_loc\u001B[49m\u001B[43m(\u001B[49m\u001B[43mcasted_key\u001B[49m\u001B[43m)\u001B[49m\n\u001B[1;32m   3622\u001B[0m \u001B[38;5;28;01mexcept\u001B[39;00m \u001B[38;5;167;01mKeyError\u001B[39;00m \u001B[38;5;28;01mas\u001B[39;00m err:\n",
      "File \u001B[0;32m~/opt/anaconda3/lib/python3.9/site-packages/pandas/_libs/index.pyx:136\u001B[0m, in \u001B[0;36mpandas._libs.index.IndexEngine.get_loc\u001B[0;34m()\u001B[0m\n",
      "File \u001B[0;32m~/opt/anaconda3/lib/python3.9/site-packages/pandas/_libs/index.pyx:144\u001B[0m, in \u001B[0;36mpandas._libs.index.IndexEngine.get_loc\u001B[0;34m()\u001B[0m\n",
      "File \u001B[0;32mpandas/_libs/index_class_helper.pxi:41\u001B[0m, in \u001B[0;36mpandas._libs.index.Int64Engine._check_type\u001B[0;34m()\u001B[0m\n",
      "\u001B[0;31mKeyError\u001B[0m: 'No'",
      "\nThe above exception was the direct cause of the following exception:\n",
      "\u001B[0;31mKeyError\u001B[0m                                  Traceback (most recent call last)",
      "Input \u001B[0;32mIn [45]\u001B[0m, in \u001B[0;36m<cell line: 16>\u001B[0;34m()\u001B[0m\n\u001B[1;32m     14\u001B[0m \u001B[38;5;28mprint\u001B[39m(heart_dataset_preprocessed[\u001B[38;5;124m'\u001B[39m\u001B[38;5;124mHeartDisease\u001B[39m\u001B[38;5;124m'\u001B[39m]\u001B[38;5;241m.\u001B[39mvalue_counts())\n\u001B[1;32m     15\u001B[0m \u001B[38;5;28mprint\u001B[39m(\u001B[38;5;124m\"\u001B[39m\u001B[38;5;130;01m\\n\u001B[39;00m\u001B[38;5;124mPercentages:\u001B[39m\u001B[38;5;124m\"\u001B[39m)\n\u001B[1;32m     16\u001B[0m \u001B[38;5;28mprint\u001B[39m(\u001B[38;5;124m\"\u001B[39m\u001B[38;5;124mNo:\u001B[39m\u001B[38;5;124m\"\u001B[39m,\n\u001B[0;32m---> 17\u001B[0m       \u001B[43mheart_dataset_preprocessed\u001B[49m\u001B[43m[\u001B[49m\u001B[38;5;124;43m'\u001B[39;49m\u001B[38;5;124;43mHeartDisease\u001B[39;49m\u001B[38;5;124;43m'\u001B[39;49m\u001B[43m]\u001B[49m\u001B[38;5;241;43m.\u001B[39;49m\u001B[43mvalue_counts\u001B[49m\u001B[43m(\u001B[49m\u001B[43m)\u001B[49m\u001B[43m[\u001B[49m\u001B[38;5;124;43m'\u001B[39;49m\u001B[38;5;124;43mNo\u001B[39;49m\u001B[38;5;124;43m'\u001B[39;49m\u001B[43m]\u001B[49m\u001B[38;5;241m/\u001B[39m\n\u001B[1;32m     18\u001B[0m       heart_dataset_preprocessed[\u001B[38;5;124m'\u001B[39m\u001B[38;5;124mHeartDisease\u001B[39m\u001B[38;5;124m'\u001B[39m]\u001B[38;5;241m.\u001B[39msize\u001B[38;5;241m*\u001B[39m\u001B[38;5;241m100\u001B[39m)\n\u001B[1;32m     19\u001B[0m \u001B[38;5;28mprint\u001B[39m(\u001B[38;5;124m\"\u001B[39m\u001B[38;5;124mYes:\u001B[39m\u001B[38;5;124m\"\u001B[39m,\n\u001B[1;32m     20\u001B[0m       heart_dataset_preprocessed[\u001B[38;5;124m'\u001B[39m\u001B[38;5;124mHeartDisease\u001B[39m\u001B[38;5;124m'\u001B[39m]\u001B[38;5;241m.\u001B[39mvalue_counts()[\u001B[38;5;124m'\u001B[39m\u001B[38;5;124mYes\u001B[39m\u001B[38;5;124m'\u001B[39m]\u001B[38;5;241m/\u001B[39m\n\u001B[1;32m     21\u001B[0m       heart_dataset_preprocessed[\u001B[38;5;124m'\u001B[39m\u001B[38;5;124mHeartDisease\u001B[39m\u001B[38;5;124m'\u001B[39m]\u001B[38;5;241m.\u001B[39msize\u001B[38;5;241m*\u001B[39m\u001B[38;5;241m100\u001B[39m)\n\u001B[1;32m     22\u001B[0m plt\u001B[38;5;241m.\u001B[39mhist(heart_dataset_preprocessed[\u001B[38;5;124m'\u001B[39m\u001B[38;5;124mHeartDisease\u001B[39m\u001B[38;5;124m'\u001B[39m])\n",
      "File \u001B[0;32m~/opt/anaconda3/lib/python3.9/site-packages/pandas/core/series.py:958\u001B[0m, in \u001B[0;36mSeries.__getitem__\u001B[0;34m(self, key)\u001B[0m\n\u001B[1;32m    955\u001B[0m     \u001B[38;5;28;01mreturn\u001B[39;00m \u001B[38;5;28mself\u001B[39m\u001B[38;5;241m.\u001B[39m_values[key]\n\u001B[1;32m    957\u001B[0m \u001B[38;5;28;01melif\u001B[39;00m key_is_scalar:\n\u001B[0;32m--> 958\u001B[0m     \u001B[38;5;28;01mreturn\u001B[39;00m \u001B[38;5;28;43mself\u001B[39;49m\u001B[38;5;241;43m.\u001B[39;49m\u001B[43m_get_value\u001B[49m\u001B[43m(\u001B[49m\u001B[43mkey\u001B[49m\u001B[43m)\u001B[49m\n\u001B[1;32m    960\u001B[0m \u001B[38;5;28;01mif\u001B[39;00m is_hashable(key):\n\u001B[1;32m    961\u001B[0m     \u001B[38;5;66;03m# Otherwise index.get_value will raise InvalidIndexError\u001B[39;00m\n\u001B[1;32m    962\u001B[0m     \u001B[38;5;28;01mtry\u001B[39;00m:\n\u001B[1;32m    963\u001B[0m         \u001B[38;5;66;03m# For labels that don't resolve as scalars like tuples and frozensets\u001B[39;00m\n",
      "File \u001B[0;32m~/opt/anaconda3/lib/python3.9/site-packages/pandas/core/series.py:1069\u001B[0m, in \u001B[0;36mSeries._get_value\u001B[0;34m(self, label, takeable)\u001B[0m\n\u001B[1;32m   1066\u001B[0m     \u001B[38;5;28;01mreturn\u001B[39;00m \u001B[38;5;28mself\u001B[39m\u001B[38;5;241m.\u001B[39m_values[label]\n\u001B[1;32m   1068\u001B[0m \u001B[38;5;66;03m# Similar to Index.get_value, but we do not fall back to positional\u001B[39;00m\n\u001B[0;32m-> 1069\u001B[0m loc \u001B[38;5;241m=\u001B[39m \u001B[38;5;28;43mself\u001B[39;49m\u001B[38;5;241;43m.\u001B[39;49m\u001B[43mindex\u001B[49m\u001B[38;5;241;43m.\u001B[39;49m\u001B[43mget_loc\u001B[49m\u001B[43m(\u001B[49m\u001B[43mlabel\u001B[49m\u001B[43m)\u001B[49m\n\u001B[1;32m   1070\u001B[0m \u001B[38;5;28;01mreturn\u001B[39;00m \u001B[38;5;28mself\u001B[39m\u001B[38;5;241m.\u001B[39mindex\u001B[38;5;241m.\u001B[39m_get_values_for_loc(\u001B[38;5;28mself\u001B[39m, loc, label)\n",
      "File \u001B[0;32m~/opt/anaconda3/lib/python3.9/site-packages/pandas/core/indexes/base.py:3623\u001B[0m, in \u001B[0;36mIndex.get_loc\u001B[0;34m(self, key, method, tolerance)\u001B[0m\n\u001B[1;32m   3621\u001B[0m     \u001B[38;5;28;01mreturn\u001B[39;00m \u001B[38;5;28mself\u001B[39m\u001B[38;5;241m.\u001B[39m_engine\u001B[38;5;241m.\u001B[39mget_loc(casted_key)\n\u001B[1;32m   3622\u001B[0m \u001B[38;5;28;01mexcept\u001B[39;00m \u001B[38;5;167;01mKeyError\u001B[39;00m \u001B[38;5;28;01mas\u001B[39;00m err:\n\u001B[0;32m-> 3623\u001B[0m     \u001B[38;5;28;01mraise\u001B[39;00m \u001B[38;5;167;01mKeyError\u001B[39;00m(key) \u001B[38;5;28;01mfrom\u001B[39;00m \u001B[38;5;21;01merr\u001B[39;00m\n\u001B[1;32m   3624\u001B[0m \u001B[38;5;28;01mexcept\u001B[39;00m \u001B[38;5;167;01mTypeError\u001B[39;00m:\n\u001B[1;32m   3625\u001B[0m     \u001B[38;5;66;03m# If we have a listlike key, _check_indexing_error will raise\u001B[39;00m\n\u001B[1;32m   3626\u001B[0m     \u001B[38;5;66;03m#  InvalidIndexError. Otherwise we fall through and re-raise\u001B[39;00m\n\u001B[1;32m   3627\u001B[0m     \u001B[38;5;66;03m#  the TypeError.\u001B[39;00m\n\u001B[1;32m   3628\u001B[0m     \u001B[38;5;28mself\u001B[39m\u001B[38;5;241m.\u001B[39m_check_indexing_error(key)\n",
      "\u001B[0;31mKeyError\u001B[0m: 'No'"
     ]
    }
   ],
   "source": [
    "# First look at the data\n",
    "display(heart_dataset.index)\n",
    "display(heart_dataset.dtypes)\n",
    "display(heart_dataset.head())\n",
    "display(heart_dataset.describe(include='all'))\n",
    "display(heart_dataset_preprocessed.corr())\n",
    "\n",
    "# Check for NaN values\n",
    "for column in heart_dataset.columns:\n",
    "    print(\"{}: {} NaN values\".format(column, heart_dataset[column].isna().sum()))\n",
    "\n",
    "# Value partition\n",
    "# TODO improve/beautify\n",
    "print(heart_dataset_preprocessed['HeartDisease'].value_counts())\n",
    "print(\"\\nPercentages:\")\n",
    "print(\"No:\",\n",
    "      heart_dataset_preprocessed['HeartDisease'].value_counts()['No']/\n",
    "      heart_dataset_preprocessed['HeartDisease'].size*100)\n",
    "print(\"Yes:\",\n",
    "      heart_dataset_preprocessed['HeartDisease'].value_counts()['Yes']/\n",
    "      heart_dataset_preprocessed['HeartDisease'].size*100)\n",
    "plt.hist(heart_dataset_preprocessed['HeartDisease'])\n",
    "plt.show()"
   ]
  },
  {
   "cell_type": "markdown",
   "metadata": {},
   "source": [
    "**Conclusion**\n",
    "\n",
    "- Numerical values: BMI, PhysicalHealth, MentalHealth, SleepTime\n",
    "- None numerical values: HeartDisease(target), Smoking, AlcoholDrinking, Stroke, DiffWalking, Sex, AgeCategory, Race, Diabetic, PhysicalActivity, GenHealth, Asthma, KidneyDisease and SkinCancer\n",
    "- HeartDisease column (target) has two distinct values: Yes and No\n",
    "- No missing values\n",
    "- The dataset is very unbalanced"
   ]
  },
  {
   "cell_type": "markdown",
   "source": [
    "## Preprocessing of the target variable\n",
    "\n",
    "HeartDisease column has two distinct values and is the target variable, so we can use the LabelEncoder for preprocessing."
   ],
   "metadata": {
    "collapsed": false
   }
  },
  {
   "cell_type": "code",
   "execution_count": null,
   "outputs": [],
   "source": [
    "label_encoder = preprocessing.LabelEncoder()\n",
    "heart_dataset_preprocessed['HeartDisease'] = label_encoder.fit_transform(heart_dataset['HeartDisease'])\n",
    "display(heart_dataset['HeartDisease'][0:10])\n",
    "display(heart_dataset_preprocessed['HeartDisease'][0:10])"
   ],
   "metadata": {
    "collapsed": false
   }
  },
  {
   "cell_type": "markdown",
   "metadata": {},
   "source": [
    "## Preprocessing of numerical features"
   ]
  },
  {
   "cell_type": "code",
   "execution_count": null,
   "outputs": [],
   "source": [
    "# List all numerical features\n",
    "numerical_features = [\"BMI\", \"PhysicalHealth\", \"MentalHealth\", \"SleepTime\"]"
   ],
   "metadata": {
    "collapsed": false
   }
  },
  {
   "cell_type": "markdown",
   "source": [
    "Numerical features need to be normalized. We are using the common min-max normalization method to convert the data into a scale ranging from 0 to 1.\n",
    "\n"
   ],
   "metadata": {
    "collapsed": false
   }
  },
  {
   "cell_type": "code",
   "execution_count": null,
   "outputs": [],
   "source": [
    "# Use MinMaxScaler to normalize numerical data, as some data isn't normally distributed\n",
    "scaler = preprocessing.MinMaxScaler()\n",
    "heart_dataset_preprocessed[numerical_features] = scaler.fit_transform(heart_dataset_preprocessed[numerical_features])\n",
    "\n",
    "# Quick overview of normalized features\n",
    "display(heart_dataset_preprocessed[numerical_features].describe())"
   ],
   "metadata": {
    "collapsed": false
   }
  },
  {
   "cell_type": "markdown",
   "metadata": {},
   "source": [
    "## Preprocessing of the none numerical features"
   ]
  },
  {
   "cell_type": "code",
   "execution_count": 46,
   "outputs": [],
   "source": [
    "# List all non-numerical features\n",
    "none_numerical_features = ['Smoking', 'AlcoholDrinking', 'Stroke', 'DiffWalking', 'Sex', 'AgeCategory', 'Race',\n",
    "                           'Diabetic', 'PhysicalActivity', 'GenHealth', 'Asthma', 'KidneyDisease', 'SkinCancer']"
   ],
   "metadata": {
    "collapsed": false
   }
  },
  {
   "cell_type": "markdown",
   "source": [
    "Next we need to look whether the none numerical features are nominal, ordinal or binary, to choose the right encoder. For this we will look at the unique values of each column and then decide."
   ],
   "metadata": {
    "collapsed": false
   }
  },
  {
   "cell_type": "code",
   "execution_count": 33,
   "metadata": {},
   "outputs": [
    {
     "name": "stdout",
     "output_type": "stream",
     "text": [
      "Smoking: ['Yes' 'No']\n",
      "AlcoholDrinking: ['No' 'Yes']\n",
      "Stroke: ['No' 'Yes']\n",
      "DiffWalking: ['No' 'Yes']\n",
      "Sex: ['Female' 'Male']\n",
      "AgeCategory: ['55-59' '80 or older' '65-69' '75-79' '40-44' '70-74' '60-64' '50-54'\n",
      " '45-49' '18-24' '35-39' '30-34' '25-29']\n",
      "Race: ['White' 'Black' 'Asian' 'American Indian/Alaskan Native' 'Other'\n",
      " 'Hispanic']\n",
      "Diabetic: ['Yes' 'No' 'No, borderline diabetes' 'Yes (during pregnancy)']\n",
      "PhysicalActivity: ['Yes' 'No']\n",
      "GenHealth: ['Very good' 'Fair' 'Good' 'Poor' 'Excellent']\n",
      "Asthma: ['Yes' 'No']\n",
      "KidneyDisease: ['No' 'Yes']\n",
      "SkinCancer: ['Yes' 'No']\n"
     ]
    }
   ],
   "source": [
    "for feature in none_numerical_features:\n",
    "    print(feature + \":\", heart_dataset_preprocessed[feature].unique())"
   ]
  },
  {
   "cell_type": "markdown",
   "metadata": {},
   "source": [
    "**Conclusion:**\n",
    "\n",
    "Nominal features: Race\n",
    "\n",
    "Ordinal features:\n",
    "- AgeCategory: Age has a natural order from low to high\n",
    "- GenHealth: Has a natural order from poor to excellent\n",
    "- Diabetic: Yes is more severe than Yes (during pregnancy) more severe than No, borderline diabetes more severe than Yes\n",
    "\n",
    "Binary features: Smoking, AlcoholDrinking, Stroke, DiffWalking, Sex, PhysicalActivity, Asthma, KidneyDisease, SkinCancer"
   ]
  },
  {
   "cell_type": "markdown",
   "metadata": {},
   "source": [
    "### Encoding ordinal features\n",
    "Ordinal features have a specific order, so we have to make sure that we encode the features according to that order. For this reason we can't use the sklearn OrdinalEncoder because this encoder uses the alphabetical order which does not fit with our features´ order. That's why we will use a dictionary to define our desired order and apply that order to our features with the pandas .map() function. https://towardsdatascience.com/categorical-encoding-techniques-93ebd18e1f24"
   ]
  },
  {
   "cell_type": "markdown",
   "metadata": {},
   "source": [
    "#### Diabetic (as ordinal feature, ordered by severity)\n",
    "\n",
    "Diabetic status may be considered ordinal, as the different states express different severity e.g. only temporarily during pregnancy, having almost diabetic may be viewed as less healthy"
   ]
  },
  {
   "cell_type": "code",
   "execution_count": 34,
   "metadata": {},
   "outputs": [
    {
     "data": {
      "text/plain": "array([1.        , 0.        , 0.66666667, 0.33333333])"
     },
     "execution_count": 34,
     "metadata": {},
     "output_type": "execute_result"
    }
   ],
   "source": [
    "# Create dictionary of ordinal to integer mapping\n",
    "diabetic_order = {'No': 0,\n",
    "                 'Yes (during pregnancy)': 1/3,\n",
    "                 'No, borderline diabetes': 2/3,\n",
    "                 'Yes': 1}\n",
    "\n",
    "# Apply using map\n",
    "heart_dataset_preprocessed['Diabetic'] = heart_dataset['Diabetic'].map(diabetic_order)\n",
    "heart_dataset_preprocessed['Diabetic'].unique()"
   ]
  },
  {
   "cell_type": "markdown",
   "metadata": {},
   "source": [
    "#### AgeCategory"
   ]
  },
  {
   "cell_type": "code",
   "execution_count": 35,
   "metadata": {},
   "outputs": [
    {
     "data": {
      "text/plain": "0         57\n1         90\n2         67\n3         77\n4         42\n          ..\n319790    62\n319791    37\n319792    47\n319793    27\n319794    90\nName: AgeCategory, Length: 319795, dtype: int64"
     },
     "execution_count": 35,
     "metadata": {},
     "output_type": "execute_result"
    }
   ],
   "source": [
    "# Create dictionary of ordinal to integer mapping\n",
    "age_category_order = {'18-24':0,\n",
    "                      '25-29':1/12,\n",
    "                      '30-34':2/12,\n",
    "                      '35-39':3/12,\n",
    "                      '40-44':4/12,\n",
    "                      '45-49':5/12,\n",
    "                      '50-54':6/12,\n",
    "                      '55-59':7/12,\n",
    "                      '60-64':8/12,\n",
    "                      '65-69':9/12,\n",
    "                      '70-74':10/12,\n",
    "                      '75-79':11/12,\n",
    "                      '80 or older':1}\n",
    "\n",
    "# Using the average of age groups is a standard procedure in econometric literature\n",
    "# when dealing with age groups (assuming people are getting 110 years old max, but not many \n",
    "# so assuming on average 90 years in that age group)\n",
    "age_category_order = {'18-24': {'avg': 21, 'min': 18, 'max': 24},\n",
    "                      '25-29': {'avg': 27, 'min': 25, 'max': 29},\n",
    "                      '30-34': {'avg': 32, 'min': 30, 'max': 34}, \n",
    "                     '35-39': {'avg': 37, 'min': 35, 'max': 39},\n",
    "                      '40-44': {'avg': 42, 'min': 40, 'max': 44},\n",
    "                      '45-49': {'avg': 47, 'min': 45, 'max': 49}, \n",
    "                     '50-54': {'avg': 52, 'min': 50, 'max': 54},\n",
    "                      '55-59': {'avg': 57, 'min': 55, 'max': 59},\n",
    "                      '60-64': {'avg': 62, 'min': 60, 'max': 64},\n",
    "                     '65-69': {'avg': 67, 'min': 65, 'max': 69},\n",
    "                      '70-74': {'avg': 72, 'min': 70, 'max': 74}, \n",
    "                     '75-79': {'avg': 77, 'min': 75, 'max': 79},\n",
    "                      '80 or older': {'avg': 90, 'min': 80, 'max': 110}}\n",
    "\n",
    "# Get average of every age group\n",
    "get_avg = lambda x : age_category_order.get(x).get('avg')\n",
    "\n",
    "# Apply using map or apply\n",
    "#heart_dataset_preprocessed['AgeCategory'] = heart_dataset['AgeCategory'].map(age_category_order)\n",
    "heart_dataset_preprocessed['AgeCategory'] = heart_dataset['AgeCategory'].apply(get_avg)\n",
    "heart_dataset_preprocessed['AgeCategory']"
   ]
  },
  {
   "cell_type": "markdown",
   "metadata": {},
   "source": [
    "#### GenHealth"
   ]
  },
  {
   "cell_type": "code",
   "execution_count": 36,
   "metadata": {},
   "outputs": [
    {
     "data": {
      "text/plain": "0         0.75\n1         0.75\n2         0.25\n3         0.50\n4         0.75\n          ... \n319790    0.25\n319791    0.75\n319792    0.50\n319793    0.50\n319794    0.50\nName: GenHealth, Length: 319795, dtype: float64"
     },
     "execution_count": 36,
     "metadata": {},
     "output_type": "execute_result"
    }
   ],
   "source": [
    "# Create dictionary of ordinal to integer mapping\n",
    "gen_health_order = {'Poor':0,\n",
    "                    'Fair':1/4,\n",
    "                    'Good':2/4,\n",
    "                    'Very good':3/4,\n",
    "                    'Excellent':1}\n",
    "\n",
    "# Apply using map\n",
    "heart_dataset_preprocessed['GenHealth'] = heart_dataset['GenHealth'].map(gen_health_order)\n",
    "heart_dataset_preprocessed['GenHealth']"
   ]
  },
  {
   "cell_type": "markdown",
   "metadata": {},
   "source": [
    "### Encoding nominal features\n",
    "Nominal features have no order, so we will use a one-hot-encoder for those features."
   ]
  },
  {
   "cell_type": "code",
   "execution_count": 37,
   "metadata": {},
   "outputs": [
    {
     "data": {
      "text/plain": "        Race_American Indian/Alaskan Native  Race_Asian  Race_Black  \\\n0                                       0.0         0.0         0.0   \n1                                       0.0         0.0         0.0   \n2                                       0.0         0.0         0.0   \n3                                       0.0         0.0         0.0   \n4                                       0.0         0.0         0.0   \n...                                     ...         ...         ...   \n319790                                  0.0         0.0         0.0   \n319791                                  0.0         0.0         0.0   \n319792                                  0.0         0.0         0.0   \n319793                                  0.0         0.0         0.0   \n319794                                  0.0         0.0         0.0   \n\n        Race_Hispanic  Race_Other  Race_White  \n0                 0.0         0.0         1.0  \n1                 0.0         0.0         1.0  \n2                 0.0         0.0         1.0  \n3                 0.0         0.0         1.0  \n4                 0.0         0.0         1.0  \n...               ...         ...         ...  \n319790            1.0         0.0         0.0  \n319791            1.0         0.0         0.0  \n319792            1.0         0.0         0.0  \n319793            1.0         0.0         0.0  \n319794            1.0         0.0         0.0  \n\n[319795 rows x 6 columns]",
      "text/html": "<div>\n<style scoped>\n    .dataframe tbody tr th:only-of-type {\n        vertical-align: middle;\n    }\n\n    .dataframe tbody tr th {\n        vertical-align: top;\n    }\n\n    .dataframe thead th {\n        text-align: right;\n    }\n</style>\n<table border=\"1\" class=\"dataframe\">\n  <thead>\n    <tr style=\"text-align: right;\">\n      <th></th>\n      <th>Race_American Indian/Alaskan Native</th>\n      <th>Race_Asian</th>\n      <th>Race_Black</th>\n      <th>Race_Hispanic</th>\n      <th>Race_Other</th>\n      <th>Race_White</th>\n    </tr>\n  </thead>\n  <tbody>\n    <tr>\n      <th>0</th>\n      <td>0.0</td>\n      <td>0.0</td>\n      <td>0.0</td>\n      <td>0.0</td>\n      <td>0.0</td>\n      <td>1.0</td>\n    </tr>\n    <tr>\n      <th>1</th>\n      <td>0.0</td>\n      <td>0.0</td>\n      <td>0.0</td>\n      <td>0.0</td>\n      <td>0.0</td>\n      <td>1.0</td>\n    </tr>\n    <tr>\n      <th>2</th>\n      <td>0.0</td>\n      <td>0.0</td>\n      <td>0.0</td>\n      <td>0.0</td>\n      <td>0.0</td>\n      <td>1.0</td>\n    </tr>\n    <tr>\n      <th>3</th>\n      <td>0.0</td>\n      <td>0.0</td>\n      <td>0.0</td>\n      <td>0.0</td>\n      <td>0.0</td>\n      <td>1.0</td>\n    </tr>\n    <tr>\n      <th>4</th>\n      <td>0.0</td>\n      <td>0.0</td>\n      <td>0.0</td>\n      <td>0.0</td>\n      <td>0.0</td>\n      <td>1.0</td>\n    </tr>\n    <tr>\n      <th>...</th>\n      <td>...</td>\n      <td>...</td>\n      <td>...</td>\n      <td>...</td>\n      <td>...</td>\n      <td>...</td>\n    </tr>\n    <tr>\n      <th>319790</th>\n      <td>0.0</td>\n      <td>0.0</td>\n      <td>0.0</td>\n      <td>1.0</td>\n      <td>0.0</td>\n      <td>0.0</td>\n    </tr>\n    <tr>\n      <th>319791</th>\n      <td>0.0</td>\n      <td>0.0</td>\n      <td>0.0</td>\n      <td>1.0</td>\n      <td>0.0</td>\n      <td>0.0</td>\n    </tr>\n    <tr>\n      <th>319792</th>\n      <td>0.0</td>\n      <td>0.0</td>\n      <td>0.0</td>\n      <td>1.0</td>\n      <td>0.0</td>\n      <td>0.0</td>\n    </tr>\n    <tr>\n      <th>319793</th>\n      <td>0.0</td>\n      <td>0.0</td>\n      <td>0.0</td>\n      <td>1.0</td>\n      <td>0.0</td>\n      <td>0.0</td>\n    </tr>\n    <tr>\n      <th>319794</th>\n      <td>0.0</td>\n      <td>0.0</td>\n      <td>0.0</td>\n      <td>1.0</td>\n      <td>0.0</td>\n      <td>0.0</td>\n    </tr>\n  </tbody>\n</table>\n<p>319795 rows × 6 columns</p>\n</div>"
     },
     "execution_count": 37,
     "metadata": {},
     "output_type": "execute_result"
    }
   ],
   "source": [
    "nominal_features = ['Race']\n",
    "\n",
    "# Encoding\n",
    "one_hot_encoder = preprocessing.OneHotEncoder()\n",
    "one_hot_encoded = pd.DataFrame(one_hot_encoder.fit_transform(heart_dataset[nominal_features]).toarray(),\n",
    "                               columns=one_hot_encoder.get_feature_names_out(nominal_features))\n",
    "# Joining\n",
    "heart_dataset_preprocessed = heart_dataset_preprocessed.drop(columns=nominal_features)\n",
    "heart_dataset_preprocessed = heart_dataset_preprocessed.join(one_hot_encoded)\n",
    "heart_dataset_preprocessed[one_hot_encoder.get_feature_names_out(nominal_features)]"
   ]
  },
  {
   "cell_type": "markdown",
   "metadata": {},
   "source": [
    "### Encoding binary features\n",
    "For binary features we want to encode them with 0 and 1, but we have to make sure that we always use the same number for the same value. For example 1 for yes and 0 for no."
   ]
  },
  {
   "cell_type": "markdown",
   "metadata": {},
   "source": [
    "#### Yes/No Features"
   ]
  },
  {
   "cell_type": "code",
   "execution_count": 38,
   "metadata": {},
   "outputs": [
    {
     "data": {
      "text/plain": "        Smoking  AlcoholDrinking  Stroke  DiffWalking  PhysicalActivity  \\\n0             1                0       0            0                 1   \n1             0                0       1            0                 1   \n2             1                0       0            0                 1   \n3             0                0       0            0                 0   \n4             0                0       0            1                 1   \n...         ...              ...     ...          ...               ...   \n319790        1                0       0            1                 0   \n319791        1                0       0            0                 1   \n319792        0                0       0            0                 1   \n319793        0                0       0            0                 0   \n319794        0                0       0            0                 1   \n\n        Asthma  KidneyDisease  SkinCancer  \n0            1              0           1  \n1            0              0           0  \n2            1              0           0  \n3            0              0           1  \n4            0              0           0  \n...        ...            ...         ...  \n319790       1              0           0  \n319791       1              0           0  \n319792       0              0           0  \n319793       0              0           0  \n319794       0              0           0  \n\n[319795 rows x 8 columns]",
      "text/html": "<div>\n<style scoped>\n    .dataframe tbody tr th:only-of-type {\n        vertical-align: middle;\n    }\n\n    .dataframe tbody tr th {\n        vertical-align: top;\n    }\n\n    .dataframe thead th {\n        text-align: right;\n    }\n</style>\n<table border=\"1\" class=\"dataframe\">\n  <thead>\n    <tr style=\"text-align: right;\">\n      <th></th>\n      <th>Smoking</th>\n      <th>AlcoholDrinking</th>\n      <th>Stroke</th>\n      <th>DiffWalking</th>\n      <th>PhysicalActivity</th>\n      <th>Asthma</th>\n      <th>KidneyDisease</th>\n      <th>SkinCancer</th>\n    </tr>\n  </thead>\n  <tbody>\n    <tr>\n      <th>0</th>\n      <td>1</td>\n      <td>0</td>\n      <td>0</td>\n      <td>0</td>\n      <td>1</td>\n      <td>1</td>\n      <td>0</td>\n      <td>1</td>\n    </tr>\n    <tr>\n      <th>1</th>\n      <td>0</td>\n      <td>0</td>\n      <td>1</td>\n      <td>0</td>\n      <td>1</td>\n      <td>0</td>\n      <td>0</td>\n      <td>0</td>\n    </tr>\n    <tr>\n      <th>2</th>\n      <td>1</td>\n      <td>0</td>\n      <td>0</td>\n      <td>0</td>\n      <td>1</td>\n      <td>1</td>\n      <td>0</td>\n      <td>0</td>\n    </tr>\n    <tr>\n      <th>3</th>\n      <td>0</td>\n      <td>0</td>\n      <td>0</td>\n      <td>0</td>\n      <td>0</td>\n      <td>0</td>\n      <td>0</td>\n      <td>1</td>\n    </tr>\n    <tr>\n      <th>4</th>\n      <td>0</td>\n      <td>0</td>\n      <td>0</td>\n      <td>1</td>\n      <td>1</td>\n      <td>0</td>\n      <td>0</td>\n      <td>0</td>\n    </tr>\n    <tr>\n      <th>...</th>\n      <td>...</td>\n      <td>...</td>\n      <td>...</td>\n      <td>...</td>\n      <td>...</td>\n      <td>...</td>\n      <td>...</td>\n      <td>...</td>\n    </tr>\n    <tr>\n      <th>319790</th>\n      <td>1</td>\n      <td>0</td>\n      <td>0</td>\n      <td>1</td>\n      <td>0</td>\n      <td>1</td>\n      <td>0</td>\n      <td>0</td>\n    </tr>\n    <tr>\n      <th>319791</th>\n      <td>1</td>\n      <td>0</td>\n      <td>0</td>\n      <td>0</td>\n      <td>1</td>\n      <td>1</td>\n      <td>0</td>\n      <td>0</td>\n    </tr>\n    <tr>\n      <th>319792</th>\n      <td>0</td>\n      <td>0</td>\n      <td>0</td>\n      <td>0</td>\n      <td>1</td>\n      <td>0</td>\n      <td>0</td>\n      <td>0</td>\n    </tr>\n    <tr>\n      <th>319793</th>\n      <td>0</td>\n      <td>0</td>\n      <td>0</td>\n      <td>0</td>\n      <td>0</td>\n      <td>0</td>\n      <td>0</td>\n      <td>0</td>\n    </tr>\n    <tr>\n      <th>319794</th>\n      <td>0</td>\n      <td>0</td>\n      <td>0</td>\n      <td>0</td>\n      <td>1</td>\n      <td>0</td>\n      <td>0</td>\n      <td>0</td>\n    </tr>\n  </tbody>\n</table>\n<p>319795 rows × 8 columns</p>\n</div>"
     },
     "execution_count": 38,
     "metadata": {},
     "output_type": "execute_result"
    }
   ],
   "source": [
    "yes_no_features = ['Smoking', 'AlcoholDrinking', 'Stroke', 'DiffWalking', 'PhysicalActivity', 'Asthma',\n",
    "                   'KidneyDisease', 'SkinCancer']\n",
    "\n",
    "# Encode yes/no features\n",
    "for feature in yes_no_features:\n",
    "    heart_dataset_preprocessed[feature] = heart_dataset[feature].replace({'Yes':1, 'No':0})\n",
    "    \n",
    "heart_dataset_preprocessed[yes_no_features]"
   ]
  },
  {
   "cell_type": "markdown",
   "metadata": {},
   "source": [
    "#### Sex"
   ]
  },
  {
   "cell_type": "code",
   "execution_count": 39,
   "metadata": {},
   "outputs": [
    {
     "data": {
      "text/plain": "0         1\n1         1\n2         0\n3         1\n4         1\n         ..\n319790    0\n319791    0\n319792    1\n319793    1\n319794    1\nName: Sex, Length: 319795, dtype: int64"
     },
     "execution_count": 39,
     "metadata": {},
     "output_type": "execute_result"
    }
   ],
   "source": [
    "# Encode Sex feature\n",
    "heart_dataset_preprocessed['Sex'] = heart_dataset['Sex'].replace({'Female':1, 'Male':0})\n",
    "heart_dataset_preprocessed['Sex']"
   ]
  },
  {
   "cell_type": "code",
   "execution_count": 40,
   "metadata": {
    "scrolled": true
   },
   "outputs": [
    {
     "data": {
      "text/plain": "Index(['HeartDisease', 'BMI', 'Smoking', 'AlcoholDrinking', 'Stroke',\n       'PhysicalHealth', 'MentalHealth', 'DiffWalking', 'Sex', 'AgeCategory',\n       'Diabetic', 'PhysicalActivity', 'GenHealth', 'SleepTime', 'Asthma',\n       'KidneyDisease', 'SkinCancer', 'Race_American Indian/Alaskan Native',\n       'Race_Asian', 'Race_Black', 'Race_Hispanic', 'Race_Other',\n       'Race_White'],\n      dtype='object')"
     },
     "metadata": {},
     "output_type": "display_data"
    },
    {
     "data": {
      "text/plain": "   HeartDisease       BMI  Smoking  AlcoholDrinking  Stroke  PhysicalHealth  \\\n0             0  0.055294        1                0       0        0.100000   \n1             0  0.100447        0                0       1        0.000000   \n2             0  0.175782        1                0       0        0.666667   \n3             0  0.147169        0                0       0        0.000000   \n4             0  0.141132        0                0       0        0.933333   \n\n   MentalHealth  DiffWalking  Sex  AgeCategory  ...  SleepTime  Asthma  \\\n0           1.0            0    1           57  ...   0.173913       1   \n1           0.0            0    1           90  ...   0.260870       0   \n2           1.0            0    0           67  ...   0.304348       1   \n3           0.0            0    1           77  ...   0.217391       0   \n4           0.0            1    1           42  ...   0.304348       0   \n\n   KidneyDisease  SkinCancer  Race_American Indian/Alaskan Native  Race_Asian  \\\n0              0           1                                  0.0         0.0   \n1              0           0                                  0.0         0.0   \n2              0           0                                  0.0         0.0   \n3              0           1                                  0.0         0.0   \n4              0           0                                  0.0         0.0   \n\n   Race_Black  Race_Hispanic  Race_Other  Race_White  \n0         0.0            0.0         0.0         1.0  \n1         0.0            0.0         0.0         1.0  \n2         0.0            0.0         0.0         1.0  \n3         0.0            0.0         0.0         1.0  \n4         0.0            0.0         0.0         1.0  \n\n[5 rows x 23 columns]",
      "text/html": "<div>\n<style scoped>\n    .dataframe tbody tr th:only-of-type {\n        vertical-align: middle;\n    }\n\n    .dataframe tbody tr th {\n        vertical-align: top;\n    }\n\n    .dataframe thead th {\n        text-align: right;\n    }\n</style>\n<table border=\"1\" class=\"dataframe\">\n  <thead>\n    <tr style=\"text-align: right;\">\n      <th></th>\n      <th>HeartDisease</th>\n      <th>BMI</th>\n      <th>Smoking</th>\n      <th>AlcoholDrinking</th>\n      <th>Stroke</th>\n      <th>PhysicalHealth</th>\n      <th>MentalHealth</th>\n      <th>DiffWalking</th>\n      <th>Sex</th>\n      <th>AgeCategory</th>\n      <th>...</th>\n      <th>SleepTime</th>\n      <th>Asthma</th>\n      <th>KidneyDisease</th>\n      <th>SkinCancer</th>\n      <th>Race_American Indian/Alaskan Native</th>\n      <th>Race_Asian</th>\n      <th>Race_Black</th>\n      <th>Race_Hispanic</th>\n      <th>Race_Other</th>\n      <th>Race_White</th>\n    </tr>\n  </thead>\n  <tbody>\n    <tr>\n      <th>0</th>\n      <td>0</td>\n      <td>0.055294</td>\n      <td>1</td>\n      <td>0</td>\n      <td>0</td>\n      <td>0.100000</td>\n      <td>1.0</td>\n      <td>0</td>\n      <td>1</td>\n      <td>57</td>\n      <td>...</td>\n      <td>0.173913</td>\n      <td>1</td>\n      <td>0</td>\n      <td>1</td>\n      <td>0.0</td>\n      <td>0.0</td>\n      <td>0.0</td>\n      <td>0.0</td>\n      <td>0.0</td>\n      <td>1.0</td>\n    </tr>\n    <tr>\n      <th>1</th>\n      <td>0</td>\n      <td>0.100447</td>\n      <td>0</td>\n      <td>0</td>\n      <td>1</td>\n      <td>0.000000</td>\n      <td>0.0</td>\n      <td>0</td>\n      <td>1</td>\n      <td>90</td>\n      <td>...</td>\n      <td>0.260870</td>\n      <td>0</td>\n      <td>0</td>\n      <td>0</td>\n      <td>0.0</td>\n      <td>0.0</td>\n      <td>0.0</td>\n      <td>0.0</td>\n      <td>0.0</td>\n      <td>1.0</td>\n    </tr>\n    <tr>\n      <th>2</th>\n      <td>0</td>\n      <td>0.175782</td>\n      <td>1</td>\n      <td>0</td>\n      <td>0</td>\n      <td>0.666667</td>\n      <td>1.0</td>\n      <td>0</td>\n      <td>0</td>\n      <td>67</td>\n      <td>...</td>\n      <td>0.304348</td>\n      <td>1</td>\n      <td>0</td>\n      <td>0</td>\n      <td>0.0</td>\n      <td>0.0</td>\n      <td>0.0</td>\n      <td>0.0</td>\n      <td>0.0</td>\n      <td>1.0</td>\n    </tr>\n    <tr>\n      <th>3</th>\n      <td>0</td>\n      <td>0.147169</td>\n      <td>0</td>\n      <td>0</td>\n      <td>0</td>\n      <td>0.000000</td>\n      <td>0.0</td>\n      <td>0</td>\n      <td>1</td>\n      <td>77</td>\n      <td>...</td>\n      <td>0.217391</td>\n      <td>0</td>\n      <td>0</td>\n      <td>1</td>\n      <td>0.0</td>\n      <td>0.0</td>\n      <td>0.0</td>\n      <td>0.0</td>\n      <td>0.0</td>\n      <td>1.0</td>\n    </tr>\n    <tr>\n      <th>4</th>\n      <td>0</td>\n      <td>0.141132</td>\n      <td>0</td>\n      <td>0</td>\n      <td>0</td>\n      <td>0.933333</td>\n      <td>0.0</td>\n      <td>1</td>\n      <td>1</td>\n      <td>42</td>\n      <td>...</td>\n      <td>0.304348</td>\n      <td>0</td>\n      <td>0</td>\n      <td>0</td>\n      <td>0.0</td>\n      <td>0.0</td>\n      <td>0.0</td>\n      <td>0.0</td>\n      <td>0.0</td>\n      <td>1.0</td>\n    </tr>\n  </tbody>\n</table>\n<p>5 rows × 23 columns</p>\n</div>"
     },
     "metadata": {},
     "output_type": "display_data"
    }
   ],
   "source": [
    "# Quick overview of the encoded data\n",
    "display(heart_dataset_preprocessed.columns)\n",
    "display(heart_dataset_preprocessed.head())"
   ]
  },
  {
   "cell_type": "markdown",
   "source": [
    "## Clustering\n",
    "\n",
    "We want to find out if it is beneficial to cluster the data in preprocessing. For this we apply the TSNE method."
   ],
   "metadata": {
    "collapsed": false
   }
  },
  {
   "cell_type": "code",
   "execution_count": 41,
   "outputs": [
    {
     "name": "stderr",
     "output_type": "stream",
     "text": [
      "/Users/benediktluth/opt/anaconda3/lib/python3.9/site-packages/sklearn/manifold/_t_sne.py:982: FutureWarning: The PCA initialization in TSNE will change to have the standard deviation of PC1 equal to 1e-4 in 1.2. This will ensure better convergence.\n",
      "  warnings.warn(\n",
      "/Users/benediktluth/opt/anaconda3/lib/python3.9/site-packages/sklearn/manifold/_t_sne.py:982: FutureWarning: The PCA initialization in TSNE will change to have the standard deviation of PC1 equal to 1e-4 in 1.2. This will ensure better convergence.\n",
      "  warnings.warn(\n",
      "/Users/benediktluth/opt/anaconda3/lib/python3.9/site-packages/sklearn/manifold/_t_sne.py:982: FutureWarning: The PCA initialization in TSNE will change to have the standard deviation of PC1 equal to 1e-4 in 1.2. This will ensure better convergence.\n",
      "  warnings.warn(\n",
      "/Users/benediktluth/opt/anaconda3/lib/python3.9/site-packages/sklearn/manifold/_t_sne.py:982: FutureWarning: The PCA initialization in TSNE will change to have the standard deviation of PC1 equal to 1e-4 in 1.2. This will ensure better convergence.\n",
      "  warnings.warn(\n",
      "/Users/benediktluth/opt/anaconda3/lib/python3.9/site-packages/sklearn/manifold/_t_sne.py:982: FutureWarning: The PCA initialization in TSNE will change to have the standard deviation of PC1 equal to 1e-4 in 1.2. This will ensure better convergence.\n",
      "  warnings.warn(\n",
      "/Users/benediktluth/opt/anaconda3/lib/python3.9/site-packages/sklearn/manifold/_t_sne.py:982: FutureWarning: The PCA initialization in TSNE will change to have the standard deviation of PC1 equal to 1e-4 in 1.2. This will ensure better convergence.\n",
      "  warnings.warn(\n"
     ]
    },
    {
     "ename": "KeyboardInterrupt",
     "evalue": "",
     "output_type": "error",
     "traceback": [
      "\u001B[0;31m---------------------------------------------------------------------------\u001B[0m",
      "\u001B[0;31mKeyboardInterrupt\u001B[0m                         Traceback (most recent call last)",
      "Input \u001B[0;32mIn [41]\u001B[0m, in \u001B[0;36m<cell line: 7>\u001B[0;34m()\u001B[0m\n\u001B[1;32m      7\u001B[0m \u001B[38;5;28;01mfor\u001B[39;00m perplexity \u001B[38;5;129;01min\u001B[39;00m perplexity_ls:\n\u001B[1;32m      8\u001B[0m     tsne \u001B[38;5;241m=\u001B[39m TSNE(n_components\u001B[38;5;241m=\u001B[39m\u001B[38;5;241m2\u001B[39m, learning_rate\u001B[38;5;241m=\u001B[39m\u001B[38;5;241m5\u001B[39m,\n\u001B[1;32m      9\u001B[0m                 init\u001B[38;5;241m=\u001B[39m\u001B[38;5;124m'\u001B[39m\u001B[38;5;124mpca\u001B[39m\u001B[38;5;124m'\u001B[39m, perplexity\u001B[38;5;241m=\u001B[39mperplexity, random_state\u001B[38;5;241m=\u001B[39m\u001B[38;5;241m42\u001B[39m, n_iter\u001B[38;5;241m=\u001B[39m\u001B[38;5;241m3000\u001B[39m, n_jobs\u001B[38;5;241m=\u001B[39m\u001B[38;5;241m-\u001B[39m\u001B[38;5;241m1\u001B[39m)\n\u001B[0;32m---> 10\u001B[0m     X_tsne_embedded \u001B[38;5;241m=\u001B[39m \u001B[43mtsne\u001B[49m\u001B[38;5;241;43m.\u001B[39;49m\u001B[43mfit_transform\u001B[49m\u001B[43m(\u001B[49m\u001B[43mX_cluster\u001B[49m\u001B[43m)\u001B[49m\n\u001B[1;32m     12\u001B[0m     X_tsne_embedded_concat \u001B[38;5;241m=\u001B[39m pd\u001B[38;5;241m.\u001B[39mmerge(X, pd\u001B[38;5;241m.\u001B[39mDataFrame(X_tsne_embedded), left_index\u001B[38;5;241m=\u001B[39m\u001B[38;5;28;01mTrue\u001B[39;00m, right_index\u001B[38;5;241m=\u001B[39m\u001B[38;5;28;01mTrue\u001B[39;00m)\n\u001B[1;32m     14\u001B[0m     fig, ax \u001B[38;5;241m=\u001B[39m plt\u001B[38;5;241m.\u001B[39msubplots(figsize\u001B[38;5;241m=\u001B[39m(\u001B[38;5;241m10\u001B[39m, \u001B[38;5;241m10\u001B[39m))\n",
      "File \u001B[0;32m~/opt/anaconda3/lib/python3.9/site-packages/sklearn/manifold/_t_sne.py:1108\u001B[0m, in \u001B[0;36mTSNE.fit_transform\u001B[0;34m(self, X, y)\u001B[0m\n\u001B[1;32m   1088\u001B[0m \u001B[38;5;28;01mdef\u001B[39;00m \u001B[38;5;21mfit_transform\u001B[39m(\u001B[38;5;28mself\u001B[39m, X, y\u001B[38;5;241m=\u001B[39m\u001B[38;5;28;01mNone\u001B[39;00m):\n\u001B[1;32m   1089\u001B[0m     \u001B[38;5;124;03m\"\"\"Fit X into an embedded space and return that transformed output.\u001B[39;00m\n\u001B[1;32m   1090\u001B[0m \n\u001B[1;32m   1091\u001B[0m \u001B[38;5;124;03m    Parameters\u001B[39;00m\n\u001B[0;32m   (...)\u001B[0m\n\u001B[1;32m   1106\u001B[0m \u001B[38;5;124;03m        Embedding of the training data in low-dimensional space.\u001B[39;00m\n\u001B[1;32m   1107\u001B[0m \u001B[38;5;124;03m    \"\"\"\u001B[39;00m\n\u001B[0;32m-> 1108\u001B[0m     embedding \u001B[38;5;241m=\u001B[39m \u001B[38;5;28;43mself\u001B[39;49m\u001B[38;5;241;43m.\u001B[39;49m\u001B[43m_fit\u001B[49m\u001B[43m(\u001B[49m\u001B[43mX\u001B[49m\u001B[43m)\u001B[49m\n\u001B[1;32m   1109\u001B[0m     \u001B[38;5;28mself\u001B[39m\u001B[38;5;241m.\u001B[39membedding_ \u001B[38;5;241m=\u001B[39m embedding\n\u001B[1;32m   1110\u001B[0m     \u001B[38;5;28;01mreturn\u001B[39;00m \u001B[38;5;28mself\u001B[39m\u001B[38;5;241m.\u001B[39membedding_\n",
      "File \u001B[0;32m~/opt/anaconda3/lib/python3.9/site-packages/sklearn/manifold/_t_sne.py:1004\u001B[0m, in \u001B[0;36mTSNE._fit\u001B[0;34m(self, X, skip_num_points)\u001B[0m\n\u001B[1;32m    998\u001B[0m \u001B[38;5;66;03m# Degrees of freedom of the Student's t-distribution. The suggestion\u001B[39;00m\n\u001B[1;32m    999\u001B[0m \u001B[38;5;66;03m# degrees_of_freedom = n_components - 1 comes from\u001B[39;00m\n\u001B[1;32m   1000\u001B[0m \u001B[38;5;66;03m# \"Learning a Parametric Embedding by Preserving Local Structure\"\u001B[39;00m\n\u001B[1;32m   1001\u001B[0m \u001B[38;5;66;03m# Laurens van der Maaten, 2009.\u001B[39;00m\n\u001B[1;32m   1002\u001B[0m degrees_of_freedom \u001B[38;5;241m=\u001B[39m \u001B[38;5;28mmax\u001B[39m(\u001B[38;5;28mself\u001B[39m\u001B[38;5;241m.\u001B[39mn_components \u001B[38;5;241m-\u001B[39m \u001B[38;5;241m1\u001B[39m, \u001B[38;5;241m1\u001B[39m)\n\u001B[0;32m-> 1004\u001B[0m \u001B[38;5;28;01mreturn\u001B[39;00m \u001B[38;5;28;43mself\u001B[39;49m\u001B[38;5;241;43m.\u001B[39;49m\u001B[43m_tsne\u001B[49m\u001B[43m(\u001B[49m\n\u001B[1;32m   1005\u001B[0m \u001B[43m    \u001B[49m\u001B[43mP\u001B[49m\u001B[43m,\u001B[49m\n\u001B[1;32m   1006\u001B[0m \u001B[43m    \u001B[49m\u001B[43mdegrees_of_freedom\u001B[49m\u001B[43m,\u001B[49m\n\u001B[1;32m   1007\u001B[0m \u001B[43m    \u001B[49m\u001B[43mn_samples\u001B[49m\u001B[43m,\u001B[49m\n\u001B[1;32m   1008\u001B[0m \u001B[43m    \u001B[49m\u001B[43mX_embedded\u001B[49m\u001B[38;5;241;43m=\u001B[39;49m\u001B[43mX_embedded\u001B[49m\u001B[43m,\u001B[49m\n\u001B[1;32m   1009\u001B[0m \u001B[43m    \u001B[49m\u001B[43mneighbors\u001B[49m\u001B[38;5;241;43m=\u001B[39;49m\u001B[43mneighbors_nn\u001B[49m\u001B[43m,\u001B[49m\n\u001B[1;32m   1010\u001B[0m \u001B[43m    \u001B[49m\u001B[43mskip_num_points\u001B[49m\u001B[38;5;241;43m=\u001B[39;49m\u001B[43mskip_num_points\u001B[49m\u001B[43m,\u001B[49m\n\u001B[1;32m   1011\u001B[0m \u001B[43m\u001B[49m\u001B[43m)\u001B[49m\n",
      "File \u001B[0;32m~/opt/anaconda3/lib/python3.9/site-packages/sklearn/manifold/_t_sne.py:1072\u001B[0m, in \u001B[0;36mTSNE._tsne\u001B[0;34m(self, P, degrees_of_freedom, n_samples, X_embedded, neighbors, skip_num_points)\u001B[0m\n\u001B[1;32m   1070\u001B[0m     opt_args[\u001B[38;5;124m\"\u001B[39m\u001B[38;5;124mmomentum\u001B[39m\u001B[38;5;124m\"\u001B[39m] \u001B[38;5;241m=\u001B[39m \u001B[38;5;241m0.8\u001B[39m\n\u001B[1;32m   1071\u001B[0m     opt_args[\u001B[38;5;124m\"\u001B[39m\u001B[38;5;124mn_iter_without_progress\u001B[39m\u001B[38;5;124m\"\u001B[39m] \u001B[38;5;241m=\u001B[39m \u001B[38;5;28mself\u001B[39m\u001B[38;5;241m.\u001B[39mn_iter_without_progress\n\u001B[0;32m-> 1072\u001B[0m     params, kl_divergence, it \u001B[38;5;241m=\u001B[39m \u001B[43m_gradient_descent\u001B[49m\u001B[43m(\u001B[49m\u001B[43mobj_func\u001B[49m\u001B[43m,\u001B[49m\u001B[43m \u001B[49m\u001B[43mparams\u001B[49m\u001B[43m,\u001B[49m\u001B[43m \u001B[49m\u001B[38;5;241;43m*\u001B[39;49m\u001B[38;5;241;43m*\u001B[39;49m\u001B[43mopt_args\u001B[49m\u001B[43m)\u001B[49m\n\u001B[1;32m   1074\u001B[0m \u001B[38;5;66;03m# Save the final number of iterations\u001B[39;00m\n\u001B[1;32m   1075\u001B[0m \u001B[38;5;28mself\u001B[39m\u001B[38;5;241m.\u001B[39mn_iter_ \u001B[38;5;241m=\u001B[39m it\n",
      "File \u001B[0;32m~/opt/anaconda3/lib/python3.9/site-packages/sklearn/manifold/_t_sne.py:398\u001B[0m, in \u001B[0;36m_gradient_descent\u001B[0;34m(objective, p0, it, n_iter, n_iter_check, n_iter_without_progress, momentum, learning_rate, min_gain, min_grad_norm, verbose, args, kwargs)\u001B[0m\n\u001B[1;32m    395\u001B[0m \u001B[38;5;66;03m# only compute the error when needed\u001B[39;00m\n\u001B[1;32m    396\u001B[0m kwargs[\u001B[38;5;124m\"\u001B[39m\u001B[38;5;124mcompute_error\u001B[39m\u001B[38;5;124m\"\u001B[39m] \u001B[38;5;241m=\u001B[39m check_convergence \u001B[38;5;129;01mor\u001B[39;00m i \u001B[38;5;241m==\u001B[39m n_iter \u001B[38;5;241m-\u001B[39m \u001B[38;5;241m1\u001B[39m\n\u001B[0;32m--> 398\u001B[0m error, grad \u001B[38;5;241m=\u001B[39m \u001B[43mobjective\u001B[49m\u001B[43m(\u001B[49m\u001B[43mp\u001B[49m\u001B[43m,\u001B[49m\u001B[43m \u001B[49m\u001B[38;5;241;43m*\u001B[39;49m\u001B[43margs\u001B[49m\u001B[43m,\u001B[49m\u001B[43m \u001B[49m\u001B[38;5;241;43m*\u001B[39;49m\u001B[38;5;241;43m*\u001B[39;49m\u001B[43mkwargs\u001B[49m\u001B[43m)\u001B[49m\n\u001B[1;32m    399\u001B[0m grad_norm \u001B[38;5;241m=\u001B[39m linalg\u001B[38;5;241m.\u001B[39mnorm(grad)\n\u001B[1;32m    401\u001B[0m inc \u001B[38;5;241m=\u001B[39m update \u001B[38;5;241m*\u001B[39m grad \u001B[38;5;241m<\u001B[39m \u001B[38;5;241m0.0\u001B[39m\n",
      "File \u001B[0;32m~/opt/anaconda3/lib/python3.9/site-packages/sklearn/manifold/_t_sne.py:279\u001B[0m, in \u001B[0;36m_kl_divergence_bh\u001B[0;34m(params, P, degrees_of_freedom, n_samples, n_components, angle, skip_num_points, verbose, compute_error, num_threads)\u001B[0m\n\u001B[1;32m    276\u001B[0m indptr \u001B[38;5;241m=\u001B[39m P\u001B[38;5;241m.\u001B[39mindptr\u001B[38;5;241m.\u001B[39mastype(np\u001B[38;5;241m.\u001B[39mint64, copy\u001B[38;5;241m=\u001B[39m\u001B[38;5;28;01mFalse\u001B[39;00m)\n\u001B[1;32m    278\u001B[0m grad \u001B[38;5;241m=\u001B[39m np\u001B[38;5;241m.\u001B[39mzeros(X_embedded\u001B[38;5;241m.\u001B[39mshape, dtype\u001B[38;5;241m=\u001B[39mnp\u001B[38;5;241m.\u001B[39mfloat32)\n\u001B[0;32m--> 279\u001B[0m error \u001B[38;5;241m=\u001B[39m \u001B[43m_barnes_hut_tsne\u001B[49m\u001B[38;5;241;43m.\u001B[39;49m\u001B[43mgradient\u001B[49m\u001B[43m(\u001B[49m\n\u001B[1;32m    280\u001B[0m \u001B[43m    \u001B[49m\u001B[43mval_P\u001B[49m\u001B[43m,\u001B[49m\n\u001B[1;32m    281\u001B[0m \u001B[43m    \u001B[49m\u001B[43mX_embedded\u001B[49m\u001B[43m,\u001B[49m\n\u001B[1;32m    282\u001B[0m \u001B[43m    \u001B[49m\u001B[43mneighbors\u001B[49m\u001B[43m,\u001B[49m\n\u001B[1;32m    283\u001B[0m \u001B[43m    \u001B[49m\u001B[43mindptr\u001B[49m\u001B[43m,\u001B[49m\n\u001B[1;32m    284\u001B[0m \u001B[43m    \u001B[49m\u001B[43mgrad\u001B[49m\u001B[43m,\u001B[49m\n\u001B[1;32m    285\u001B[0m \u001B[43m    \u001B[49m\u001B[43mangle\u001B[49m\u001B[43m,\u001B[49m\n\u001B[1;32m    286\u001B[0m \u001B[43m    \u001B[49m\u001B[43mn_components\u001B[49m\u001B[43m,\u001B[49m\n\u001B[1;32m    287\u001B[0m \u001B[43m    \u001B[49m\u001B[43mverbose\u001B[49m\u001B[43m,\u001B[49m\n\u001B[1;32m    288\u001B[0m \u001B[43m    \u001B[49m\u001B[43mdof\u001B[49m\u001B[38;5;241;43m=\u001B[39;49m\u001B[43mdegrees_of_freedom\u001B[49m\u001B[43m,\u001B[49m\n\u001B[1;32m    289\u001B[0m \u001B[43m    \u001B[49m\u001B[43mcompute_error\u001B[49m\u001B[38;5;241;43m=\u001B[39;49m\u001B[43mcompute_error\u001B[49m\u001B[43m,\u001B[49m\n\u001B[1;32m    290\u001B[0m \u001B[43m    \u001B[49m\u001B[43mnum_threads\u001B[49m\u001B[38;5;241;43m=\u001B[39;49m\u001B[43mnum_threads\u001B[49m\u001B[43m,\u001B[49m\n\u001B[1;32m    291\u001B[0m \u001B[43m\u001B[49m\u001B[43m)\u001B[49m\n\u001B[1;32m    292\u001B[0m c \u001B[38;5;241m=\u001B[39m \u001B[38;5;241m2.0\u001B[39m \u001B[38;5;241m*\u001B[39m (degrees_of_freedom \u001B[38;5;241m+\u001B[39m \u001B[38;5;241m1.0\u001B[39m) \u001B[38;5;241m/\u001B[39m degrees_of_freedom\n\u001B[1;32m    293\u001B[0m grad \u001B[38;5;241m=\u001B[39m grad\u001B[38;5;241m.\u001B[39mravel()\n",
      "\u001B[0;31mKeyboardInterrupt\u001B[0m: "
     ]
    },
    {
     "data": {
      "text/plain": "<Figure size 720x720 with 1 Axes>",
      "image/png": "[encoded data removed]"
     },
     "metadata": {},
     "output_type": "display_data"
    },
    {
     "data": {
      "text/plain": "<Figure size 720x720 with 1 Axes>",
      "image/png": "[encoded data removed]"
     },
     "metadata": {},
     "output_type": "display_data"
    },
    {
     "data": {
      "text/plain": "<Figure size 720x720 with 1 Axes>",
      "image/png": "[encoded data removed]"
     },
     "metadata": {},
     "output_type": "display_data"
    },
    {
     "data": {
      "text/plain": "<Figure size 720x720 with 1 Axes>",
      "image/png": "[encoded data removed]"
     },
     "metadata": {},
     "output_type": "display_data"
    },
    {
     "data": {
      "text/plain": "<Figure size 720x720 with 1 Axes>",
      "image/png": "[encoded data removed]"
     },
     "metadata": {},
     "output_type": "display_data"
    }
   ],
   "source": [
    "clustering_model_columns = list(set(heart_dataset_preprocessed.columns) - set(['Race_Other', 'AgeCategory']))\n",
    "X = heart_dataset_preprocessed[clustering_model_columns].sample(n=5000, random_state=42).dropna()\n",
    "X_cluster = X.drop(columns=['HeartDisease'])\n",
    "\n",
    "perplexity_ls = [1, 2, 5, 10, 15, 20, 30, 50]\n",
    "\n",
    "for perplexity in perplexity_ls:\n",
    "    tsne = TSNE(n_components=2, learning_rate=5,\n",
    "                init='pca', perplexity=perplexity, random_state=42, n_iter=3000, n_jobs=-1)\n",
    "    X_tsne_embedded = tsne.fit_transform(X_cluster)\n",
    "\n",
    "    X_tsne_embedded_concat = pd.merge(X, pd.DataFrame(X_tsne_embedded), left_index=True, right_index=True)\n",
    "\n",
    "    fig, ax = plt.subplots(figsize=(10, 10))\n",
    "\n",
    "    heart_disease_ls = [1, 0]\n",
    "    for has_heart_disease in heart_disease_ls:\n",
    "        points_to_plot = X_tsne_embedded_concat.loc[X_tsne_embedded_concat[\"HeartDisease\"] == has_heart_disease, :]\n",
    "        plt.scatter(y=points_to_plot[0], x=points_to_plot[1], label=str(has_heart_disease))\n",
    "        plt.suptitle(\"perplexity: {}\".format(perplexity))\n",
    "    plt.legend()\n",
    "    plt.savefig('tsne_perplexity_{}.png'.format(perplexity))\n",
    "\n",
    "X_tsne_embedded_concat.head()"
   ],
   "metadata": {
    "collapsed": false
   }
  },
  {
   "cell_type": "markdown",
   "source": [
    "**Conclusion**\n",
    "\n",
    "TSNE results show that a clustering is not beneficial."
   ],
   "metadata": {
    "collapsed": false
   }
  },
  {
   "cell_type": "markdown",
   "source": [
    "## Visualization"
   ],
   "metadata": {
    "collapsed": false
   }
  },
  {
   "cell_type": "code",
   "execution_count": null,
   "outputs": [],
   "source": [
    "# Plot distribution of numerical features, grouped by class\n",
    "figure_distribution = plt.figure(figsize=(15, 8))\n",
    "\n",
    "figure_index = 1\n",
    "# Boxplot\n",
    "for current_feature in numerical_features:\n",
    "    ax = figure_distribution.add_subplot(2, 4, figure_index)\n",
    "    heart_dataset_preprocessed.boxplot(column=[current_feature], by='HeartDisease', ax=ax)\n",
    "    figure_index += 1\n",
    "\n",
    "# Histogram\n",
    "for current_feature in numerical_features:\n",
    "    ax = figure_distribution.add_subplot(2, 4, figure_index)\n",
    "    for has_heart_disease, group in heart_dataset_preprocessed.groupby('HeartDisease'):\n",
    "        # plot the data points for the current group and feature combination\n",
    "        ax.hist(group[current_feature], label=has_heart_disease)\n",
    "        ax.set_xlabel(current_feature)\n",
    "        ax.legend()\n",
    "    figure_index += 1\n",
    "\n",
    "plt.suptitle('')\n",
    "plt.show()"
   ],
   "metadata": {
    "collapsed": false
   }
  },
  {
   "cell_type": "markdown",
   "source": [
    "**Conclusion**\n",
    "\n",
    "The features BMI and SleepTime are approximately normal distributed - PhysicalHealth and MentalHealth do not have a normal distribution."
   ],
   "metadata": {
    "collapsed": false
   }
  },
  {
   "cell_type": "code",
   "execution_count": null,
   "outputs": [],
   "source": [
    "# Plot scatters of numerical features\n",
    "figure_scatter = plt.figure(figsize=(15, 8))\n",
    "figure_index = 1\n",
    "\n",
    "# Create all possible combinations of the numerical features\n",
    "combinations = itertools.combinations(numerical_features, 2)\n",
    "\n",
    "# Go through all combinations and create one plot for each\n",
    "for combination in combinations:\n",
    "    # Add a subplot to the figure\n",
    "    axs = figure_scatter.add_subplot(2, 3, figure_index)\n",
    "    axs.scatter(heart_dataset_preprocessed[combination[0]],\n",
    "                heart_dataset_preprocessed[combination[1]])\n",
    "    # Set the axis labels of the current subplot\n",
    "    axs.set_xlabel(combination[0])\n",
    "    axs.set_ylabel(combination[1])\n",
    "    # Increase the figure index (otherwise all plots are drawn in the first subplot)\n",
    "    figure_index += 1\n",
    "\n",
    "plt.tight_layout()\n",
    "plt.show()"
   ],
   "metadata": {
    "collapsed": false
   }
  },
  {
   "cell_type": "markdown",
   "source": [
    "**Conclusion**\n",
    "\n",
    "No significant correlation exists between the numerical features."
   ],
   "metadata": {
    "collapsed": false
   }
  },
  {
   "cell_type": "markdown",
   "metadata": {},
   "source": [
    "For every column a histogram is printed having each state of having a heart disease as a separate color"
   ]
  },
  {
   "cell_type": "code",
   "execution_count": null,
   "metadata": {},
   "outputs": [],
   "source": [
    "all_features = heart_dataset_preprocessed.columns[1:]\n",
    "\n",
    "figure_histograms = plt.figure(figsize=(15, 20))\n",
    "\n",
    "figure_index = 1\n",
    "for current_feature in all_features:\n",
    "    ax = figure_histograms.add_subplot(6, 4, figure_index)\n",
    "    for has_heart_disease, group in heart_dataset_preprocessed.groupby('HeartDisease'):\n",
    "        # plot the data points for the current group and feature combination\n",
    "        ax.hist(group[current_feature], label=has_heart_disease)\n",
    "        ax.set_xlabel(current_feature)\n",
    "        ax.legend()\n",
    "    figure_index += 1\n",
    "\n",
    "plt.tight_layout()\n",
    "plt.show()"
   ]
  },
  {
   "cell_type": "code",
   "execution_count": null,
   "metadata": {},
   "outputs": [],
   "source": [
    "heart_dataset_preprocessed_corr = heart_dataset_preprocessed.corr()\n",
    "display(heart_dataset_preprocessed_corr.head())\n",
    "\n",
    "mask = np.triu(np.ones_like(heart_dataset_preprocessed_corr, dtype=bool))\n",
    "plt.figure(figsize = (10,10))\n",
    "display(sns.heatmap(heart_dataset_preprocessed_corr, mask=mask, vmin=-1, vmax=1, cmap=\"seismic\", annot=True, annot_kws={\"size\": 7}))"
   ]
  },
  {
   "cell_type": "markdown",
   "metadata": {},
   "source": [
    "For every pair there is a pair plot generated"
   ]
  },
  {
   "cell_type": "code",
   "execution_count": null,
   "metadata": {},
   "outputs": [],
   "source": [
    "columns_for_pair_plot = [\"HeartDisease\", \"Stroke\"] + numerical_features\n",
    "\n",
    "equally_distributed_dataset = heart_dataset_preprocessed.loc[heart_dataset_preprocessed[\"HeartDisease\"] == 1, columns_for_pair_plot].sample(n=1000, random_state=42)\n",
    "equally_distributed_dataset = pd.concat([equally_distributed_dataset, heart_dataset_preprocessed.loc[heart_dataset_preprocessed[\"HeartDisease\"] == 0, columns_for_pair_plot].sample(n=1000, random_state=42)])\n",
    "\n",
    "hue_order= [0, 1]\n",
    "display(sns.pairplot(equally_distributed_dataset, hue=\"HeartDisease\", hue_order=hue_order, corner=True, plot_kws={'alpha': 0.5}))"
   ]
  },
  {
   "cell_type": "code",
   "execution_count": null,
   "metadata": {},
   "outputs": [],
   "source": [
    "subset_data = heart_dataset_preprocessed.sample(n=1000, random_state=42)\n",
    "\n",
    "ax = sns.violinplot(data=subset_data, x=\"HeartDisease\", y=\"BMI\")\n",
    "ax.set(ylabel=\"\")"
   ]
  },
  {
   "cell_type": "code",
   "execution_count": null,
   "metadata": {},
   "outputs": [],
   "source": [
    "sns.swarmplot(data=subset_data, x=\"GenHealth\", y=\"PhysicalHealth\", hue=\"HeartDisease\", size=3)"
   ]
  },
  {
   "cell_type": "code",
   "execution_count": null,
   "metadata": {},
   "outputs": [],
   "source": [
    "fig, ax = plt.subplots(figsize=(15, 10))\n",
    "sns.violinplot(data=subset_data, x=\"GenHealth\", y=\"PhysicalHealth\", hue=\"HeartDisease\", split=True, inner=\"quart\", linewidth=1, cut=0)"
   ]
  },
  {
   "cell_type": "code",
   "execution_count": null,
   "metadata": {},
   "outputs": [],
   "source": [
    "fig, ax = plt.subplots(figsize=(10, 10))\n",
    "sns.violinplot(data=subset_data, x=\"GenHealth\", y=\"MentalHealth\", hue=\"HeartDisease\", split=True, inner=\"quart\", linewidth=1, cut=0)"
   ]
  },
  {
   "cell_type": "code",
   "execution_count": null,
   "metadata": {},
   "outputs": [],
   "source": [
    "fig, ax = plt.subplots(figsize=(15, 10))\n",
    "sns.violinplot(data=subset_data, x=\"DiffWalking\", y=\"PhysicalHealth\", hue=\"HeartDisease\", split=True, inner=\"quart\", linewidth=1, cut=0)"
   ]
  },
  {
   "cell_type": "code",
   "execution_count": null,
   "metadata": {},
   "outputs": [],
   "source": [
    "sns.displot(\n",
    "    data=subset_data,\n",
    "    x=\"AgeCategoryAvg\", hue=\"GenHealth\",\n",
    "    kind=\"kde\", multiple=\"fill\", clip=(0,1), palette=\"ch:rot=-.25,hue=1,light=.75\",\n",
    ")"
   ]
  },
  {
   "cell_type": "code",
   "execution_count": null,
   "metadata": {},
   "outputs": [],
   "source": [
    "fig, ax = plt.subplots(figsize=(10, 10))\n",
    "sns.kdeplot(data=heart_dataset_preprocessed.loc[heart_dataset_preprocessed[\"HeartDisease\"] == 1, :], x=\"AgeCategoryAvg\", bw_adjust=4, ax=ax, cut=0, label=\"Heart Disease\", color=\"red\", fill=True)\n",
    "sns.kdeplot(data=heart_dataset_preprocessed.loc[heart_dataset_preprocessed[\"HeartDisease\"] == 0, :], x=\"AgeCategoryAvg\", bw_adjust=4, ax=ax, cut=0, label=\"No Heart Disease\", color=\"green\", fill=True)\n",
    "\n",
    "ax.legend()\n",
    "plt.tight_layout()\n",
    "plt.show()"
   ]
  },
  {
   "cell_type": "markdown",
   "source": [
    "### Clustering\n",
    "\n",
    "We want to find out if it is beneficial to cluster the data in preprocessing. For this we apply the TSNE method."
   ],
   "metadata": {
    "collapsed": false
   }
  },
  {
   "cell_type": "code",
   "execution_count": null,
   "outputs": [],
   "source": [
    "clustering_model_columns = list(set(heart_dataset_preprocessed.columns) - set(['Race_Other', 'AgeCategory']))\n",
    "X = heart_dataset_preprocessed[clustering_model_columns].sample(n=5000, random_state=42).dropna()\n",
    "X_cluster = X.drop(columns=['HeartDisease'])\n",
    "\n",
    "perplexity_ls = [1, 2, 5, 10, 15, 20, 30, 50]\n",
    "\n",
    "for perplexity in perplexity_ls:\n",
    "    tsne = TSNE(n_components=2, learning_rate=5,\n",
    "                init='pca', perplexity=perplexity, random_state=42, n_iter=3000, n_jobs=-1)\n",
    "    X_tsne_embedded = tsne.fit_transform(X_cluster)\n",
    "\n",
    "    X_tsne_embedded_concat = pd.merge(X, pd.DataFrame(X_tsne_embedded), left_index=True, right_index=True)\n",
    "\n",
    "    fig, ax = plt.subplots(figsize=(10, 10))\n",
    "\n",
    "    heart_disease_ls = [1, 0]\n",
    "    for has_heart_disease in heart_disease_ls:\n",
    "        points_to_plot = X_tsne_embedded_concat.loc[X_tsne_embedded_concat[\"HeartDisease\"] == has_heart_disease, :]\n",
    "        plt.scatter(y=points_to_plot[0], x=points_to_plot[1], label=str(has_heart_disease))\n",
    "        plt.suptitle(\"perplexity: {}\".format(perplexity))\n",
    "    plt.legend()\n",
    "#   plt.savefig('tsne_perplexity_{}.png'.format(perplexity))\n",
    "\n",
    "X_tsne_embedded_concat.head()"
   ],
   "metadata": {
    "collapsed": false
   }
  },
  {
   "cell_type": "markdown",
   "source": [
    "**Conclusion**\n",
    "\n",
    "TSNE results show that a clustering is not beneficial."
   ],
   "metadata": {
    "collapsed": false
   }
  },
  {
   "cell_type": "markdown",
   "source": [
    "## Feature Selection\n",
    "\n",
    "Our dataset has many features. A core aspect of preprocessing is feature selection. Based on the previous visualization and the conclusions derived from it, unimportant features are now removed and new features are created by using the interaction effect."
   ],
   "metadata": {
    "collapsed": false
   }
  },
  {
   "cell_type": "code",
   "execution_count": null,
   "outputs": [],
   "source": [
    "# TODO: implement feature selection\n",
    "# maybe drop one Race column and one diabetic column as over-specified if all those are taken into the model"
   ],
   "metadata": {
    "collapsed": false
   }
  },
  {
   "cell_type": "markdown",
   "source": [
    "Now we are through with the preprocessing and can save the preprocessed dataset."
   ],
   "metadata": {
    "collapsed": false
   }
  },
  {
   "cell_type": "code",
   "execution_count": null,
   "outputs": [],
   "source": [
    "# Save preprocessed data\n",
    "filepath = Path('./heart_dataset_preprocessed.csv')\n",
    "heart_dataset_preprocessed.to_csv(filepath, index=False)"
   ],
   "metadata": {
    "collapsed": false
   }
  }
 ],
 "metadata": {
  "kernelspec": {
   "display_name": "Python 3",
   "language": "python",
   "name": "python3"
  },
  "language_info": {
   "codemirror_mode": {
    "name": "ipython",
    "version": 3
   },
   "file_extension": ".py",
   "mimetype": "text/x-python",
   "name": "python",
   "nbconvert_exporter": "python",
   "pygments_lexer": "ipython3",
   "version": "3.8.3"
  },
  "vscode": {
   "interpreter": {
    "hash": "26de051ba29f2982a8de78e945f0abaf191376122a1563185a90213a26c5da77"
   }
  }
 },
 "nbformat": 4,
 "nbformat_minor": 4
}
