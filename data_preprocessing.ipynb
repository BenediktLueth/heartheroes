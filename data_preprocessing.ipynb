{
 "cells": [
  {
   "cell_type": "markdown",
   "metadata": {},
   "source": [
    "# Preprocessing"
   ]
  },
  {
   "cell_type": "markdown",
   "source": [
    "## Import libraries"
   ],
   "metadata": {
    "collapsed": false
   }
  },
  {
   "cell_type": "code",
   "execution_count": 47,
   "outputs": [],
   "source": [
    "import pandas as pd\n",
    "from sklearn import preprocessing\n",
    "from sklearn.manifold import TSNE\n",
    "import numpy as np\n",
    "from pathlib import Path\n",
    "import itertools\n",
    "import seaborn as sns\n",
    "import matplotlib.pyplot as plt"
   ],
   "metadata": {
    "collapsed": false
   }
  },
  {
   "cell_type": "markdown",
   "source": [
    "## Setup data"
   ],
   "metadata": {
    "collapsed": false
   }
  },
  {
   "cell_type": "code",
   "execution_count": 48,
   "outputs": [],
   "source": [
    "# Load dataset\n",
    "heart_dataset = pd.read_csv('./heart_2020_cleaned.csv')\n",
    "\n",
    "# Copy dataset for processing\n",
    "heart_dataset_preprocessed = heart_dataset.copy()"
   ],
   "metadata": {
    "collapsed": false
   }
  },
  {
   "cell_type": "markdown",
   "source": [
    "## Get a feeling for the data"
   ],
   "metadata": {
    "collapsed": false
   }
  },
  {
   "cell_type": "code",
   "execution_count": 49,
   "metadata": {},
   "outputs": [
    {
     "data": {
      "text/plain": "RangeIndex(start=0, stop=319795, step=1)"
     },
     "metadata": {},
     "output_type": "display_data"
    },
    {
     "data": {
      "text/plain": "HeartDisease         object\nBMI                 float64\nSmoking              object\nAlcoholDrinking      object\nStroke               object\nPhysicalHealth      float64\nMentalHealth        float64\nDiffWalking          object\nSex                  object\nAgeCategory          object\nRace                 object\nDiabetic             object\nPhysicalActivity     object\nGenHealth            object\nSleepTime           float64\nAsthma               object\nKidneyDisease        object\nSkinCancer           object\ndtype: object"
     },
     "metadata": {},
     "output_type": "display_data"
    },
    {
     "data": {
      "text/plain": "  HeartDisease    BMI Smoking AlcoholDrinking Stroke  PhysicalHealth  \\\n0           No  16.60     Yes              No     No             3.0   \n1           No  20.34      No              No    Yes             0.0   \n2           No  26.58     Yes              No     No            20.0   \n3           No  24.21      No              No     No             0.0   \n4           No  23.71      No              No     No            28.0   \n\n   MentalHealth DiffWalking     Sex  AgeCategory   Race Diabetic  \\\n0          30.0          No  Female        55-59  White      Yes   \n1           0.0          No  Female  80 or older  White       No   \n2          30.0          No    Male        65-69  White      Yes   \n3           0.0          No  Female        75-79  White       No   \n4           0.0         Yes  Female        40-44  White       No   \n\n  PhysicalActivity  GenHealth  SleepTime Asthma KidneyDisease SkinCancer  \n0              Yes  Very good        5.0    Yes            No        Yes  \n1              Yes  Very good        7.0     No            No         No  \n2              Yes       Fair        8.0    Yes            No         No  \n3               No       Good        6.0     No            No        Yes  \n4              Yes  Very good        8.0     No            No         No  ",
      "text/html": "<div>\n<style scoped>\n    .dataframe tbody tr th:only-of-type {\n        vertical-align: middle;\n    }\n\n    .dataframe tbody tr th {\n        vertical-align: top;\n    }\n\n    .dataframe thead th {\n        text-align: right;\n    }\n</style>\n<table border=\"1\" class=\"dataframe\">\n  <thead>\n    <tr style=\"text-align: right;\">\n      <th></th>\n      <th>HeartDisease</th>\n      <th>BMI</th>\n      <th>Smoking</th>\n      <th>AlcoholDrinking</th>\n      <th>Stroke</th>\n      <th>PhysicalHealth</th>\n      <th>MentalHealth</th>\n      <th>DiffWalking</th>\n      <th>Sex</th>\n      <th>AgeCategory</th>\n      <th>Race</th>\n      <th>Diabetic</th>\n      <th>PhysicalActivity</th>\n      <th>GenHealth</th>\n      <th>SleepTime</th>\n      <th>Asthma</th>\n      <th>KidneyDisease</th>\n      <th>SkinCancer</th>\n    </tr>\n  </thead>\n  <tbody>\n    <tr>\n      <th>0</th>\n      <td>No</td>\n      <td>16.60</td>\n      <td>Yes</td>\n      <td>No</td>\n      <td>No</td>\n      <td>3.0</td>\n      <td>30.0</td>\n      <td>No</td>\n      <td>Female</td>\n      <td>55-59</td>\n      <td>White</td>\n      <td>Yes</td>\n      <td>Yes</td>\n      <td>Very good</td>\n      <td>5.0</td>\n      <td>Yes</td>\n      <td>No</td>\n      <td>Yes</td>\n    </tr>\n    <tr>\n      <th>1</th>\n      <td>No</td>\n      <td>20.34</td>\n      <td>No</td>\n      <td>No</td>\n      <td>Yes</td>\n      <td>0.0</td>\n      <td>0.0</td>\n      <td>No</td>\n      <td>Female</td>\n      <td>80 or older</td>\n      <td>White</td>\n      <td>No</td>\n      <td>Yes</td>\n      <td>Very good</td>\n      <td>7.0</td>\n      <td>No</td>\n      <td>No</td>\n      <td>No</td>\n    </tr>\n    <tr>\n      <th>2</th>\n      <td>No</td>\n      <td>26.58</td>\n      <td>Yes</td>\n      <td>No</td>\n      <td>No</td>\n      <td>20.0</td>\n      <td>30.0</td>\n      <td>No</td>\n      <td>Male</td>\n      <td>65-69</td>\n      <td>White</td>\n      <td>Yes</td>\n      <td>Yes</td>\n      <td>Fair</td>\n      <td>8.0</td>\n      <td>Yes</td>\n      <td>No</td>\n      <td>No</td>\n    </tr>\n    <tr>\n      <th>3</th>\n      <td>No</td>\n      <td>24.21</td>\n      <td>No</td>\n      <td>No</td>\n      <td>No</td>\n      <td>0.0</td>\n      <td>0.0</td>\n      <td>No</td>\n      <td>Female</td>\n      <td>75-79</td>\n      <td>White</td>\n      <td>No</td>\n      <td>No</td>\n      <td>Good</td>\n      <td>6.0</td>\n      <td>No</td>\n      <td>No</td>\n      <td>Yes</td>\n    </tr>\n    <tr>\n      <th>4</th>\n      <td>No</td>\n      <td>23.71</td>\n      <td>No</td>\n      <td>No</td>\n      <td>No</td>\n      <td>28.0</td>\n      <td>0.0</td>\n      <td>Yes</td>\n      <td>Female</td>\n      <td>40-44</td>\n      <td>White</td>\n      <td>No</td>\n      <td>Yes</td>\n      <td>Very good</td>\n      <td>8.0</td>\n      <td>No</td>\n      <td>No</td>\n      <td>No</td>\n    </tr>\n  </tbody>\n</table>\n</div>"
     },
     "metadata": {},
     "output_type": "display_data"
    },
    {
     "data": {
      "text/plain": "       HeartDisease            BMI Smoking AlcoholDrinking  Stroke  \\\ncount        319795  319795.000000  319795          319795  319795   \nunique            2            NaN       2               2       2   \ntop              No            NaN      No              No      No   \nfreq         292422            NaN  187887          298018  307726   \nmean            NaN      28.325399     NaN             NaN     NaN   \nstd             NaN       6.356100     NaN             NaN     NaN   \nmin             NaN      12.020000     NaN             NaN     NaN   \n25%             NaN      24.030000     NaN             NaN     NaN   \n50%             NaN      27.340000     NaN             NaN     NaN   \n75%             NaN      31.420000     NaN             NaN     NaN   \nmax             NaN      94.850000     NaN             NaN     NaN   \n\n        PhysicalHealth   MentalHealth DiffWalking     Sex AgeCategory    Race  \\\ncount     319795.00000  319795.000000      319795  319795      319795  319795   \nunique             NaN            NaN           2       2          13       6   \ntop                NaN            NaN          No  Female       65-69   White   \nfreq               NaN            NaN      275385  167805       34151  245212   \nmean           3.37171       3.898366         NaN     NaN         NaN     NaN   \nstd            7.95085       7.955235         NaN     NaN         NaN     NaN   \nmin            0.00000       0.000000         NaN     NaN         NaN     NaN   \n25%            0.00000       0.000000         NaN     NaN         NaN     NaN   \n50%            0.00000       0.000000         NaN     NaN         NaN     NaN   \n75%            2.00000       3.000000         NaN     NaN         NaN     NaN   \nmax           30.00000      30.000000         NaN     NaN         NaN     NaN   \n\n       Diabetic PhysicalActivity  GenHealth      SleepTime  Asthma  \\\ncount    319795           319795     319795  319795.000000  319795   \nunique        4                2          5            NaN       2   \ntop          No              Yes  Very good            NaN      No   \nfreq     269653           247957     113858            NaN  276923   \nmean        NaN              NaN        NaN       7.097075     NaN   \nstd         NaN              NaN        NaN       1.436007     NaN   \nmin         NaN              NaN        NaN       1.000000     NaN   \n25%         NaN              NaN        NaN       6.000000     NaN   \n50%         NaN              NaN        NaN       7.000000     NaN   \n75%         NaN              NaN        NaN       8.000000     NaN   \nmax         NaN              NaN        NaN      24.000000     NaN   \n\n       KidneyDisease SkinCancer  \ncount         319795     319795  \nunique             2          2  \ntop               No         No  \nfreq          308016     289976  \nmean             NaN        NaN  \nstd              NaN        NaN  \nmin              NaN        NaN  \n25%              NaN        NaN  \n50%              NaN        NaN  \n75%              NaN        NaN  \nmax              NaN        NaN  ",
      "text/html": "<div>\n<style scoped>\n    .dataframe tbody tr th:only-of-type {\n        vertical-align: middle;\n    }\n\n    .dataframe tbody tr th {\n        vertical-align: top;\n    }\n\n    .dataframe thead th {\n        text-align: right;\n    }\n</style>\n<table border=\"1\" class=\"dataframe\">\n  <thead>\n    <tr style=\"text-align: right;\">\n      <th></th>\n      <th>HeartDisease</th>\n      <th>BMI</th>\n      <th>Smoking</th>\n      <th>AlcoholDrinking</th>\n      <th>Stroke</th>\n      <th>PhysicalHealth</th>\n      <th>MentalHealth</th>\n      <th>DiffWalking</th>\n      <th>Sex</th>\n      <th>AgeCategory</th>\n      <th>Race</th>\n      <th>Diabetic</th>\n      <th>PhysicalActivity</th>\n      <th>GenHealth</th>\n      <th>SleepTime</th>\n      <th>Asthma</th>\n      <th>KidneyDisease</th>\n      <th>SkinCancer</th>\n    </tr>\n  </thead>\n  <tbody>\n    <tr>\n      <th>count</th>\n      <td>319795</td>\n      <td>319795.000000</td>\n      <td>319795</td>\n      <td>319795</td>\n      <td>319795</td>\n      <td>319795.00000</td>\n      <td>319795.000000</td>\n      <td>319795</td>\n      <td>319795</td>\n      <td>319795</td>\n      <td>319795</td>\n      <td>319795</td>\n      <td>319795</td>\n      <td>319795</td>\n      <td>319795.000000</td>\n      <td>319795</td>\n      <td>319795</td>\n      <td>319795</td>\n    </tr>\n    <tr>\n      <th>unique</th>\n      <td>2</td>\n      <td>NaN</td>\n      <td>2</td>\n      <td>2</td>\n      <td>2</td>\n      <td>NaN</td>\n      <td>NaN</td>\n      <td>2</td>\n      <td>2</td>\n      <td>13</td>\n      <td>6</td>\n      <td>4</td>\n      <td>2</td>\n      <td>5</td>\n      <td>NaN</td>\n      <td>2</td>\n      <td>2</td>\n      <td>2</td>\n    </tr>\n    <tr>\n      <th>top</th>\n      <td>No</td>\n      <td>NaN</td>\n      <td>No</td>\n      <td>No</td>\n      <td>No</td>\n      <td>NaN</td>\n      <td>NaN</td>\n      <td>No</td>\n      <td>Female</td>\n      <td>65-69</td>\n      <td>White</td>\n      <td>No</td>\n      <td>Yes</td>\n      <td>Very good</td>\n      <td>NaN</td>\n      <td>No</td>\n      <td>No</td>\n      <td>No</td>\n    </tr>\n    <tr>\n      <th>freq</th>\n      <td>292422</td>\n      <td>NaN</td>\n      <td>187887</td>\n      <td>298018</td>\n      <td>307726</td>\n      <td>NaN</td>\n      <td>NaN</td>\n      <td>275385</td>\n      <td>167805</td>\n      <td>34151</td>\n      <td>245212</td>\n      <td>269653</td>\n      <td>247957</td>\n      <td>113858</td>\n      <td>NaN</td>\n      <td>276923</td>\n      <td>308016</td>\n      <td>289976</td>\n    </tr>\n    <tr>\n      <th>mean</th>\n      <td>NaN</td>\n      <td>28.325399</td>\n      <td>NaN</td>\n      <td>NaN</td>\n      <td>NaN</td>\n      <td>3.37171</td>\n      <td>3.898366</td>\n      <td>NaN</td>\n      <td>NaN</td>\n      <td>NaN</td>\n      <td>NaN</td>\n      <td>NaN</td>\n      <td>NaN</td>\n      <td>NaN</td>\n      <td>7.097075</td>\n      <td>NaN</td>\n      <td>NaN</td>\n      <td>NaN</td>\n    </tr>\n    <tr>\n      <th>std</th>\n      <td>NaN</td>\n      <td>6.356100</td>\n      <td>NaN</td>\n      <td>NaN</td>\n      <td>NaN</td>\n      <td>7.95085</td>\n      <td>7.955235</td>\n      <td>NaN</td>\n      <td>NaN</td>\n      <td>NaN</td>\n      <td>NaN</td>\n      <td>NaN</td>\n      <td>NaN</td>\n      <td>NaN</td>\n      <td>1.436007</td>\n      <td>NaN</td>\n      <td>NaN</td>\n      <td>NaN</td>\n    </tr>\n    <tr>\n      <th>min</th>\n      <td>NaN</td>\n      <td>12.020000</td>\n      <td>NaN</td>\n      <td>NaN</td>\n      <td>NaN</td>\n      <td>0.00000</td>\n      <td>0.000000</td>\n      <td>NaN</td>\n      <td>NaN</td>\n      <td>NaN</td>\n      <td>NaN</td>\n      <td>NaN</td>\n      <td>NaN</td>\n      <td>NaN</td>\n      <td>1.000000</td>\n      <td>NaN</td>\n      <td>NaN</td>\n      <td>NaN</td>\n    </tr>\n    <tr>\n      <th>25%</th>\n      <td>NaN</td>\n      <td>24.030000</td>\n      <td>NaN</td>\n      <td>NaN</td>\n      <td>NaN</td>\n      <td>0.00000</td>\n      <td>0.000000</td>\n      <td>NaN</td>\n      <td>NaN</td>\n      <td>NaN</td>\n      <td>NaN</td>\n      <td>NaN</td>\n      <td>NaN</td>\n      <td>NaN</td>\n      <td>6.000000</td>\n      <td>NaN</td>\n      <td>NaN</td>\n      <td>NaN</td>\n    </tr>\n    <tr>\n      <th>50%</th>\n      <td>NaN</td>\n      <td>27.340000</td>\n      <td>NaN</td>\n      <td>NaN</td>\n      <td>NaN</td>\n      <td>0.00000</td>\n      <td>0.000000</td>\n      <td>NaN</td>\n      <td>NaN</td>\n      <td>NaN</td>\n      <td>NaN</td>\n      <td>NaN</td>\n      <td>NaN</td>\n      <td>NaN</td>\n      <td>7.000000</td>\n      <td>NaN</td>\n      <td>NaN</td>\n      <td>NaN</td>\n    </tr>\n    <tr>\n      <th>75%</th>\n      <td>NaN</td>\n      <td>31.420000</td>\n      <td>NaN</td>\n      <td>NaN</td>\n      <td>NaN</td>\n      <td>2.00000</td>\n      <td>3.000000</td>\n      <td>NaN</td>\n      <td>NaN</td>\n      <td>NaN</td>\n      <td>NaN</td>\n      <td>NaN</td>\n      <td>NaN</td>\n      <td>NaN</td>\n      <td>8.000000</td>\n      <td>NaN</td>\n      <td>NaN</td>\n      <td>NaN</td>\n    </tr>\n    <tr>\n      <th>max</th>\n      <td>NaN</td>\n      <td>94.850000</td>\n      <td>NaN</td>\n      <td>NaN</td>\n      <td>NaN</td>\n      <td>30.00000</td>\n      <td>30.000000</td>\n      <td>NaN</td>\n      <td>NaN</td>\n      <td>NaN</td>\n      <td>NaN</td>\n      <td>NaN</td>\n      <td>NaN</td>\n      <td>NaN</td>\n      <td>24.000000</td>\n      <td>NaN</td>\n      <td>NaN</td>\n      <td>NaN</td>\n    </tr>\n  </tbody>\n</table>\n</div>"
     },
     "metadata": {},
     "output_type": "display_data"
    },
    {
     "data": {
      "text/plain": "                     BMI  PhysicalHealth  MentalHealth  SleepTime\nBMI             1.000000        0.109788      0.064131  -0.051822\nPhysicalHealth  0.109788        1.000000      0.287987  -0.061387\nMentalHealth    0.064131        0.287987      1.000000  -0.119717\nSleepTime      -0.051822       -0.061387     -0.119717   1.000000",
      "text/html": "<div>\n<style scoped>\n    .dataframe tbody tr th:only-of-type {\n        vertical-align: middle;\n    }\n\n    .dataframe tbody tr th {\n        vertical-align: top;\n    }\n\n    .dataframe thead th {\n        text-align: right;\n    }\n</style>\n<table border=\"1\" class=\"dataframe\">\n  <thead>\n    <tr style=\"text-align: right;\">\n      <th></th>\n      <th>BMI</th>\n      <th>PhysicalHealth</th>\n      <th>MentalHealth</th>\n      <th>SleepTime</th>\n    </tr>\n  </thead>\n  <tbody>\n    <tr>\n      <th>BMI</th>\n      <td>1.000000</td>\n      <td>0.109788</td>\n      <td>0.064131</td>\n      <td>-0.051822</td>\n    </tr>\n    <tr>\n      <th>PhysicalHealth</th>\n      <td>0.109788</td>\n      <td>1.000000</td>\n      <td>0.287987</td>\n      <td>-0.061387</td>\n    </tr>\n    <tr>\n      <th>MentalHealth</th>\n      <td>0.064131</td>\n      <td>0.287987</td>\n      <td>1.000000</td>\n      <td>-0.119717</td>\n    </tr>\n    <tr>\n      <th>SleepTime</th>\n      <td>-0.051822</td>\n      <td>-0.061387</td>\n      <td>-0.119717</td>\n      <td>1.000000</td>\n    </tr>\n  </tbody>\n</table>\n</div>"
     },
     "metadata": {},
     "output_type": "display_data"
    },
    {
     "name": "stdout",
     "output_type": "stream",
     "text": [
      "HeartDisease: 0 NaN values\n",
      "BMI: 0 NaN values\n",
      "Smoking: 0 NaN values\n",
      "AlcoholDrinking: 0 NaN values\n",
      "Stroke: 0 NaN values\n",
      "PhysicalHealth: 0 NaN values\n",
      "MentalHealth: 0 NaN values\n",
      "DiffWalking: 0 NaN values\n",
      "Sex: 0 NaN values\n",
      "AgeCategory: 0 NaN values\n",
      "Race: 0 NaN values\n",
      "Diabetic: 0 NaN values\n",
      "PhysicalActivity: 0 NaN values\n",
      "GenHealth: 0 NaN values\n",
      "SleepTime: 0 NaN values\n",
      "Asthma: 0 NaN values\n",
      "KidneyDisease: 0 NaN values\n",
      "SkinCancer: 0 NaN values\n",
      "No     292422\n",
      "Yes     27373\n",
      "Name: HeartDisease, dtype: int64\n",
      "\n",
      "Percentages:\n",
      "No: 91.44045404086994\n",
      "Yes: 8.559545959130068\n"
     ]
    },
    {
     "data": {
      "text/plain": "<Figure size 432x288 with 1 Axes>",
      "image/png": "[encoded data removed]"
     },
     "metadata": {},
     "output_type": "display_data"
    }
   ],
   "source": [
    "# First look at the data\n",
    "display(heart_dataset.index)\n",
    "display(heart_dataset.dtypes)\n",
    "display(heart_dataset.head())\n",
    "display(heart_dataset.describe(include='all'))\n",
    "display(heart_dataset_preprocessed.corr())\n",
    "\n",
    "# Check for NaN values\n",
    "for column in heart_dataset.columns:\n",
    "    print(\"{}: {} NaN values\".format(column, heart_dataset[column].isna().sum()))\n",
    "\n",
    "# Value partition\n",
    "# TODO improve/beautify\n",
    "print(heart_dataset_preprocessed['HeartDisease'].value_counts())\n",
    "print(\"\\nPercentages:\")\n",
    "print(\"No:\",\n",
    "      heart_dataset_preprocessed['HeartDisease'].value_counts()['No']/\n",
    "      heart_dataset_preprocessed['HeartDisease'].size*100)\n",
    "print(\"Yes:\",\n",
    "      heart_dataset_preprocessed['HeartDisease'].value_counts()['Yes']/\n",
    "      heart_dataset_preprocessed['HeartDisease'].size*100)\n",
    "plt.hist(heart_dataset_preprocessed['HeartDisease'])\n",
    "plt.show()"
   ]
  },
  {
   "cell_type": "markdown",
   "metadata": {},
   "source": [
    "**Conclusion**\n",
    "\n",
    "- Numerical values: BMI, PhysicalHealth, MentalHealth, SleepTime\n",
    "- None numerical values: HeartDisease(target), Smoking, AlcoholDrinking, Stroke, DiffWalking, Sex, AgeCategory, Race, Diabetic, PhysicalActivity, GenHealth, Asthma, KidneyDisease and SkinCancer\n",
    "- HeartDisease column (target) has two distinct values: Yes and No\n",
    "- No missing values\n",
    "- The dataset is very unbalanced"
   ]
  },
  {
   "cell_type": "markdown",
   "source": [
    "## Preprocessing of the target variable\n",
    "\n",
    "HeartDisease column has two distinct values and is the target variable, so we can use the LabelEncoder for preprocessing."
   ],
   "metadata": {
    "collapsed": false
   }
  },
  {
   "cell_type": "code",
   "execution_count": 50,
   "outputs": [
    {
     "data": {
      "text/plain": "0     No\n1     No\n2     No\n3     No\n4     No\n5    Yes\n6     No\n7     No\n8     No\n9     No\nName: HeartDisease, dtype: object"
     },
     "metadata": {},
     "output_type": "display_data"
    },
    {
     "data": {
      "text/plain": "0    0\n1    0\n2    0\n3    0\n4    0\n5    1\n6    0\n7    0\n8    0\n9    0\nName: HeartDisease, dtype: int64"
     },
     "metadata": {},
     "output_type": "display_data"
    }
   ],
   "source": [
    "label_encoder = preprocessing.LabelEncoder()\n",
    "heart_dataset_preprocessed['HeartDisease'] = label_encoder.fit_transform(heart_dataset['HeartDisease'])\n",
    "display(heart_dataset['HeartDisease'][0:10])\n",
    "display(heart_dataset_preprocessed['HeartDisease'][0:10])"
   ],
   "metadata": {
    "collapsed": false
   }
  },
  {
   "cell_type": "markdown",
   "metadata": {},
   "source": [
    "## Preprocessing of numerical features"
   ]
  },
  {
   "cell_type": "code",
   "execution_count": 51,
   "outputs": [],
   "source": [
    "# List all numerical features\n",
    "numerical_features = [\"BMI\", \"PhysicalHealth\", \"MentalHealth\", \"SleepTime\"]"
   ],
   "metadata": {
    "collapsed": false
   }
  },
  {
   "cell_type": "markdown",
   "source": [
    "Numerical features need to be normalized. We are using the common min-max normalization method to convert the data into a scale ranging from 0 to 1.\n",
    "\n"
   ],
   "metadata": {
    "collapsed": false
   }
  },
  {
   "cell_type": "code",
   "execution_count": 52,
   "outputs": [
    {
     "data": {
      "text/plain": "                 BMI  PhysicalHealth   MentalHealth      SleepTime\ncount  319795.000000   319795.000000  319795.000000  319795.000000\nmean        0.196854        0.112390       0.129946       0.265090\nstd         0.076737        0.265028       0.265175       0.062435\nmin         0.000000        0.000000       0.000000       0.000000\n25%         0.144996        0.000000       0.000000       0.217391\n50%         0.184957        0.000000       0.000000       0.260870\n75%         0.234215        0.066667       0.100000       0.304348\nmax         1.000000        1.000000       1.000000       1.000000",
      "text/html": "<div>\n<style scoped>\n    .dataframe tbody tr th:only-of-type {\n        vertical-align: middle;\n    }\n\n    .dataframe tbody tr th {\n        vertical-align: top;\n    }\n\n    .dataframe thead th {\n        text-align: right;\n    }\n</style>\n<table border=\"1\" class=\"dataframe\">\n  <thead>\n    <tr style=\"text-align: right;\">\n      <th></th>\n      <th>BMI</th>\n      <th>PhysicalHealth</th>\n      <th>MentalHealth</th>\n      <th>SleepTime</th>\n    </tr>\n  </thead>\n  <tbody>\n    <tr>\n      <th>count</th>\n      <td>319795.000000</td>\n      <td>319795.000000</td>\n      <td>319795.000000</td>\n      <td>319795.000000</td>\n    </tr>\n    <tr>\n      <th>mean</th>\n      <td>0.196854</td>\n      <td>0.112390</td>\n      <td>0.129946</td>\n      <td>0.265090</td>\n    </tr>\n    <tr>\n      <th>std</th>\n      <td>0.076737</td>\n      <td>0.265028</td>\n      <td>0.265175</td>\n      <td>0.062435</td>\n    </tr>\n    <tr>\n      <th>min</th>\n      <td>0.000000</td>\n      <td>0.000000</td>\n      <td>0.000000</td>\n      <td>0.000000</td>\n    </tr>\n    <tr>\n      <th>25%</th>\n      <td>0.144996</td>\n      <td>0.000000</td>\n      <td>0.000000</td>\n      <td>0.217391</td>\n    </tr>\n    <tr>\n      <th>50%</th>\n      <td>0.184957</td>\n      <td>0.000000</td>\n      <td>0.000000</td>\n      <td>0.260870</td>\n    </tr>\n    <tr>\n      <th>75%</th>\n      <td>0.234215</td>\n      <td>0.066667</td>\n      <td>0.100000</td>\n      <td>0.304348</td>\n    </tr>\n    <tr>\n      <th>max</th>\n      <td>1.000000</td>\n      <td>1.000000</td>\n      <td>1.000000</td>\n      <td>1.000000</td>\n    </tr>\n  </tbody>\n</table>\n</div>"
     },
     "metadata": {},
     "output_type": "display_data"
    }
   ],
   "source": [
    "# Use MinMaxScaler to normalize numerical data, as some data isn't normally distributed\n",
    "scaler = preprocessing.MinMaxScaler()\n",
    "heart_dataset_preprocessed[numerical_features] = scaler.fit_transform(heart_dataset_preprocessed[numerical_features])\n",
    "\n",
    "# Quick overview of normalized features\n",
    "display(heart_dataset_preprocessed[numerical_features].describe())"
   ],
   "metadata": {
    "collapsed": false
   }
  },
  {
   "cell_type": "markdown",
   "metadata": {},
   "source": [
    "## Preprocessing of the none numerical features"
   ]
  },
  {
   "cell_type": "code",
   "execution_count": 53,
   "outputs": [],
   "source": [
    "# List all non-numerical features\n",
    "none_numerical_features = ['Smoking', 'AlcoholDrinking', 'Stroke', 'DiffWalking', 'Sex', 'AgeCategory', 'Race',\n",
    "                           'Diabetic', 'PhysicalActivity', 'GenHealth', 'Asthma', 'KidneyDisease', 'SkinCancer']"
   ],
   "metadata": {
    "collapsed": false
   }
  },
  {
   "cell_type": "markdown",
   "source": [
    "Next we need to look whether the none numerical features are nominal, ordinal or binary, to choose the right encoder. For this we will look at the unique values of each column and then decide."
   ],
   "metadata": {
    "collapsed": false
   }
  },
  {
   "cell_type": "code",
   "execution_count": 54,
   "metadata": {},
   "outputs": [
    {
     "name": "stdout",
     "output_type": "stream",
     "text": [
      "Smoking: ['Yes' 'No']\n",
      "AlcoholDrinking: ['No' 'Yes']\n",
      "Stroke: ['No' 'Yes']\n",
      "DiffWalking: ['No' 'Yes']\n",
      "Sex: ['Female' 'Male']\n",
      "AgeCategory: ['55-59' '80 or older' '65-69' '75-79' '40-44' '70-74' '60-64' '50-54'\n",
      " '45-49' '18-24' '35-39' '30-34' '25-29']\n",
      "Race: ['White' 'Black' 'Asian' 'American Indian/Alaskan Native' 'Other'\n",
      " 'Hispanic']\n",
      "Diabetic: ['Yes' 'No' 'No, borderline diabetes' 'Yes (during pregnancy)']\n",
      "PhysicalActivity: ['Yes' 'No']\n",
      "GenHealth: ['Very good' 'Fair' 'Good' 'Poor' 'Excellent']\n",
      "Asthma: ['Yes' 'No']\n",
      "KidneyDisease: ['No' 'Yes']\n",
      "SkinCancer: ['Yes' 'No']\n"
     ]
    }
   ],
   "source": [
    "for feature in none_numerical_features:\n",
    "    print(feature + \":\", heart_dataset_preprocessed[feature].unique())"
   ]
  },
  {
   "cell_type": "markdown",
   "metadata": {},
   "source": [
    "**Conclusion:**\n",
    "\n",
    "Nominal features: Race\n",
    "\n",
    "Ordinal features:\n",
    "- AgeCategory: Age has a natural order from low to high\n",
    "- GenHealth: Has a natural order from poor to excellent\n",
    "- Diabetic: Yes is more severe than Yes (during pregnancy) more severe than No, borderline diabetes more severe than Yes\n",
    "\n",
    "Binary features: Smoking, AlcoholDrinking, Stroke, DiffWalking, Sex, PhysicalActivity, Asthma, KidneyDisease, SkinCancer"
   ]
  },
  {
   "cell_type": "markdown",
   "metadata": {},
   "source": [
    "### Encoding ordinal features\n",
    "Ordinal features have a specific order, so we have to make sure that we encode the features according to that order. For this reason we can't use the sklearn OrdinalEncoder because this encoder uses the alphabetical order which does not fit with our features´ order. That's why we will use a dictionary to define our desired order and apply that order to our features with the pandas .map() function. https://towardsdatascience.com/categorical-encoding-techniques-93ebd18e1f24"
   ]
  },
  {
   "cell_type": "markdown",
   "metadata": {},
   "source": [
    "#### Diabetic (as ordinal feature, ordered by severity)\n",
    "\n",
    "Diabetic status may be considered ordinal, as the different states express different severity e.g. only temporarily during pregnancy, having almost diabetic may be viewed as less healthy"
   ]
  },
  {
   "cell_type": "code",
   "execution_count": 55,
   "metadata": {},
   "outputs": [
    {
     "data": {
      "text/plain": "array([1.        , 0.        , 0.66666667, 0.33333333])"
     },
     "execution_count": 55,
     "metadata": {},
     "output_type": "execute_result"
    }
   ],
   "source": [
    "# Create dictionary of ordinal to integer mapping\n",
    "diabetic_order = {'No': 0,\n",
    "                 'Yes (during pregnancy)': 1/3,\n",
    "                 'No, borderline diabetes': 2/3,\n",
    "                 'Yes': 1}\n",
    "\n",
    "# Apply using map\n",
    "heart_dataset_preprocessed['Diabetic'] = heart_dataset['Diabetic'].map(diabetic_order)\n",
    "heart_dataset_preprocessed['Diabetic'].unique()"
   ]
  },
  {
   "cell_type": "markdown",
   "metadata": {},
   "source": [
    "#### AgeCategory"
   ]
  },
  {
   "cell_type": "code",
   "execution_count": 56,
   "metadata": {},
   "outputs": [
    {
     "data": {
      "text/plain": "0         57\n1         90\n2         67\n3         77\n4         42\n          ..\n319790    62\n319791    37\n319792    47\n319793    27\n319794    90\nName: AgeCategory, Length: 319795, dtype: int64"
     },
     "execution_count": 56,
     "metadata": {},
     "output_type": "execute_result"
    }
   ],
   "source": [
    "# Create dictionary of ordinal to integer mapping\n",
    "age_category_order = {'18-24':0,\n",
    "                      '25-29':1/12,\n",
    "                      '30-34':2/12,\n",
    "                      '35-39':3/12,\n",
    "                      '40-44':4/12,\n",
    "                      '45-49':5/12,\n",
    "                      '50-54':6/12,\n",
    "                      '55-59':7/12,\n",
    "                      '60-64':8/12,\n",
    "                      '65-69':9/12,\n",
    "                      '70-74':10/12,\n",
    "                      '75-79':11/12,\n",
    "                      '80 or older':1}\n",
    "\n",
    "# Using the average of age groups is a standard procedure in econometric literature\n",
    "# when dealing with age groups (assuming people are getting 110 years old max, but not many \n",
    "# so assuming on average 90 years in that age group)\n",
    "age_category_order = {'18-24': {'avg': 21, 'min': 18, 'max': 24},\n",
    "                      '25-29': {'avg': 27, 'min': 25, 'max': 29},\n",
    "                      '30-34': {'avg': 32, 'min': 30, 'max': 34}, \n",
    "                     '35-39': {'avg': 37, 'min': 35, 'max': 39},\n",
    "                      '40-44': {'avg': 42, 'min': 40, 'max': 44},\n",
    "                      '45-49': {'avg': 47, 'min': 45, 'max': 49}, \n",
    "                     '50-54': {'avg': 52, 'min': 50, 'max': 54},\n",
    "                      '55-59': {'avg': 57, 'min': 55, 'max': 59},\n",
    "                      '60-64': {'avg': 62, 'min': 60, 'max': 64},\n",
    "                     '65-69': {'avg': 67, 'min': 65, 'max': 69},\n",
    "                      '70-74': {'avg': 72, 'min': 70, 'max': 74}, \n",
    "                     '75-79': {'avg': 77, 'min': 75, 'max': 79},\n",
    "                      '80 or older': {'avg': 90, 'min': 80, 'max': 110}}\n",
    "\n",
    "# Get average of every age group\n",
    "get_avg = lambda x : age_category_order.get(x).get('avg')\n",
    "\n",
    "# Apply using map or apply\n",
    "#heart_dataset_preprocessed['AgeCategory'] = heart_dataset['AgeCategory'].map(age_category_order)\n",
    "heart_dataset_preprocessed['AgeCategory'] = heart_dataset['AgeCategory'].apply(get_avg)\n",
    "heart_dataset_preprocessed['AgeCategory']"
   ]
  },
  {
   "cell_type": "markdown",
   "metadata": {},
   "source": [
    "#### GenHealth"
   ]
  },
  {
   "cell_type": "code",
   "execution_count": 57,
   "metadata": {},
   "outputs": [
    {
     "data": {
      "text/plain": "0         0.75\n1         0.75\n2         0.25\n3         0.50\n4         0.75\n          ... \n319790    0.25\n319791    0.75\n319792    0.50\n319793    0.50\n319794    0.50\nName: GenHealth, Length: 319795, dtype: float64"
     },
     "execution_count": 57,
     "metadata": {},
     "output_type": "execute_result"
    }
   ],
   "source": [
    "# Create dictionary of ordinal to integer mapping\n",
    "gen_health_order = {'Poor':0,\n",
    "                    'Fair':1/4,\n",
    "                    'Good':2/4,\n",
    "                    'Very good':3/4,\n",
    "                    'Excellent':1}\n",
    "\n",
    "# Apply using map\n",
    "heart_dataset_preprocessed['GenHealth'] = heart_dataset['GenHealth'].map(gen_health_order)\n",
    "heart_dataset_preprocessed['GenHealth']"
   ]
  },
  {
   "cell_type": "markdown",
   "metadata": {},
   "source": [
    "### Encoding nominal features\n",
    "Nominal features have no order, so we will use a one-hot-encoder for those features."
   ]
  },
  {
   "cell_type": "code",
   "execution_count": 58,
   "metadata": {},
   "outputs": [
    {
     "data": {
      "text/plain": "        Race_American Indian/Alaskan Native  Race_Asian  Race_Black  \\\n0                                       0.0         0.0         0.0   \n1                                       0.0         0.0         0.0   \n2                                       0.0         0.0         0.0   \n3                                       0.0         0.0         0.0   \n4                                       0.0         0.0         0.0   \n...                                     ...         ...         ...   \n319790                                  0.0         0.0         0.0   \n319791                                  0.0         0.0         0.0   \n319792                                  0.0         0.0         0.0   \n319793                                  0.0         0.0         0.0   \n319794                                  0.0         0.0         0.0   \n\n        Race_Hispanic  Race_Other  Race_White  \n0                 0.0         0.0         1.0  \n1                 0.0         0.0         1.0  \n2                 0.0         0.0         1.0  \n3                 0.0         0.0         1.0  \n4                 0.0         0.0         1.0  \n...               ...         ...         ...  \n319790            1.0         0.0         0.0  \n319791            1.0         0.0         0.0  \n319792            1.0         0.0         0.0  \n319793            1.0         0.0         0.0  \n319794            1.0         0.0         0.0  \n\n[319795 rows x 6 columns]",
      "text/html": "<div>\n<style scoped>\n    .dataframe tbody tr th:only-of-type {\n        vertical-align: middle;\n    }\n\n    .dataframe tbody tr th {\n        vertical-align: top;\n    }\n\n    .dataframe thead th {\n        text-align: right;\n    }\n</style>\n<table border=\"1\" class=\"dataframe\">\n  <thead>\n    <tr style=\"text-align: right;\">\n      <th></th>\n      <th>Race_American Indian/Alaskan Native</th>\n      <th>Race_Asian</th>\n      <th>Race_Black</th>\n      <th>Race_Hispanic</th>\n      <th>Race_Other</th>\n      <th>Race_White</th>\n    </tr>\n  </thead>\n  <tbody>\n    <tr>\n      <th>0</th>\n      <td>0.0</td>\n      <td>0.0</td>\n      <td>0.0</td>\n      <td>0.0</td>\n      <td>0.0</td>\n      <td>1.0</td>\n    </tr>\n    <tr>\n      <th>1</th>\n      <td>0.0</td>\n      <td>0.0</td>\n      <td>0.0</td>\n      <td>0.0</td>\n      <td>0.0</td>\n      <td>1.0</td>\n    </tr>\n    <tr>\n      <th>2</th>\n      <td>0.0</td>\n      <td>0.0</td>\n      <td>0.0</td>\n      <td>0.0</td>\n      <td>0.0</td>\n      <td>1.0</td>\n    </tr>\n    <tr>\n      <th>3</th>\n      <td>0.0</td>\n      <td>0.0</td>\n      <td>0.0</td>\n      <td>0.0</td>\n      <td>0.0</td>\n      <td>1.0</td>\n    </tr>\n    <tr>\n      <th>4</th>\n      <td>0.0</td>\n      <td>0.0</td>\n      <td>0.0</td>\n      <td>0.0</td>\n      <td>0.0</td>\n      <td>1.0</td>\n    </tr>\n    <tr>\n      <th>...</th>\n      <td>...</td>\n      <td>...</td>\n      <td>...</td>\n      <td>...</td>\n      <td>...</td>\n      <td>...</td>\n    </tr>\n    <tr>\n      <th>319790</th>\n      <td>0.0</td>\n      <td>0.0</td>\n      <td>0.0</td>\n      <td>1.0</td>\n      <td>0.0</td>\n      <td>0.0</td>\n    </tr>\n    <tr>\n      <th>319791</th>\n      <td>0.0</td>\n      <td>0.0</td>\n      <td>0.0</td>\n      <td>1.0</td>\n      <td>0.0</td>\n      <td>0.0</td>\n    </tr>\n    <tr>\n      <th>319792</th>\n      <td>0.0</td>\n      <td>0.0</td>\n      <td>0.0</td>\n      <td>1.0</td>\n      <td>0.0</td>\n      <td>0.0</td>\n    </tr>\n    <tr>\n      <th>319793</th>\n      <td>0.0</td>\n      <td>0.0</td>\n      <td>0.0</td>\n      <td>1.0</td>\n      <td>0.0</td>\n      <td>0.0</td>\n    </tr>\n    <tr>\n      <th>319794</th>\n      <td>0.0</td>\n      <td>0.0</td>\n      <td>0.0</td>\n      <td>1.0</td>\n      <td>0.0</td>\n      <td>0.0</td>\n    </tr>\n  </tbody>\n</table>\n<p>319795 rows × 6 columns</p>\n</div>"
     },
     "execution_count": 58,
     "metadata": {},
     "output_type": "execute_result"
    }
   ],
   "source": [
    "nominal_features = ['Race']\n",
    "\n",
    "# Encoding\n",
    "one_hot_encoder = preprocessing.OneHotEncoder()\n",
    "one_hot_encoded = pd.DataFrame(one_hot_encoder.fit_transform(heart_dataset[nominal_features]).toarray(),\n",
    "                               columns=one_hot_encoder.get_feature_names_out(nominal_features))\n",
    "# Joining\n",
    "heart_dataset_preprocessed = heart_dataset_preprocessed.drop(columns=nominal_features)\n",
    "heart_dataset_preprocessed = heart_dataset_preprocessed.join(one_hot_encoded)\n",
    "heart_dataset_preprocessed[one_hot_encoder.get_feature_names_out(nominal_features)]"
   ]
  },
  {
   "cell_type": "markdown",
   "metadata": {},
   "source": [
    "### Encoding binary features\n",
    "For binary features we want to encode them with 0 and 1, but we have to make sure that we always use the same number for the same value. For example 1 for yes and 0 for no."
   ]
  },
  {
   "cell_type": "markdown",
   "metadata": {},
   "source": [
    "#### Yes/No Features"
   ]
  },
  {
   "cell_type": "code",
   "execution_count": 59,
   "metadata": {},
   "outputs": [
    {
     "data": {
      "text/plain": "        Smoking  AlcoholDrinking  Stroke  DiffWalking  PhysicalActivity  \\\n0             1                0       0            0                 1   \n1             0                0       1            0                 1   \n2             1                0       0            0                 1   \n3             0                0       0            0                 0   \n4             0                0       0            1                 1   \n...         ...              ...     ...          ...               ...   \n319790        1                0       0            1                 0   \n319791        1                0       0            0                 1   \n319792        0                0       0            0                 1   \n319793        0                0       0            0                 0   \n319794        0                0       0            0                 1   \n\n        Asthma  KidneyDisease  SkinCancer  \n0            1              0           1  \n1            0              0           0  \n2            1              0           0  \n3            0              0           1  \n4            0              0           0  \n...        ...            ...         ...  \n319790       1              0           0  \n319791       1              0           0  \n319792       0              0           0  \n319793       0              0           0  \n319794       0              0           0  \n\n[319795 rows x 8 columns]",
      "text/html": "<div>\n<style scoped>\n    .dataframe tbody tr th:only-of-type {\n        vertical-align: middle;\n    }\n\n    .dataframe tbody tr th {\n        vertical-align: top;\n    }\n\n    .dataframe thead th {\n        text-align: right;\n    }\n</style>\n<table border=\"1\" class=\"dataframe\">\n  <thead>\n    <tr style=\"text-align: right;\">\n      <th></th>\n      <th>Smoking</th>\n      <th>AlcoholDrinking</th>\n      <th>Stroke</th>\n      <th>DiffWalking</th>\n      <th>PhysicalActivity</th>\n      <th>Asthma</th>\n      <th>KidneyDisease</th>\n      <th>SkinCancer</th>\n    </tr>\n  </thead>\n  <tbody>\n    <tr>\n      <th>0</th>\n      <td>1</td>\n      <td>0</td>\n      <td>0</td>\n      <td>0</td>\n      <td>1</td>\n      <td>1</td>\n      <td>0</td>\n      <td>1</td>\n    </tr>\n    <tr>\n      <th>1</th>\n      <td>0</td>\n      <td>0</td>\n      <td>1</td>\n      <td>0</td>\n      <td>1</td>\n      <td>0</td>\n      <td>0</td>\n      <td>0</td>\n    </tr>\n    <tr>\n      <th>2</th>\n      <td>1</td>\n      <td>0</td>\n      <td>0</td>\n      <td>0</td>\n      <td>1</td>\n      <td>1</td>\n      <td>0</td>\n      <td>0</td>\n    </tr>\n    <tr>\n      <th>3</th>\n      <td>0</td>\n      <td>0</td>\n      <td>0</td>\n      <td>0</td>\n      <td>0</td>\n      <td>0</td>\n      <td>0</td>\n      <td>1</td>\n    </tr>\n    <tr>\n      <th>4</th>\n      <td>0</td>\n      <td>0</td>\n      <td>0</td>\n      <td>1</td>\n      <td>1</td>\n      <td>0</td>\n      <td>0</td>\n      <td>0</td>\n    </tr>\n    <tr>\n      <th>...</th>\n      <td>...</td>\n      <td>...</td>\n      <td>...</td>\n      <td>...</td>\n      <td>...</td>\n      <td>...</td>\n      <td>...</td>\n      <td>...</td>\n    </tr>\n    <tr>\n      <th>319790</th>\n      <td>1</td>\n      <td>0</td>\n      <td>0</td>\n      <td>1</td>\n      <td>0</td>\n      <td>1</td>\n      <td>0</td>\n      <td>0</td>\n    </tr>\n    <tr>\n      <th>319791</th>\n      <td>1</td>\n      <td>0</td>\n      <td>0</td>\n      <td>0</td>\n      <td>1</td>\n      <td>1</td>\n      <td>0</td>\n      <td>0</td>\n    </tr>\n    <tr>\n      <th>319792</th>\n      <td>0</td>\n      <td>0</td>\n      <td>0</td>\n      <td>0</td>\n      <td>1</td>\n      <td>0</td>\n      <td>0</td>\n      <td>0</td>\n    </tr>\n    <tr>\n      <th>319793</th>\n      <td>0</td>\n      <td>0</td>\n      <td>0</td>\n      <td>0</td>\n      <td>0</td>\n      <td>0</td>\n      <td>0</td>\n      <td>0</td>\n    </tr>\n    <tr>\n      <th>319794</th>\n      <td>0</td>\n      <td>0</td>\n      <td>0</td>\n      <td>0</td>\n      <td>1</td>\n      <td>0</td>\n      <td>0</td>\n      <td>0</td>\n    </tr>\n  </tbody>\n</table>\n<p>319795 rows × 8 columns</p>\n</div>"
     },
     "execution_count": 59,
     "metadata": {},
     "output_type": "execute_result"
    }
   ],
   "source": [
    "yes_no_features = ['Smoking', 'AlcoholDrinking', 'Stroke', 'DiffWalking', 'PhysicalActivity', 'Asthma',\n",
    "                   'KidneyDisease', 'SkinCancer']\n",
    "\n",
    "# Encode yes/no features\n",
    "for feature in yes_no_features:\n",
    "    heart_dataset_preprocessed[feature] = heart_dataset[feature].replace({'Yes':1, 'No':0})\n",
    "    \n",
    "heart_dataset_preprocessed[yes_no_features]"
   ]
  },
  {
   "cell_type": "markdown",
   "metadata": {},
   "source": [
    "#### Sex"
   ]
  },
  {
   "cell_type": "code",
   "execution_count": 60,
   "metadata": {},
   "outputs": [
    {
     "data": {
      "text/plain": "0         1\n1         1\n2         0\n3         1\n4         1\n         ..\n319790    0\n319791    0\n319792    1\n319793    1\n319794    1\nName: Sex, Length: 319795, dtype: int64"
     },
     "execution_count": 60,
     "metadata": {},
     "output_type": "execute_result"
    }
   ],
   "source": [
    "# Encode Sex feature\n",
    "heart_dataset_preprocessed['Sex'] = heart_dataset['Sex'].replace({'Female':1, 'Male':0})\n",
    "heart_dataset_preprocessed['Sex']"
   ]
  },
  {
   "cell_type": "code",
   "execution_count": 61,
   "metadata": {
    "scrolled": true
   },
   "outputs": [
    {
     "data": {
      "text/plain": "Index(['HeartDisease', 'BMI', 'Smoking', 'AlcoholDrinking', 'Stroke',\n       'PhysicalHealth', 'MentalHealth', 'DiffWalking', 'Sex', 'AgeCategory',\n       'Diabetic', 'PhysicalActivity', 'GenHealth', 'SleepTime', 'Asthma',\n       'KidneyDisease', 'SkinCancer', 'Race_American Indian/Alaskan Native',\n       'Race_Asian', 'Race_Black', 'Race_Hispanic', 'Race_Other',\n       'Race_White'],\n      dtype='object')"
     },
     "metadata": {},
     "output_type": "display_data"
    },
    {
     "data": {
      "text/plain": "   HeartDisease       BMI  Smoking  AlcoholDrinking  Stroke  PhysicalHealth  \\\n0             0  0.055294        1                0       0        0.100000   \n1             0  0.100447        0                0       1        0.000000   \n2             0  0.175782        1                0       0        0.666667   \n3             0  0.147169        0                0       0        0.000000   \n4             0  0.141132        0                0       0        0.933333   \n\n   MentalHealth  DiffWalking  Sex  AgeCategory  ...  SleepTime  Asthma  \\\n0           1.0            0    1           57  ...   0.173913       1   \n1           0.0            0    1           90  ...   0.260870       0   \n2           1.0            0    0           67  ...   0.304348       1   \n3           0.0            0    1           77  ...   0.217391       0   \n4           0.0            1    1           42  ...   0.304348       0   \n\n   KidneyDisease  SkinCancer  Race_American Indian/Alaskan Native  Race_Asian  \\\n0              0           1                                  0.0         0.0   \n1              0           0                                  0.0         0.0   \n2              0           0                                  0.0         0.0   \n3              0           1                                  0.0         0.0   \n4              0           0                                  0.0         0.0   \n\n   Race_Black  Race_Hispanic  Race_Other  Race_White  \n0         0.0            0.0         0.0         1.0  \n1         0.0            0.0         0.0         1.0  \n2         0.0            0.0         0.0         1.0  \n3         0.0            0.0         0.0         1.0  \n4         0.0            0.0         0.0         1.0  \n\n[5 rows x 23 columns]",
      "text/html": "<div>\n<style scoped>\n    .dataframe tbody tr th:only-of-type {\n        vertical-align: middle;\n    }\n\n    .dataframe tbody tr th {\n        vertical-align: top;\n    }\n\n    .dataframe thead th {\n        text-align: right;\n    }\n</style>\n<table border=\"1\" class=\"dataframe\">\n  <thead>\n    <tr style=\"text-align: right;\">\n      <th></th>\n      <th>HeartDisease</th>\n      <th>BMI</th>\n      <th>Smoking</th>\n      <th>AlcoholDrinking</th>\n      <th>Stroke</th>\n      <th>PhysicalHealth</th>\n      <th>MentalHealth</th>\n      <th>DiffWalking</th>\n      <th>Sex</th>\n      <th>AgeCategory</th>\n      <th>...</th>\n      <th>SleepTime</th>\n      <th>Asthma</th>\n      <th>KidneyDisease</th>\n      <th>SkinCancer</th>\n      <th>Race_American Indian/Alaskan Native</th>\n      <th>Race_Asian</th>\n      <th>Race_Black</th>\n      <th>Race_Hispanic</th>\n      <th>Race_Other</th>\n      <th>Race_White</th>\n    </tr>\n  </thead>\n  <tbody>\n    <tr>\n      <th>0</th>\n      <td>0</td>\n      <td>0.055294</td>\n      <td>1</td>\n      <td>0</td>\n      <td>0</td>\n      <td>0.100000</td>\n      <td>1.0</td>\n      <td>0</td>\n      <td>1</td>\n      <td>57</td>\n      <td>...</td>\n      <td>0.173913</td>\n      <td>1</td>\n      <td>0</td>\n      <td>1</td>\n      <td>0.0</td>\n      <td>0.0</td>\n      <td>0.0</td>\n      <td>0.0</td>\n      <td>0.0</td>\n      <td>1.0</td>\n    </tr>\n    <tr>\n      <th>1</th>\n      <td>0</td>\n      <td>0.100447</td>\n      <td>0</td>\n      <td>0</td>\n      <td>1</td>\n      <td>0.000000</td>\n      <td>0.0</td>\n      <td>0</td>\n      <td>1</td>\n      <td>90</td>\n      <td>...</td>\n      <td>0.260870</td>\n      <td>0</td>\n      <td>0</td>\n      <td>0</td>\n      <td>0.0</td>\n      <td>0.0</td>\n      <td>0.0</td>\n      <td>0.0</td>\n      <td>0.0</td>\n      <td>1.0</td>\n    </tr>\n    <tr>\n      <th>2</th>\n      <td>0</td>\n      <td>0.175782</td>\n      <td>1</td>\n      <td>0</td>\n      <td>0</td>\n      <td>0.666667</td>\n      <td>1.0</td>\n      <td>0</td>\n      <td>0</td>\n      <td>67</td>\n      <td>...</td>\n      <td>0.304348</td>\n      <td>1</td>\n      <td>0</td>\n      <td>0</td>\n      <td>0.0</td>\n      <td>0.0</td>\n      <td>0.0</td>\n      <td>0.0</td>\n      <td>0.0</td>\n      <td>1.0</td>\n    </tr>\n    <tr>\n      <th>3</th>\n      <td>0</td>\n      <td>0.147169</td>\n      <td>0</td>\n      <td>0</td>\n      <td>0</td>\n      <td>0.000000</td>\n      <td>0.0</td>\n      <td>0</td>\n      <td>1</td>\n      <td>77</td>\n      <td>...</td>\n      <td>0.217391</td>\n      <td>0</td>\n      <td>0</td>\n      <td>1</td>\n      <td>0.0</td>\n      <td>0.0</td>\n      <td>0.0</td>\n      <td>0.0</td>\n      <td>0.0</td>\n      <td>1.0</td>\n    </tr>\n    <tr>\n      <th>4</th>\n      <td>0</td>\n      <td>0.141132</td>\n      <td>0</td>\n      <td>0</td>\n      <td>0</td>\n      <td>0.933333</td>\n      <td>0.0</td>\n      <td>1</td>\n      <td>1</td>\n      <td>42</td>\n      <td>...</td>\n      <td>0.304348</td>\n      <td>0</td>\n      <td>0</td>\n      <td>0</td>\n      <td>0.0</td>\n      <td>0.0</td>\n      <td>0.0</td>\n      <td>0.0</td>\n      <td>0.0</td>\n      <td>1.0</td>\n    </tr>\n  </tbody>\n</table>\n<p>5 rows × 23 columns</p>\n</div>"
     },
     "metadata": {},
     "output_type": "display_data"
    }
   ],
   "source": [
    "# Quick overview of the encoded data\n",
    "display(heart_dataset_preprocessed.columns)\n",
    "display(heart_dataset_preprocessed.head())"
   ]
  },
  {
   "cell_type": "markdown",
   "source": [
    "## Clustering\n",
    "\n",
    "We want to find out if it is beneficial to cluster the data in preprocessing. For this we apply the TSNE method."
   ],
   "metadata": {
    "collapsed": false
   }
  },
  {
   "cell_type": "code",
   "execution_count": null,
   "outputs": [
    {
     "name": "stderr",
     "output_type": "stream",
     "text": [
      "/Users/benediktluth/opt/anaconda3/lib/python3.9/site-packages/sklearn/manifold/_t_sne.py:982: FutureWarning: The PCA initialization in TSNE will change to have the standard deviation of PC1 equal to 1e-4 in 1.2. This will ensure better convergence.\n",
      "  warnings.warn(\n",
      "/Users/benediktluth/opt/anaconda3/lib/python3.9/site-packages/sklearn/manifold/_t_sne.py:982: FutureWarning: The PCA initialization in TSNE will change to have the standard deviation of PC1 equal to 1e-4 in 1.2. This will ensure better convergence.\n",
      "  warnings.warn(\n",
      "/Users/benediktluth/opt/anaconda3/lib/python3.9/site-packages/sklearn/manifold/_t_sne.py:982: FutureWarning: The PCA initialization in TSNE will change to have the standard deviation of PC1 equal to 1e-4 in 1.2. This will ensure better convergence.\n",
      "  warnings.warn(\n"
     ]
    }
   ],
   "source": [
    "clustering_model_columns = list(set(heart_dataset_preprocessed.columns) - set(['Race_Other', 'AgeCategory']))\n",
    "X = heart_dataset_preprocessed[clustering_model_columns].sample(n=5000, random_state=42).dropna()\n",
    "X_cluster = X.drop(columns=['HeartDisease'])\n",
    "\n",
    "perplexity_ls = [1, 2, 5, 10, 15, 20, 30, 50]\n",
    "\n",
    "for perplexity in perplexity_ls:\n",
    "    tsne = TSNE(n_components=2, learning_rate=5,\n",
    "                init='pca', perplexity=perplexity, random_state=42, n_iter=3000, n_jobs=-1)\n",
    "    X_tsne_embedded = tsne.fit_transform(X_cluster)\n",
    "\n",
    "    X_tsne_embedded_concat = pd.merge(X, pd.DataFrame(X_tsne_embedded), left_index=True, right_index=True)\n",
    "\n",
    "    fig, ax = plt.subplots(figsize=(10, 10))\n",
    "\n",
    "    heart_disease_ls = [1, 0]\n",
    "    for has_heart_disease in heart_disease_ls:\n",
    "        points_to_plot = X_tsne_embedded_concat.loc[X_tsne_embedded_concat[\"HeartDisease\"] == has_heart_disease, :]\n",
    "        plt.scatter(y=points_to_plot[0], x=points_to_plot[1], label=str(has_heart_disease))\n",
    "        plt.suptitle(\"perplexity: {}\".format(perplexity))\n",
    "    plt.legend()\n",
    "    plt.savefig('tsne_perplexity_{}.png'.format(perplexity))\n",
    "\n",
    "X_tsne_embedded_concat.head()"
   ],
   "metadata": {
    "collapsed": false,
    "pycharm": {
     "is_executing": true
    }
   }
  },
  {
   "cell_type": "markdown",
   "source": [
    "**Conclusion**\n",
    "\n",
    "TSNE results show that a clustering is not beneficial."
   ],
   "metadata": {
    "collapsed": false
   }
  },
  {
   "cell_type": "markdown",
   "source": [
    "## Visualization\n",
    "\n",
    "In the next section, we look at the preprocessed data from different angles. The goal is to determine how the features relate to each other and to the target variable."
   ],
   "metadata": {
    "collapsed": false
   }
  },
  {
   "cell_type": "code",
   "execution_count": null,
   "outputs": [],
   "source": [
    "# Plot distribution of numerical features, grouped by class\n",
    "figure_distribution = plt.figure(figsize=(15, 8))\n",
    "\n",
    "figure_index = 1\n",
    "# Boxplot\n",
    "for current_feature in numerical_features:\n",
    "    ax = figure_distribution.add_subplot(2, 4, figure_index)\n",
    "    heart_dataset_preprocessed.boxplot(column=[current_feature], by='HeartDisease', ax=ax)\n",
    "    figure_index += 1\n",
    "\n",
    "# Histogram\n",
    "for current_feature in numerical_features:\n",
    "    ax = figure_distribution.add_subplot(2, 4, figure_index)\n",
    "    for has_heart_disease, group in heart_dataset_preprocessed.groupby('HeartDisease'):\n",
    "        # plot the data points for the current group and feature combination\n",
    "        ax.hist(group[current_feature], label=has_heart_disease)\n",
    "        ax.set_xlabel(current_feature)\n",
    "        ax.legend()\n",
    "    figure_index += 1\n",
    "\n",
    "plt.suptitle('')\n",
    "plt.show()"
   ],
   "metadata": {
    "collapsed": false,
    "pycharm": {
     "is_executing": true
    }
   }
  },
  {
   "cell_type": "markdown",
   "source": [
    "**Conclusion**\n",
    "\n",
    "The features BMI and SleepTime are approximately normal distributed - PhysicalHealth and MentalHealth do not have a normal distribution."
   ],
   "metadata": {
    "collapsed": false
   }
  },
  {
   "cell_type": "code",
   "execution_count": null,
   "outputs": [],
   "source": [
    "# Plot scatters of numerical features\n",
    "figure_scatter = plt.figure(figsize=(15, 8))\n",
    "figure_index = 1\n",
    "\n",
    "# Create all possible combinations of the numerical features\n",
    "combinations = itertools.combinations(numerical_features, 2)\n",
    "\n",
    "# Go through all combinations and create one plot for each\n",
    "for combination in combinations:\n",
    "    # Add a subplot to the figure\n",
    "    axs = figure_scatter.add_subplot(2, 3, figure_index)\n",
    "    axs.scatter(heart_dataset_preprocessed[combination[0]],\n",
    "                heart_dataset_preprocessed[combination[1]])\n",
    "    # Set the axis labels of the current subplot\n",
    "    axs.set_xlabel(combination[0])\n",
    "    axs.set_ylabel(combination[1])\n",
    "    # Increase the figure index (otherwise all plots are drawn in the first subplot)\n",
    "    figure_index += 1\n",
    "\n",
    "plt.tight_layout()\n",
    "plt.show()"
   ],
   "metadata": {
    "collapsed": false,
    "pycharm": {
     "is_executing": true
    }
   }
  },
  {
   "cell_type": "markdown",
   "source": [
    "**Conclusion**\n",
    "\n",
    "No significant correlation exists between the numerical features."
   ],
   "metadata": {
    "collapsed": false
   }
  },
  {
   "cell_type": "markdown",
   "metadata": {},
   "source": [
    "For every column a histogram is printed having each state of having a heart disease as a separate color"
   ]
  },
  {
   "cell_type": "code",
   "execution_count": null,
   "metadata": {
    "pycharm": {
     "is_executing": true
    }
   },
   "outputs": [],
   "source": [
    "all_features = heart_dataset_preprocessed.columns[1:]\n",
    "\n",
    "figure_histograms = plt.figure(figsize=(15, 20))\n",
    "\n",
    "figure_index = 1\n",
    "for current_feature in all_features:\n",
    "    ax = figure_histograms.add_subplot(6, 4, figure_index)\n",
    "    for has_heart_disease, group in heart_dataset_preprocessed.groupby('HeartDisease'):\n",
    "        # plot the data points for the current group and feature combination\n",
    "        ax.hist(group[current_feature], label=has_heart_disease)\n",
    "        ax.set_xlabel(current_feature)\n",
    "        ax.legend()\n",
    "    figure_index += 1\n",
    "\n",
    "plt.tight_layout()\n",
    "plt.show()"
   ]
  },
  {
   "cell_type": "code",
   "execution_count": null,
   "metadata": {
    "pycharm": {
     "is_executing": true
    }
   },
   "outputs": [],
   "source": [
    "heart_dataset_preprocessed_corr = heart_dataset_preprocessed.corr()\n",
    "display(heart_dataset_preprocessed_corr.head())\n",
    "\n",
    "mask = np.triu(np.ones_like(heart_dataset_preprocessed_corr, dtype=bool))\n",
    "plt.figure(figsize = (10,10))\n",
    "display(sns.heatmap(heart_dataset_preprocessed_corr, mask=mask, vmin=-1, vmax=1, cmap=\"seismic\", annot=True, annot_kws={\"size\": 7}))"
   ]
  },
  {
   "cell_type": "markdown",
   "metadata": {},
   "source": [
    "For every pair there is a pair plot generated"
   ]
  },
  {
   "cell_type": "code",
   "execution_count": null,
   "metadata": {
    "pycharm": {
     "is_executing": true
    }
   },
   "outputs": [],
   "source": [
    "columns_for_pair_plot = [\"HeartDisease\", \"Stroke\"] + numerical_features\n",
    "\n",
    "equally_distributed_dataset = heart_dataset_preprocessed.loc[heart_dataset_preprocessed[\"HeartDisease\"] == 1, columns_for_pair_plot].sample(n=1000, random_state=42)\n",
    "equally_distributed_dataset = pd.concat([equally_distributed_dataset, heart_dataset_preprocessed.loc[heart_dataset_preprocessed[\"HeartDisease\"] == 0, columns_for_pair_plot].sample(n=1000, random_state=42)])\n",
    "\n",
    "hue_order= [0, 1]\n",
    "display(sns.pairplot(equally_distributed_dataset, hue=\"HeartDisease\", hue_order=hue_order, corner=True, plot_kws={'alpha': 0.5}))"
   ]
  },
  {
   "cell_type": "code",
   "execution_count": null,
   "metadata": {
    "pycharm": {
     "is_executing": true
    }
   },
   "outputs": [],
   "source": [
    "subset_data = heart_dataset_preprocessed.sample(n=1000, random_state=42)\n",
    "\n",
    "ax = sns.violinplot(data=subset_data, x=\"HeartDisease\", y=\"BMI\")\n",
    "ax.set(ylabel=\"\")"
   ]
  },
  {
   "cell_type": "code",
   "execution_count": null,
   "metadata": {
    "pycharm": {
     "is_executing": true
    }
   },
   "outputs": [],
   "source": [
    "sns.swarmplot(data=subset_data, x=\"GenHealth\", y=\"PhysicalHealth\", hue=\"HeartDisease\", size=3)"
   ]
  },
  {
   "cell_type": "code",
   "execution_count": null,
   "metadata": {
    "pycharm": {
     "is_executing": true
    }
   },
   "outputs": [],
   "source": [
    "fig, ax = plt.subplots(figsize=(15, 10))\n",
    "sns.violinplot(data=subset_data, x=\"GenHealth\", y=\"PhysicalHealth\", hue=\"HeartDisease\", split=True, inner=\"quart\", linewidth=1, cut=0)"
   ]
  },
  {
   "cell_type": "code",
   "execution_count": null,
   "metadata": {
    "pycharm": {
     "is_executing": true
    }
   },
   "outputs": [],
   "source": [
    "fig, ax = plt.subplots(figsize=(10, 10))\n",
    "sns.violinplot(data=subset_data, x=\"GenHealth\", y=\"MentalHealth\", hue=\"HeartDisease\", split=True, inner=\"quart\", linewidth=1, cut=0)"
   ]
  },
  {
   "cell_type": "code",
   "execution_count": null,
   "metadata": {
    "pycharm": {
     "is_executing": true
    }
   },
   "outputs": [],
   "source": [
    "fig, ax = plt.subplots(figsize=(15, 10))\n",
    "sns.violinplot(data=subset_data, x=\"DiffWalking\", y=\"PhysicalHealth\", hue=\"HeartDisease\", split=True, inner=\"quart\", linewidth=1, cut=0)"
   ]
  },
  {
   "cell_type": "code",
   "execution_count": null,
   "metadata": {
    "pycharm": {
     "is_executing": true
    }
   },
   "outputs": [],
   "source": [
    "sns.displot(\n",
    "    data=subset_data,\n",
    "    x=\"AgeCategoryAvg\", hue=\"GenHealth\",\n",
    "    kind=\"kde\", multiple=\"fill\", clip=(0,1), palette=\"ch:rot=-.25,hue=1,light=.75\",\n",
    ")"
   ]
  },
  {
   "cell_type": "code",
   "execution_count": null,
   "metadata": {
    "pycharm": {
     "is_executing": true
    }
   },
   "outputs": [],
   "source": [
    "fig, ax = plt.subplots(figsize=(10, 10))\n",
    "sns.kdeplot(data=heart_dataset_preprocessed.loc[heart_dataset_preprocessed[\"HeartDisease\"] == 1, :], x=\"AgeCategoryAvg\", bw_adjust=4, ax=ax, cut=0, label=\"Heart Disease\", color=\"red\", fill=True)\n",
    "sns.kdeplot(data=heart_dataset_preprocessed.loc[heart_dataset_preprocessed[\"HeartDisease\"] == 0, :], x=\"AgeCategoryAvg\", bw_adjust=4, ax=ax, cut=0, label=\"No Heart Disease\", color=\"green\", fill=True)\n",
    "\n",
    "ax.legend()\n",
    "plt.tight_layout()\n",
    "plt.show()"
   ]
  },
  {
   "cell_type": "markdown",
   "source": [
    "## Feature Selection\n",
    "\n",
    "Our dataset has many features. A core aspect of preprocessing is feature selection. Based on the previous visualization and the conclusions derived from it, unimportant features are now removed and new features are created by using the interaction effect."
   ],
   "metadata": {
    "collapsed": false
   }
  },
  {
   "cell_type": "code",
   "execution_count": null,
   "outputs": [],
   "source": [
    "# TODO: implement feature selection\n",
    "# maybe drop one Race column and one diabetic column as over-specified if all those are taken into the model"
   ],
   "metadata": {
    "collapsed": false,
    "pycharm": {
     "is_executing": true
    }
   }
  },
  {
   "cell_type": "markdown",
   "source": [
    "Now we are through with the preprocessing and can save the preprocessed dataset."
   ],
   "metadata": {
    "collapsed": false
   }
  },
  {
   "cell_type": "code",
   "execution_count": null,
   "outputs": [],
   "source": [
    "# Save preprocessed data\n",
    "filepath = Path('./heart_dataset_preprocessed.csv')\n",
    "heart_dataset_preprocessed.to_csv(filepath, index=False)"
   ],
   "metadata": {
    "collapsed": false,
    "pycharm": {
     "is_executing": true
    }
   }
  }
 ],
 "metadata": {
  "kernelspec": {
   "display_name": "Python 3",
   "language": "python",
   "name": "python3"
  },
  "language_info": {
   "codemirror_mode": {
    "name": "ipython",
    "version": 3
   },
   "file_extension": ".py",
   "mimetype": "text/x-python",
   "name": "python",
   "nbconvert_exporter": "python",
   "pygments_lexer": "ipython3",
   "version": "3.8.3"
  },
  "vscode": {
   "interpreter": {
    "hash": "26de051ba29f2982a8de78e945f0abaf191376122a1563185a90213a26c5da77"
   }
  }
 },
 "nbformat": 4,
 "nbformat_minor": 4
}
